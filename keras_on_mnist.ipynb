{
  "nbformat": 4,
  "nbformat_minor": 0,
  "metadata": {
    "colab": {
      "name": "khandewalshivam@gmail.com_29.ipython",
      "provenance": [],
      "collapsed_sections": []
    },
    "kernelspec": {
      "name": "python3",
      "display_name": "Python 3"
    }
  },
  "cells": [
    {
      "cell_type": "markdown",
      "metadata": {
        "id": "wGkPt5BMOcEt",
        "colab_type": "text"
      },
      "source": [
        "## **mnist**"
      ]
    },
    {
      "cell_type": "code",
      "metadata": {
        "id": "l5QIQU0j1c-1",
        "colab_type": "code",
        "colab": {
          "base_uri": "https://localhost:8080/",
          "height": 80
        },
        "outputId": "ddc80d09-7b8a-4d9d-bdbe-ac7a5adfe418"
      },
      "source": [
        "# if you keras is not using tensorflow as backend set \"KERAS_BACKEND=tensorflow\" use this command\n",
        "from keras.utils import np_utils \n",
        "from keras.datasets import mnist \n",
        "import seaborn as sns\n",
        "%matplotlib notebook\n",
        "import matplotlib.pyplot as plt\n",
        "from keras.initializers import he_normal"
      ],
      "execution_count": 2,
      "outputs": [
        {
          "output_type": "stream",
          "text": [
            "Using TensorFlow backend.\n"
          ],
          "name": "stderr"
        },
        {
          "output_type": "display_data",
          "data": {
            "text/html": [
              "<p style=\"color: red;\">\n",
              "The default version of TensorFlow in Colab will soon switch to TensorFlow 2.x.<br>\n",
              "We recommend you <a href=\"https://www.tensorflow.org/guide/migrate\" target=\"_blank\">upgrade</a> now \n",
              "or ensure your notebook will continue to use TensorFlow 1.x via the <code>%tensorflow_version 1.x</code> magic:\n",
              "<a href=\"https://colab.research.google.com/notebooks/tensorflow_version.ipynb\" target=\"_blank\">more info</a>.</p>\n"
            ],
            "text/plain": [
              "<IPython.core.display.HTML object>"
            ]
          },
          "metadata": {
            "tags": []
          }
        }
      ]
    },
    {
      "cell_type": "code",
      "metadata": {
        "id": "uciRvI171l3Y",
        "colab_type": "code",
        "colab": {}
      },
      "source": [
        "%matplotlib inline \n",
        "import matplotlib.pyplot as plt\n",
        "import numpy as np\n",
        "import time\n",
        "# https://gist.github.com/greydanus/f6eee59eaf1d90fcb3b534a25362cea4\n",
        "# https://stackoverflow.com/a/14434334\n",
        "# this function is used to update the plots for each epoch and error\n",
        "def plt_dynamic(x, vy, ty, ax, colors=['b']):\n",
        "    ax.plot(x, vy, 'b', label=\"Validation Loss\")\n",
        "    ax.plot(x, ty, 'r', label=\"Train Loss\")\n",
        "    plt.legend()\n",
        "    plt.grid()\n",
        "    fig.canvas.draw()"
      ],
      "execution_count": 0,
      "outputs": []
    },
    {
      "cell_type": "code",
      "metadata": {
        "id": "9ej6VXBu1o6o",
        "colab_type": "code",
        "colab": {
          "base_uri": "https://localhost:8080/",
          "height": 51
        },
        "outputId": "ca7fc1c2-9589-4ccb-8ab3-b8afec3e4c2e"
      },
      "source": [
        "# the data, shuffled and split between train and test sets \n",
        "(X_train, y_train), (X_test, y_test) = mnist.load_data()"
      ],
      "execution_count": 4,
      "outputs": [
        {
          "output_type": "stream",
          "text": [
            "Downloading data from https://s3.amazonaws.com/img-datasets/mnist.npz\n",
            "11493376/11490434 [==============================] - 0s 0us/step\n"
          ],
          "name": "stdout"
        }
      ]
    },
    {
      "cell_type": "code",
      "metadata": {
        "id": "q3eSdaoi1pWx",
        "colab_type": "code",
        "outputId": "2ba855a8-1809-4a2c-9843-601331faceea",
        "colab": {
          "base_uri": "https://localhost:8080/",
          "height": 51
        }
      },
      "source": [
        "# to get number of train and test points\n",
        "print(\"Number of training examples :\", X_train.shape[0], \"and each image is of shape (%d, %d)\"%(X_train.shape[1], X_train.shape[2]))\n",
        "print(\"Number of training examples :\", X_test.shape[0], \"and each image is of shape (%d, %d)\"%(X_test.shape[1], X_test.shape[2]))"
      ],
      "execution_count": 5,
      "outputs": [
        {
          "output_type": "stream",
          "text": [
            "Number of training examples : 60000 and each image is of shape (28, 28)\n",
            "Number of training examples : 10000 and each image is of shape (28, 28)\n"
          ],
          "name": "stdout"
        }
      ]
    },
    {
      "cell_type": "code",
      "metadata": {
        "id": "3L-awURb1pSq",
        "colab_type": "code",
        "colab": {}
      },
      "source": [
        "# if you observe the input shape its 2 dimensional vector\n",
        "# for each image we have a (28*28) vector\n",
        "# we will convert the (28*28) vector into single dimensional vector of 1 * 784 \n",
        "\n",
        "X_train = X_train.reshape(X_train.shape[0], X_train.shape[1]*X_train.shape[2]) \n",
        "X_test = X_test.reshape(X_test.shape[0], X_test.shape[1]*X_test.shape[2]) "
      ],
      "execution_count": 0,
      "outputs": []
    },
    {
      "cell_type": "code",
      "metadata": {
        "id": "glSkGIuM1pOL",
        "colab_type": "code",
        "outputId": "2cb04aab-467d-4092-e136-0639a6696618",
        "colab": {
          "base_uri": "https://localhost:8080/",
          "height": 51
        }
      },
      "source": [
        "# after converting the input images from 3d to 2d vectors\n",
        "\n",
        "print(\"Number of training examples :\", X_train.shape[0], \"and each image is of shape (%d)\"%(X_train.shape[1]))\n",
        "print(\"Number of training examples :\", X_test.shape[0], \"and each image is of shape (%d)\"%(X_test.shape[1]))"
      ],
      "execution_count": 7,
      "outputs": [
        {
          "output_type": "stream",
          "text": [
            "Number of training examples : 60000 and each image is of shape (784)\n",
            "Number of training examples : 10000 and each image is of shape (784)\n"
          ],
          "name": "stdout"
        }
      ]
    },
    {
      "cell_type": "code",
      "metadata": {
        "id": "4GnR7lnP1pH9",
        "colab_type": "code",
        "outputId": "4d3ba8cf-231f-4b24-ca7e-3760f0fffa8f",
        "colab": {
          "base_uri": "https://localhost:8080/",
          "height": 765
        }
      },
      "source": [
        "# An example data point\n",
        "print(X_train[0])"
      ],
      "execution_count": 7,
      "outputs": [
        {
          "output_type": "stream",
          "text": [
            "[  0   0   0   0   0   0   0   0   0   0   0   0   0   0   0   0   0   0\n",
            "   0   0   0   0   0   0   0   0   0   0   0   0   0   0   0   0   0   0\n",
            "   0   0   0   0   0   0   0   0   0   0   0   0   0   0   0   0   0   0\n",
            "   0   0   0   0   0   0   0   0   0   0   0   0   0   0   0   0   0   0\n",
            "   0   0   0   0   0   0   0   0   0   0   0   0   0   0   0   0   0   0\n",
            "   0   0   0   0   0   0   0   0   0   0   0   0   0   0   0   0   0   0\n",
            "   0   0   0   0   0   0   0   0   0   0   0   0   0   0   0   0   0   0\n",
            "   0   0   0   0   0   0   0   0   0   0   0   0   0   0   0   0   0   0\n",
            "   0   0   0   0   0   0   0   0   3  18  18  18 126 136 175  26 166 255\n",
            " 247 127   0   0   0   0   0   0   0   0   0   0   0   0  30  36  94 154\n",
            " 170 253 253 253 253 253 225 172 253 242 195  64   0   0   0   0   0   0\n",
            "   0   0   0   0   0  49 238 253 253 253 253 253 253 253 253 251  93  82\n",
            "  82  56  39   0   0   0   0   0   0   0   0   0   0   0   0  18 219 253\n",
            " 253 253 253 253 198 182 247 241   0   0   0   0   0   0   0   0   0   0\n",
            "   0   0   0   0   0   0   0   0  80 156 107 253 253 205  11   0  43 154\n",
            "   0   0   0   0   0   0   0   0   0   0   0   0   0   0   0   0   0   0\n",
            "   0  14   1 154 253  90   0   0   0   0   0   0   0   0   0   0   0   0\n",
            "   0   0   0   0   0   0   0   0   0   0   0   0   0 139 253 190   2   0\n",
            "   0   0   0   0   0   0   0   0   0   0   0   0   0   0   0   0   0   0\n",
            "   0   0   0   0   0  11 190 253  70   0   0   0   0   0   0   0   0   0\n",
            "   0   0   0   0   0   0   0   0   0   0   0   0   0   0   0   0  35 241\n",
            " 225 160 108   1   0   0   0   0   0   0   0   0   0   0   0   0   0   0\n",
            "   0   0   0   0   0   0   0   0   0  81 240 253 253 119  25   0   0   0\n",
            "   0   0   0   0   0   0   0   0   0   0   0   0   0   0   0   0   0   0\n",
            "   0   0  45 186 253 253 150  27   0   0   0   0   0   0   0   0   0   0\n",
            "   0   0   0   0   0   0   0   0   0   0   0   0   0  16  93 252 253 187\n",
            "   0   0   0   0   0   0   0   0   0   0   0   0   0   0   0   0   0   0\n",
            "   0   0   0   0   0   0   0 249 253 249  64   0   0   0   0   0   0   0\n",
            "   0   0   0   0   0   0   0   0   0   0   0   0   0   0  46 130 183 253\n",
            " 253 207   2   0   0   0   0   0   0   0   0   0   0   0   0   0   0   0\n",
            "   0   0   0   0  39 148 229 253 253 253 250 182   0   0   0   0   0   0\n",
            "   0   0   0   0   0   0   0   0   0   0   0   0  24 114 221 253 253 253\n",
            " 253 201  78   0   0   0   0   0   0   0   0   0   0   0   0   0   0   0\n",
            "   0   0  23  66 213 253 253 253 253 198  81   2   0   0   0   0   0   0\n",
            "   0   0   0   0   0   0   0   0   0   0  18 171 219 253 253 253 253 195\n",
            "  80   9   0   0   0   0   0   0   0   0   0   0   0   0   0   0   0   0\n",
            "  55 172 226 253 253 253 253 244 133  11   0   0   0   0   0   0   0   0\n",
            "   0   0   0   0   0   0   0   0   0   0 136 253 253 253 212 135 132  16\n",
            "   0   0   0   0   0   0   0   0   0   0   0   0   0   0   0   0   0   0\n",
            "   0   0   0   0   0   0   0   0   0   0   0   0   0   0   0   0   0   0\n",
            "   0   0   0   0   0   0   0   0   0   0   0   0   0   0   0   0   0   0\n",
            "   0   0   0   0   0   0   0   0   0   0   0   0   0   0   0   0   0   0\n",
            "   0   0   0   0   0   0   0   0   0   0   0   0   0   0   0   0   0   0\n",
            "   0   0   0   0   0   0   0   0   0   0]\n"
          ],
          "name": "stdout"
        }
      ]
    },
    {
      "cell_type": "code",
      "metadata": {
        "id": "40faY1Qd1mM5",
        "colab_type": "code",
        "colab": {}
      },
      "source": [
        "# if we observe the above matrix each cell is having a value between 0-255\n",
        "# before we move to apply machine learning algorithms lets try to normalize the data\n",
        "# X => (X - Xmin)/(Xmax-Xmin) = X/255\n",
        "\n",
        "X_train = X_train/255\n",
        "X_test = X_test/255"
      ],
      "execution_count": 0,
      "outputs": []
    },
    {
      "cell_type": "code",
      "metadata": {
        "id": "wvXMNe-32nU6",
        "colab_type": "code",
        "outputId": "086c8f4b-0c74-4b4e-a20c-3576720775eb",
        "colab": {
          "base_uri": "https://localhost:8080/",
          "height": 51
        }
      },
      "source": [
        "# here we are having a class number for each image\n",
        "print(\"Class label of first image :\", y_train[0])\n",
        "\n",
        "# lets convert this into a 10 dimensional vector\n",
        "# ex: consider an image is 5 convert it into 5 => [0, 0, 0, 0, 0, 1, 0, 0, 0, 0]\n",
        "# this conversion needed for MLPs \n",
        "\n",
        "Y_train = np_utils.to_categorical(y_train, 10) \n",
        "Y_test = np_utils.to_categorical(y_test, 10)\n",
        "\n",
        "print(\"After converting the output into a vector : \",Y_train[0])"
      ],
      "execution_count": 9,
      "outputs": [
        {
          "output_type": "stream",
          "text": [
            "Class label of first image : 5\n",
            "After converting the output into a vector :  [0. 0. 0. 0. 0. 1. 0. 0. 0. 0.]\n"
          ],
          "name": "stdout"
        }
      ]
    },
    {
      "cell_type": "code",
      "metadata": {
        "id": "1_US82aq2ntI",
        "colab_type": "code",
        "colab": {}
      },
      "source": [
        "from keras.models import Sequential \n",
        "from keras.layers import Dense, Activation"
      ],
      "execution_count": 0,
      "outputs": []
    },
    {
      "cell_type": "code",
      "metadata": {
        "id": "n_XwNmYV2n7g",
        "colab_type": "code",
        "colab": {}
      },
      "source": [
        "# some model parameters\n",
        "\n",
        "output_dim = 10 # output layer\n",
        "input_dim = X_train.shape[1]# 784 \n",
        "\n",
        "batch_size = 128 # batch size\n",
        "nb_epoch = 20# epoch"
      ],
      "execution_count": 0,
      "outputs": []
    },
    {
      "cell_type": "code",
      "metadata": {
        "id": "0F9IYm3X2oKL",
        "colab_type": "code",
        "outputId": "93d15155-7f39-47df-9883-07dc7ee0363d",
        "colab": {
          "base_uri": "https://localhost:8080/",
          "height": 34
        }
      },
      "source": [
        " X_train.shape[1]"
      ],
      "execution_count": 12,
      "outputs": [
        {
          "output_type": "execute_result",
          "data": {
            "text/plain": [
              "784"
            ]
          },
          "metadata": {
            "tags": []
          },
          "execution_count": 12
        }
      ]
    },
    {
      "cell_type": "markdown",
      "metadata": {
        "id": "Fo2Zg6c92JFS",
        "colab_type": "text"
      },
      "source": [
        "## **2 layer without dropout and batchnormal**"
      ]
    },
    {
      "cell_type": "code",
      "metadata": {
        "id": "E2qrIWfd2GU3",
        "colab_type": "code",
        "colab": {}
      },
      "source": [
        "#he_normal(seed=None)\n",
        "model_relu = Sequential()\n",
        "model_relu.add(Dense(500, activation='relu', input_shape=(input_dim,), kernel_initializer=he_normal(seed=None)))\n",
        "model_relu.add(Dense(224, activation='relu', kernel_initializer=he_normal(seed=None)) )\n",
        "#model_relu.add(Dense(50, activation='relu', kernel_initializer=he_normal(seed=None)) )\n",
        "model_relu.add(Dense(output_dim, activation='softmax'))"
      ],
      "execution_count": 0,
      "outputs": []
    },
    {
      "cell_type": "code",
      "metadata": {
        "id": "yYlr47fo2GmV",
        "colab_type": "code",
        "colab": {
          "base_uri": "https://localhost:8080/",
          "height": 714
        },
        "outputId": "f5bf551a-e836-4567-b057-89f96d608f18"
      },
      "source": [
        "model_relu.compile(optimizer='adam', loss='categorical_crossentropy', metrics=['accuracy']) ## optimizer ==adam\n",
        "\n",
        "history = model_relu.fit(X_train, Y_train, batch_size=batch_size, epochs=nb_epoch, verbose=1, validation_data=(X_test, Y_test))"
      ],
      "execution_count": 30,
      "outputs": [
        {
          "output_type": "stream",
          "text": [
            "Train on 60000 samples, validate on 10000 samples\n",
            "Epoch 1/20\n",
            "60000/60000 [==============================] - 8s 131us/step - loss: 0.2231 - acc: 0.9352 - val_loss: 0.1060 - val_acc: 0.9671\n",
            "Epoch 2/20\n",
            "60000/60000 [==============================] - 7s 120us/step - loss: 0.0821 - acc: 0.9750 - val_loss: 0.0771 - val_acc: 0.9765\n",
            "Epoch 3/20\n",
            "60000/60000 [==============================] - 7s 120us/step - loss: 0.0523 - acc: 0.9839 - val_loss: 0.0663 - val_acc: 0.9796\n",
            "Epoch 4/20\n",
            "60000/60000 [==============================] - 7s 120us/step - loss: 0.0345 - acc: 0.9889 - val_loss: 0.0698 - val_acc: 0.9776\n",
            "Epoch 5/20\n",
            "60000/60000 [==============================] - 7s 120us/step - loss: 0.0253 - acc: 0.9916 - val_loss: 0.0713 - val_acc: 0.9787\n",
            "Epoch 6/20\n",
            "60000/60000 [==============================] - 7s 119us/step - loss: 0.0203 - acc: 0.9932 - val_loss: 0.0729 - val_acc: 0.9792\n",
            "Epoch 7/20\n",
            "60000/60000 [==============================] - 7s 118us/step - loss: 0.0156 - acc: 0.9947 - val_loss: 0.0766 - val_acc: 0.9782\n",
            "Epoch 8/20\n",
            "60000/60000 [==============================] - 7s 120us/step - loss: 0.0173 - acc: 0.9942 - val_loss: 0.0790 - val_acc: 0.9788\n",
            "Epoch 9/20\n",
            "60000/60000 [==============================] - 7s 120us/step - loss: 0.0141 - acc: 0.9954 - val_loss: 0.0801 - val_acc: 0.9801\n",
            "Epoch 10/20\n",
            "60000/60000 [==============================] - 7s 120us/step - loss: 0.0121 - acc: 0.9959 - val_loss: 0.0838 - val_acc: 0.9800\n",
            "Epoch 11/20\n",
            "60000/60000 [==============================] - 7s 119us/step - loss: 0.0122 - acc: 0.9957 - val_loss: 0.0850 - val_acc: 0.9796\n",
            "Epoch 12/20\n",
            "60000/60000 [==============================] - 7s 119us/step - loss: 0.0100 - acc: 0.9965 - val_loss: 0.0716 - val_acc: 0.9836\n",
            "Epoch 13/20\n",
            "60000/60000 [==============================] - 7s 119us/step - loss: 0.0092 - acc: 0.9969 - val_loss: 0.0787 - val_acc: 0.9808\n",
            "Epoch 14/20\n",
            "60000/60000 [==============================] - 7s 120us/step - loss: 0.0109 - acc: 0.9964 - val_loss: 0.1071 - val_acc: 0.9753\n",
            "Epoch 15/20\n",
            "60000/60000 [==============================] - 7s 119us/step - loss: 0.0083 - acc: 0.9974 - val_loss: 0.0846 - val_acc: 0.9825\n",
            "Epoch 16/20\n",
            "60000/60000 [==============================] - 7s 120us/step - loss: 0.0061 - acc: 0.9980 - val_loss: 0.0912 - val_acc: 0.9810\n",
            "Epoch 17/20\n",
            "60000/60000 [==============================] - 7s 120us/step - loss: 0.0105 - acc: 0.9966 - val_loss: 0.0965 - val_acc: 0.9794\n",
            "Epoch 18/20\n",
            "60000/60000 [==============================] - 7s 122us/step - loss: 0.0057 - acc: 0.9983 - val_loss: 0.0759 - val_acc: 0.9849\n",
            "Epoch 19/20\n",
            "60000/60000 [==============================] - 7s 122us/step - loss: 0.0084 - acc: 0.9973 - val_loss: 0.1060 - val_acc: 0.9804\n",
            "Epoch 20/20\n",
            "60000/60000 [==============================] - 7s 122us/step - loss: 0.0081 - acc: 0.9974 - val_loss: 0.0783 - val_acc: 0.9832\n"
          ],
          "name": "stdout"
        }
      ]
    },
    {
      "cell_type": "code",
      "metadata": {
        "id": "qA-XbUAP2HZt",
        "colab_type": "code",
        "colab": {
          "base_uri": "https://localhost:8080/",
          "height": 313
        },
        "outputId": "e6b0914a-e531-45e8-ec81-422e664c3e50"
      },
      "source": [
        "score = model_relu.evaluate(X_test, Y_test, verbose=0) \n",
        "print('Test score:', score[0]) \n",
        "print('Test accuracy:', score[1])\n",
        "\n",
        "fig,ax = plt.subplots(1,1)\n",
        "ax.set_xlabel('epoch') ; ax.set_ylabel('Categorical Crossentropy Loss')\n",
        "\n",
        "# list of epoch numbers\n",
        "x = list(range(1,nb_epoch+1))\n",
        "\n",
        "# print(history.history.keys())\n",
        "# dict_keys(['val_loss', 'val_acc', 'loss', 'acc'])\n",
        "# history = model_drop.fit(X_train, Y_train, batch_size=batch_size, epochs=nb_epoch, verbose=1, validation_data=(X_test, Y_test))\n",
        "\n",
        "# we will get val_loss and val_acc only when you pass the paramter validation_data\n",
        "# val_loss : validation loss\n",
        "# val_acc : validation accuracy\n",
        "\n",
        "# loss : training loss\n",
        "# acc : train accuracy\n",
        "# for each key in histrory.histrory we will have a list of length equal to number of epochs\n",
        "\n",
        "vy = history.history['val_loss']\n",
        "ty = history.history['loss']\n",
        "plt_dynamic(x, vy, ty, ax)"
      ],
      "execution_count": 31,
      "outputs": [
        {
          "output_type": "stream",
          "text": [
            "Test score: 0.07829980347480105\n",
            "Test accuracy: 0.9832\n"
          ],
          "name": "stdout"
        },
        {
          "output_type": "display_data",
          "data": {
            "image/png": "[encoded data removed]",
            "text/plain": [
              "<Figure size 432x288 with 1 Axes>"
            ]
          },
          "metadata": {
            "tags": []
          }
        }
      ]
    },
    {
      "cell_type": "markdown",
      "metadata": {
        "id": "k5qK3eYR3JNn",
        "colab_type": "text"
      },
      "source": [
        "## **2 layer without drop out with batch norm**"
      ]
    },
    {
      "cell_type": "code",
      "metadata": {
        "id": "zEt7_NYe2HoG",
        "colab_type": "code",
        "colab": {}
      },
      "source": [
        "from keras.layers.normalization import BatchNormalization\n",
        "\n",
        "model_batch = Sequential()\n",
        "\n",
        "model_batch.add(Dense(500, activation='relu', input_shape=(input_dim,), kernel_initializer=he_normal(seed=None)))\n",
        "model_batch.add(BatchNormalization())\n",
        "\n",
        "model_batch.add(Dense(224, activation='relu', kernel_initializer=he_normal(seed=None)) )\n",
        "model_batch.add(BatchNormalization())\n",
        "\n",
        "\n",
        "\n",
        "model_batch.add(Dense(output_dim, activation='softmax'))"
      ],
      "execution_count": 0,
      "outputs": []
    },
    {
      "cell_type": "code",
      "metadata": {
        "id": "X-l9zgYh4PMa",
        "colab_type": "code",
        "colab": {
          "base_uri": "https://localhost:8080/",
          "height": 714
        },
        "outputId": "1d8abe58-51b9-4422-aff5-55892bf2a093"
      },
      "source": [
        "model_batch.compile(optimizer='adam', loss='categorical_crossentropy', metrics=['accuracy']) ## optimizer ==adam\n",
        "\n",
        "history = model_batch.fit(X_train, Y_train, batch_size=batch_size, epochs=nb_epoch, verbose=1, validation_data=(X_test, Y_test))"
      ],
      "execution_count": 34,
      "outputs": [
        {
          "output_type": "stream",
          "text": [
            "Train on 60000 samples, validate on 10000 samples\n",
            "Epoch 1/20\n",
            "60000/60000 [==============================] - 9s 153us/step - loss: 0.1852 - acc: 0.9443 - val_loss: 0.1001 - val_acc: 0.9700\n",
            "Epoch 2/20\n",
            "60000/60000 [==============================] - 8s 134us/step - loss: 0.0686 - acc: 0.9789 - val_loss: 0.0817 - val_acc: 0.9763\n",
            "Epoch 3/20\n",
            "60000/60000 [==============================] - 8s 138us/step - loss: 0.0445 - acc: 0.9862 - val_loss: 0.0791 - val_acc: 0.9753\n",
            "Epoch 4/20\n",
            "60000/60000 [==============================] - 8s 136us/step - loss: 0.0340 - acc: 0.9890 - val_loss: 0.0786 - val_acc: 0.9772\n",
            "Epoch 5/20\n",
            "60000/60000 [==============================] - 8s 139us/step - loss: 0.0262 - acc: 0.9915 - val_loss: 0.0780 - val_acc: 0.9771\n",
            "Epoch 6/20\n",
            "60000/60000 [==============================] - 8s 136us/step - loss: 0.0214 - acc: 0.9930 - val_loss: 0.0754 - val_acc: 0.9797\n",
            "Epoch 7/20\n",
            "60000/60000 [==============================] - 8s 137us/step - loss: 0.0195 - acc: 0.9935 - val_loss: 0.0724 - val_acc: 0.9798\n",
            "Epoch 8/20\n",
            "60000/60000 [==============================] - 8s 135us/step - loss: 0.0179 - acc: 0.9939 - val_loss: 0.0774 - val_acc: 0.9768\n",
            "Epoch 9/20\n",
            "60000/60000 [==============================] - 8s 136us/step - loss: 0.0158 - acc: 0.9947 - val_loss: 0.0724 - val_acc: 0.9806\n",
            "Epoch 10/20\n",
            "60000/60000 [==============================] - 8s 136us/step - loss: 0.0134 - acc: 0.9957 - val_loss: 0.0725 - val_acc: 0.9815\n",
            "Epoch 11/20\n",
            "60000/60000 [==============================] - 8s 137us/step - loss: 0.0136 - acc: 0.9953 - val_loss: 0.0772 - val_acc: 0.9797\n",
            "Epoch 12/20\n",
            "60000/60000 [==============================] - 8s 136us/step - loss: 0.0097 - acc: 0.9970 - val_loss: 0.0896 - val_acc: 0.9775\n",
            "Epoch 13/20\n",
            "60000/60000 [==============================] - 8s 136us/step - loss: 0.0103 - acc: 0.9966 - val_loss: 0.0708 - val_acc: 0.9819\n",
            "Epoch 14/20\n",
            "60000/60000 [==============================] - 8s 134us/step - loss: 0.0110 - acc: 0.9962 - val_loss: 0.0727 - val_acc: 0.9798\n",
            "Epoch 15/20\n",
            "60000/60000 [==============================] - 8s 136us/step - loss: 0.0112 - acc: 0.9962 - val_loss: 0.0792 - val_acc: 0.9807\n",
            "Epoch 16/20\n",
            "60000/60000 [==============================] - 8s 136us/step - loss: 0.0070 - acc: 0.9976 - val_loss: 0.0738 - val_acc: 0.9829\n",
            "Epoch 17/20\n",
            "60000/60000 [==============================] - 8s 135us/step - loss: 0.0090 - acc: 0.9973 - val_loss: 0.0858 - val_acc: 0.9800\n",
            "Epoch 18/20\n",
            "60000/60000 [==============================] - 8s 133us/step - loss: 0.0057 - acc: 0.9983 - val_loss: 0.0748 - val_acc: 0.9833\n",
            "Epoch 19/20\n",
            "60000/60000 [==============================] - 8s 133us/step - loss: 0.0090 - acc: 0.9970 - val_loss: 0.0783 - val_acc: 0.9804\n",
            "Epoch 20/20\n",
            "60000/60000 [==============================] - 8s 135us/step - loss: 0.0053 - acc: 0.9982 - val_loss: 0.0780 - val_acc: 0.9820\n"
          ],
          "name": "stdout"
        }
      ]
    },
    {
      "cell_type": "code",
      "metadata": {
        "id": "F9LDaJ2v2HSR",
        "colab_type": "code",
        "colab": {
          "base_uri": "https://localhost:8080/",
          "height": 313
        },
        "outputId": "7f275bb6-dd52-4ff5-fb45-bea0c96c4abf"
      },
      "source": [
        "score = model_batch.evaluate(X_test, Y_test, verbose=0) \n",
        "print('Test score:', score[0]) \n",
        "print('Test accuracy:', score[1])\n",
        "\n",
        "fig,ax = plt.subplots(1,1)\n",
        "ax.set_xlabel('epoch') ; ax.set_ylabel('Categorical Crossentropy Loss')\n",
        "\n",
        "# list of epoch numbers\n",
        "x = list(range(1,nb_epoch+1))\n",
        "\n",
        "# print(history.history.keys())\n",
        "# dict_keys(['val_loss', 'val_acc', 'loss', 'acc'])\n",
        "# history = model_drop.fit(X_train, Y_train, batch_size=batch_size, epochs=nb_epoch, verbose=1, validation_data=(X_test, Y_test))\n",
        "\n",
        "# we will get val_loss and val_acc only when you pass the paramter validation_data\n",
        "# val_loss : validation loss\n",
        "# val_acc : validation accuracy\n",
        "\n",
        "# loss : training loss\n",
        "# acc : train accuracy\n",
        "# for each key in histrory.histrory we will have a list of length equal to number of epochs\n",
        "\n",
        "vy = history.history['val_loss']\n",
        "ty = history.history['loss']\n",
        "plt_dynamic(x, vy, ty, ax)"
      ],
      "execution_count": 35,
      "outputs": [
        {
          "output_type": "stream",
          "text": [
            "Test score: 0.0779731295770489\n",
            "Test accuracy: 0.982\n"
          ],
          "name": "stdout"
        },
        {
          "output_type": "display_data",
          "data": {
            "image/png": "[encoded data removed]",
            "text/plain": [
              "<Figure size 432x288 with 1 Axes>"
            ]
          },
          "metadata": {
            "tags": []
          }
        }
      ]
    },
    {
      "cell_type": "markdown",
      "metadata": {
        "id": "SDHeacHu6zJH",
        "colab_type": "text"
      },
      "source": [
        "## **2 layer with drop out without batch norm**"
      ]
    },
    {
      "cell_type": "code",
      "metadata": {
        "id": "l-vkLFjv2HEm",
        "colab_type": "code",
        "colab": {}
      },
      "source": [
        "model_drop = Sequential()\n",
        "\n",
        "model_drop.add(Dense(500, activation='relu', input_shape=(input_dim,), kernel_initializer=he_normal(seed=None)))\n",
        "#model_drop.add(BatchNormalization())\n",
        "model_drop.add(Dropout(rate=0.5))\n",
        "\n",
        "model_drop.add(Dense(224, activation='relu', kernel_initializer=he_normal(seed=None)) )\n",
        "#model_drop.add(BatchNormalization())\n",
        "model_drop.add(Dropout(rate=0.5))\n",
        "\n",
        "\n",
        "\n",
        "model_drop.add(Dense(output_dim, activation='softmax'))"
      ],
      "execution_count": 0,
      "outputs": []
    },
    {
      "cell_type": "code",
      "metadata": {
        "id": "5QiRcAiR2G7A",
        "colab_type": "code",
        "colab": {
          "base_uri": "https://localhost:8080/",
          "height": 714
        },
        "outputId": "81c5658c-2980-4c1b-87ca-6b0ac2579666"
      },
      "source": [
        "model_drop.compile(optimizer='adam', loss='categorical_crossentropy', metrics=['accuracy']) ## optimizer ==adam\n",
        "\n",
        "history = model_drop.fit(X_train, Y_train, batch_size=batch_size, epochs=nb_epoch, verbose=1, validation_data=(X_test, Y_test))"
      ],
      "execution_count": 37,
      "outputs": [
        {
          "output_type": "stream",
          "text": [
            "Train on 60000 samples, validate on 10000 samples\n",
            "Epoch 1/20\n",
            "60000/60000 [==============================] - 9s 149us/step - loss: 0.4279 - acc: 0.8663 - val_loss: 0.1463 - val_acc: 0.9547\n",
            "Epoch 2/20\n",
            "60000/60000 [==============================] - 8s 131us/step - loss: 0.1877 - acc: 0.9439 - val_loss: 0.1010 - val_acc: 0.9681\n",
            "Epoch 3/20\n",
            "60000/60000 [==============================] - 8s 132us/step - loss: 0.1456 - acc: 0.9555 - val_loss: 0.0890 - val_acc: 0.9729\n",
            "Epoch 4/20\n",
            "60000/60000 [==============================] - 8s 131us/step - loss: 0.1229 - acc: 0.9629 - val_loss: 0.0744 - val_acc: 0.9763\n",
            "Epoch 5/20\n",
            "60000/60000 [==============================] - 8s 130us/step - loss: 0.1114 - acc: 0.9657 - val_loss: 0.0733 - val_acc: 0.9785\n",
            "Epoch 6/20\n",
            "60000/60000 [==============================] - 8s 132us/step - loss: 0.0977 - acc: 0.9703 - val_loss: 0.0707 - val_acc: 0.9784\n",
            "Epoch 7/20\n",
            "60000/60000 [==============================] - 8s 131us/step - loss: 0.0875 - acc: 0.9725 - val_loss: 0.0679 - val_acc: 0.9796\n",
            "Epoch 8/20\n",
            "60000/60000 [==============================] - 8s 131us/step - loss: 0.0824 - acc: 0.9746 - val_loss: 0.0605 - val_acc: 0.9814\n",
            "Epoch 9/20\n",
            "60000/60000 [==============================] - 8s 133us/step - loss: 0.0759 - acc: 0.9765 - val_loss: 0.0611 - val_acc: 0.9823\n",
            "Epoch 10/20\n",
            "60000/60000 [==============================] - 8s 129us/step - loss: 0.0690 - acc: 0.9787 - val_loss: 0.0622 - val_acc: 0.9833\n",
            "Epoch 11/20\n",
            "60000/60000 [==============================] - 8s 130us/step - loss: 0.0679 - acc: 0.9791 - val_loss: 0.0648 - val_acc: 0.9808\n",
            "Epoch 12/20\n",
            "60000/60000 [==============================] - 8s 129us/step - loss: 0.0668 - acc: 0.9788 - val_loss: 0.0613 - val_acc: 0.9817\n",
            "Epoch 13/20\n",
            "60000/60000 [==============================] - 8s 133us/step - loss: 0.0634 - acc: 0.9806 - val_loss: 0.0602 - val_acc: 0.9823\n",
            "Epoch 14/20\n",
            "60000/60000 [==============================] - 8s 135us/step - loss: 0.0593 - acc: 0.9819 - val_loss: 0.0583 - val_acc: 0.9822\n",
            "Epoch 15/20\n",
            "60000/60000 [==============================] - 8s 132us/step - loss: 0.0546 - acc: 0.9828 - val_loss: 0.0606 - val_acc: 0.9833\n",
            "Epoch 16/20\n",
            "60000/60000 [==============================] - 8s 133us/step - loss: 0.0557 - acc: 0.9825 - val_loss: 0.0652 - val_acc: 0.9817\n",
            "Epoch 17/20\n",
            "60000/60000 [==============================] - 8s 132us/step - loss: 0.0528 - acc: 0.9833 - val_loss: 0.0611 - val_acc: 0.9834\n",
            "Epoch 18/20\n",
            "60000/60000 [==============================] - 8s 132us/step - loss: 0.0526 - acc: 0.9836 - val_loss: 0.0611 - val_acc: 0.9836\n",
            "Epoch 19/20\n",
            "60000/60000 [==============================] - 8s 132us/step - loss: 0.0500 - acc: 0.9843 - val_loss: 0.0575 - val_acc: 0.9839\n",
            "Epoch 20/20\n",
            "60000/60000 [==============================] - 8s 133us/step - loss: 0.0465 - acc: 0.9854 - val_loss: 0.0671 - val_acc: 0.9829\n"
          ],
          "name": "stdout"
        }
      ]
    },
    {
      "cell_type": "code",
      "metadata": {
        "id": "hDG1-W3w2Gxs",
        "colab_type": "code",
        "colab": {
          "base_uri": "https://localhost:8080/",
          "height": 313
        },
        "outputId": "0da7679e-9599-4c41-de08-dd15ce2ae74d"
      },
      "source": [
        "score = model_drop.evaluate(X_test, Y_test, verbose=0) \n",
        "print('Test score:', score[0]) \n",
        "print('Test accuracy:', score[1])\n",
        "\n",
        "fig,ax = plt.subplots(1,1)\n",
        "ax.set_xlabel('epoch') ; ax.set_ylabel('Categorical Crossentropy Loss')\n",
        "\n",
        "# list of epoch numbers\n",
        "x = list(range(1,nb_epoch+1))\n",
        "\n",
        "# print(history.history.keys())\n",
        "# dict_keys(['val_loss', 'val_acc', 'loss', 'acc'])\n",
        "# history = model_drop.fit(X_train, Y_train, batch_size=batch_size, epochs=nb_epoch, verbose=1, validation_data=(X_test, Y_test))\n",
        "\n",
        "# we will get val_loss and val_acc only when you pass the paramter validation_data\n",
        "# val_loss : validation loss\n",
        "# val_acc : validation accuracy\n",
        "\n",
        "# loss : training loss\n",
        "# acc : train accuracy\n",
        "# for each key in histrory.histrory we will have a list of length equal to number of epochs\n",
        "\n",
        "vy = history.history['val_loss']\n",
        "ty = history.history['loss']\n",
        "plt_dynamic(x, vy, ty, ax)"
      ],
      "execution_count": 38,
      "outputs": [
        {
          "output_type": "stream",
          "text": [
            "Test score: 0.06712127507654286\n",
            "Test accuracy: 0.9829\n"
          ],
          "name": "stdout"
        },
        {
          "output_type": "display_data",
          "data": {
            "image/png": "[encoded data removed]",
            "text/plain": [
              "<Figure size 432x288 with 1 Axes>"
            ]
          },
          "metadata": {
            "tags": []
          }
        }
      ]
    },
    {
      "cell_type": "code",
      "metadata": {
        "id": "FbpuH3Ql7Oeu",
        "colab_type": "code",
        "colab": {}
      },
      "source": [
        ""
      ],
      "execution_count": 0,
      "outputs": []
    },
    {
      "cell_type": "markdown",
      "metadata": {
        "id": "yVnhg-Gu7jev",
        "colab_type": "text"
      },
      "source": [
        "## **2 layer with dropout and batch norm**"
      ]
    },
    {
      "cell_type": "code",
      "metadata": {
        "id": "Ny5pHY9G7QGy",
        "colab_type": "code",
        "colab": {}
      },
      "source": [
        "model_drop = Sequential()\n",
        "\n",
        "model_drop.add(Dense(500, activation='relu', input_shape=(input_dim,), kernel_initializer=he_normal(seed=None)))\n",
        "model_drop.add(BatchNormalization())\n",
        "model_drop.add(Dropout(rate=0.5))\n",
        "\n",
        "model_drop.add(Dense(224, activation='relu', kernel_initializer=he_normal(seed=None)) )\n",
        "model_drop.add(BatchNormalization())\n",
        "model_drop.add(Dropout(rate=0.5))\n",
        "\n",
        "model_drop.add(Dense(output_dim, activation='softmax'))"
      ],
      "execution_count": 0,
      "outputs": []
    },
    {
      "cell_type": "code",
      "metadata": {
        "id": "lPmUTw1o7QA7",
        "colab_type": "code",
        "colab": {
          "base_uri": "https://localhost:8080/",
          "height": 714
        },
        "outputId": "065711b2-47c5-40ac-e293-f9dae126d25f"
      },
      "source": [
        "model_drop.compile(optimizer='adam', loss='categorical_crossentropy', metrics=['accuracy']) ## optimizer ==adam\n",
        "\n",
        "history = model_drop.fit(X_train, Y_train, batch_size=batch_size, epochs=nb_epoch, verbose=1, validation_data=(X_test, Y_test))"
      ],
      "execution_count": 41,
      "outputs": [
        {
          "output_type": "stream",
          "text": [
            "Train on 60000 samples, validate on 10000 samples\n",
            "Epoch 1/20\n",
            "60000/60000 [==============================] - 11s 175us/step - loss: 0.4112 - acc: 0.8749 - val_loss: 0.1343 - val_acc: 0.9581\n",
            "Epoch 2/20\n",
            "60000/60000 [==============================] - 9s 150us/step - loss: 0.1951 - acc: 0.9409 - val_loss: 0.1002 - val_acc: 0.9695\n",
            "Epoch 3/20\n",
            "60000/60000 [==============================] - 9s 150us/step - loss: 0.1535 - acc: 0.9531 - val_loss: 0.0900 - val_acc: 0.9724\n",
            "Epoch 4/20\n",
            "60000/60000 [==============================] - 9s 149us/step - loss: 0.1283 - acc: 0.9604 - val_loss: 0.0768 - val_acc: 0.9762\n",
            "Epoch 5/20\n",
            "60000/60000 [==============================] - 9s 150us/step - loss: 0.1185 - acc: 0.9636 - val_loss: 0.0679 - val_acc: 0.9784\n",
            "Epoch 6/20\n",
            "60000/60000 [==============================] - 9s 150us/step - loss: 0.1025 - acc: 0.9674 - val_loss: 0.0704 - val_acc: 0.9776\n",
            "Epoch 7/20\n",
            "60000/60000 [==============================] - 9s 150us/step - loss: 0.0984 - acc: 0.9697 - val_loss: 0.0698 - val_acc: 0.9773\n",
            "Epoch 8/20\n",
            "60000/60000 [==============================] - 9s 149us/step - loss: 0.0896 - acc: 0.9722 - val_loss: 0.0663 - val_acc: 0.9789\n",
            "Epoch 9/20\n",
            "60000/60000 [==============================] - 9s 149us/step - loss: 0.0837 - acc: 0.9736 - val_loss: 0.0635 - val_acc: 0.9799\n",
            "Epoch 10/20\n",
            "60000/60000 [==============================] - 9s 148us/step - loss: 0.0815 - acc: 0.9743 - val_loss: 0.0602 - val_acc: 0.9801\n",
            "Epoch 11/20\n",
            "60000/60000 [==============================] - 9s 148us/step - loss: 0.0732 - acc: 0.9761 - val_loss: 0.0602 - val_acc: 0.9824\n",
            "Epoch 12/20\n",
            "60000/60000 [==============================] - 9s 148us/step - loss: 0.0698 - acc: 0.9777 - val_loss: 0.0535 - val_acc: 0.9818\n",
            "Epoch 13/20\n",
            "60000/60000 [==============================] - 9s 148us/step - loss: 0.0679 - acc: 0.9783 - val_loss: 0.0574 - val_acc: 0.9823\n",
            "Epoch 14/20\n",
            "60000/60000 [==============================] - 9s 148us/step - loss: 0.0643 - acc: 0.9794 - val_loss: 0.0552 - val_acc: 0.9828\n",
            "Epoch 15/20\n",
            "60000/60000 [==============================] - 9s 150us/step - loss: 0.0645 - acc: 0.9797 - val_loss: 0.0547 - val_acc: 0.9823\n",
            "Epoch 16/20\n",
            "60000/60000 [==============================] - 9s 150us/step - loss: 0.0572 - acc: 0.9815 - val_loss: 0.0566 - val_acc: 0.9838\n",
            "Epoch 17/20\n",
            "60000/60000 [==============================] - 9s 151us/step - loss: 0.0584 - acc: 0.9815 - val_loss: 0.0550 - val_acc: 0.9837\n",
            "Epoch 18/20\n",
            "60000/60000 [==============================] - 9s 153us/step - loss: 0.0568 - acc: 0.9816 - val_loss: 0.0544 - val_acc: 0.9830\n",
            "Epoch 19/20\n",
            "60000/60000 [==============================] - 9s 149us/step - loss: 0.0531 - acc: 0.9830 - val_loss: 0.0577 - val_acc: 0.9832\n",
            "Epoch 20/20\n",
            "60000/60000 [==============================] - 9s 149us/step - loss: 0.0513 - acc: 0.9831 - val_loss: 0.0578 - val_acc: 0.9826\n"
          ],
          "name": "stdout"
        }
      ]
    },
    {
      "cell_type": "code",
      "metadata": {
        "id": "FZmzUxkE7P6U",
        "colab_type": "code",
        "colab": {
          "base_uri": "https://localhost:8080/",
          "height": 313
        },
        "outputId": "250c7efd-bac4-4fca-8029-439c0b5f986f"
      },
      "source": [
        "score = model_drop.evaluate(X_test, Y_test, verbose=0) \n",
        "print('Test score:', score[0]) \n",
        "print('Test accuracy:', score[1])\n",
        "\n",
        "fig,ax = plt.subplots(1,1)\n",
        "ax.set_xlabel('epoch') ; ax.set_ylabel('Categorical Crossentropy Loss')\n",
        "\n",
        "# list of epoch numbers\n",
        "x = list(range(1,nb_epoch+1))\n",
        "\n",
        "# print(history.history.keys())\n",
        "# dict_keys(['val_loss', 'val_acc', 'loss', 'acc'])\n",
        "# history = model_drop.fit(X_train, Y_train, batch_size=batch_size, epochs=nb_epoch, verbose=1, validation_data=(X_test, Y_test))\n",
        "\n",
        "# we will get val_loss and val_acc only when you pass the paramter validation_data\n",
        "# val_loss : validation loss\n",
        "# val_acc : validation accuracy\n",
        "\n",
        "# loss : training loss\n",
        "# acc : train accuracy\n",
        "# for each key in histrory.histrory we will have a list of length equal to number of epochs\n",
        "\n",
        "vy = history.history['val_loss']\n",
        "ty = history.history['loss']\n",
        "plt_dynamic(x, vy, ty, ax)"
      ],
      "execution_count": 42,
      "outputs": [
        {
          "output_type": "stream",
          "text": [
            "Test score: 0.057800181532799616\n",
            "Test accuracy: 0.9826\n"
          ],
          "name": "stdout"
        },
        {
          "output_type": "display_data",
          "data": {
            "image/png": "[encoded data removed]",
            "text/plain": [
              "<Figure size 432x288 with 1 Axes>"
            ]
          },
          "metadata": {
            "tags": []
          }
        }
      ]
    },
    {
      "cell_type": "code",
      "metadata": {
        "id": "5pjv9Q3Y7PzT",
        "colab_type": "code",
        "colab": {}
      },
      "source": [
        ""
      ],
      "execution_count": 0,
      "outputs": []
    },
    {
      "cell_type": "code",
      "metadata": {
        "id": "bAn-Fc-Y7Pmi",
        "colab_type": "code",
        "colab": {}
      },
      "source": [
        ""
      ],
      "execution_count": 0,
      "outputs": []
    },
    {
      "cell_type": "code",
      "metadata": {
        "id": "FDWEhsdC7Pen",
        "colab_type": "code",
        "colab": {}
      },
      "source": [
        ""
      ],
      "execution_count": 0,
      "outputs": []
    },
    {
      "cell_type": "code",
      "metadata": {
        "id": "ARmpLR0I7PRZ",
        "colab_type": "code",
        "colab": {}
      },
      "source": [
        ""
      ],
      "execution_count": 0,
      "outputs": []
    },
    {
      "cell_type": "code",
      "metadata": {
        "id": "L61Q-f9n7PEF",
        "colab_type": "code",
        "colab": {}
      },
      "source": [
        ""
      ],
      "execution_count": 0,
      "outputs": []
    },
    {
      "cell_type": "code",
      "metadata": {
        "id": "UjunqoU-7O1k",
        "colab_type": "code",
        "colab": {}
      },
      "source": [
        ""
      ],
      "execution_count": 0,
      "outputs": []
    },
    {
      "cell_type": "markdown",
      "metadata": {
        "id": "LU9DhPbkPFRV",
        "colab_type": "text"
      },
      "source": [
        "## **three layered mlp relu activation**"
      ]
    },
    {
      "cell_type": "code",
      "metadata": {
        "id": "Y0oFp-yB3ppT",
        "colab_type": "code",
        "colab": {
          "base_uri": "https://localhost:8080/",
          "height": 139
        },
        "outputId": "f3cb745e-6d85-49a2-877a-be0297e1a7e5"
      },
      "source": [
        "# Multilayer perceptron\n",
        "\n",
        "model_sigmoid = Sequential()\n",
        "model_sigmoid.add(Dense(500, activation='relu', input_shape=(input_dim,)))# first layer 500 neurons\n",
        "model_sigmoid.add(Dense(124, activation='relu'))# second layer 124 neurons\n",
        "model_sigmoid.add(Dense(50, activation='relu'))# third layer 50 neurons\n",
        "model_sigmoid.add(Dense(output_dim, activation='softmax'))"
      ],
      "execution_count": 13,
      "outputs": [
        {
          "output_type": "stream",
          "text": [
            "WARNING:tensorflow:From /usr/local/lib/python3.6/dist-packages/keras/backend/tensorflow_backend.py:66: The name tf.get_default_graph is deprecated. Please use tf.compat.v1.get_default_graph instead.\n",
            "\n",
            "WARNING:tensorflow:From /usr/local/lib/python3.6/dist-packages/keras/backend/tensorflow_backend.py:541: The name tf.placeholder is deprecated. Please use tf.compat.v1.placeholder instead.\n",
            "\n",
            "WARNING:tensorflow:From /usr/local/lib/python3.6/dist-packages/keras/backend/tensorflow_backend.py:4432: The name tf.random_uniform is deprecated. Please use tf.random.uniform instead.\n",
            "\n"
          ],
          "name": "stdout"
        }
      ]
    },
    {
      "cell_type": "code",
      "metadata": {
        "id": "_5COw7DL3p5N",
        "colab_type": "code",
        "outputId": "cc1b2fb6-03be-4216-d9b5-02e8057198f6",
        "colab": {
          "base_uri": "https://localhost:8080/",
          "height": 289
        }
      },
      "source": [
        "model_sigmoid.summary()"
      ],
      "execution_count": 14,
      "outputs": [
        {
          "output_type": "stream",
          "text": [
            "Model: \"sequential_1\"\n",
            "_________________________________________________________________\n",
            "Layer (type)                 Output Shape              Param #   \n",
            "=================================================================\n",
            "dense_1 (Dense)              (None, 500)               392500    \n",
            "_________________________________________________________________\n",
            "dense_2 (Dense)              (None, 124)               62124     \n",
            "_________________________________________________________________\n",
            "dense_3 (Dense)              (None, 50)                6250      \n",
            "_________________________________________________________________\n",
            "dense_4 (Dense)              (None, 10)                510       \n",
            "=================================================================\n",
            "Total params: 461,384\n",
            "Trainable params: 461,384\n",
            "Non-trainable params: 0\n",
            "_________________________________________________________________\n"
          ],
          "name": "stdout"
        }
      ]
    },
    {
      "cell_type": "code",
      "metadata": {
        "id": "FUsFVGjE3qKk",
        "colab_type": "code",
        "outputId": "b489ccf5-4224-443d-be58-c98deb63d43e",
        "colab": {
          "base_uri": "https://localhost:8080/",
          "height": 1125
        }
      },
      "source": [
        "model_sigmoid.compile(optimizer='sgd', loss='categorical_crossentropy', metrics=['accuracy']) ## optimizer ==sgd\n",
        "\n",
        "history = model_sigmoid.fit(X_train, Y_train, batch_size=batch_size, epochs=nb_epoch, verbose=1, validation_data=(X_test, Y_test))"
      ],
      "execution_count": 15,
      "outputs": [
        {
          "output_type": "stream",
          "text": [
            "WARNING:tensorflow:From /usr/local/lib/python3.6/dist-packages/keras/optimizers.py:793: The name tf.train.Optimizer is deprecated. Please use tf.compat.v1.train.Optimizer instead.\n",
            "\n",
            "WARNING:tensorflow:From /usr/local/lib/python3.6/dist-packages/keras/backend/tensorflow_backend.py:3576: The name tf.log is deprecated. Please use tf.math.log instead.\n",
            "\n",
            "WARNING:tensorflow:From /usr/local/lib/python3.6/dist-packages/tensorflow_core/python/ops/math_grad.py:1424: where (from tensorflow.python.ops.array_ops) is deprecated and will be removed in a future version.\n",
            "Instructions for updating:\n",
            "Use tf.where in 2.0, which has the same broadcast rule as np.where\n",
            "WARNING:tensorflow:From /usr/local/lib/python3.6/dist-packages/keras/backend/tensorflow_backend.py:1033: The name tf.assign_add is deprecated. Please use tf.compat.v1.assign_add instead.\n",
            "\n",
            "WARNING:tensorflow:From /usr/local/lib/python3.6/dist-packages/keras/backend/tensorflow_backend.py:1020: The name tf.assign is deprecated. Please use tf.compat.v1.assign instead.\n",
            "\n",
            "WARNING:tensorflow:From /usr/local/lib/python3.6/dist-packages/keras/backend/tensorflow_backend.py:3005: The name tf.Session is deprecated. Please use tf.compat.v1.Session instead.\n",
            "\n",
            "Train on 60000 samples, validate on 10000 samples\n",
            "Epoch 1/20\n",
            "WARNING:tensorflow:From /usr/local/lib/python3.6/dist-packages/keras/backend/tensorflow_backend.py:190: The name tf.get_default_session is deprecated. Please use tf.compat.v1.get_default_session instead.\n",
            "\n",
            "WARNING:tensorflow:From /usr/local/lib/python3.6/dist-packages/keras/backend/tensorflow_backend.py:197: The name tf.ConfigProto is deprecated. Please use tf.compat.v1.ConfigProto instead.\n",
            "\n",
            "WARNING:tensorflow:From /usr/local/lib/python3.6/dist-packages/keras/backend/tensorflow_backend.py:207: The name tf.global_variables is deprecated. Please use tf.compat.v1.global_variables instead.\n",
            "\n",
            "WARNING:tensorflow:From /usr/local/lib/python3.6/dist-packages/keras/backend/tensorflow_backend.py:216: The name tf.is_variable_initialized is deprecated. Please use tf.compat.v1.is_variable_initialized instead.\n",
            "\n",
            "WARNING:tensorflow:From /usr/local/lib/python3.6/dist-packages/keras/backend/tensorflow_backend.py:223: The name tf.variables_initializer is deprecated. Please use tf.compat.v1.variables_initializer instead.\n",
            "\n",
            "60000/60000 [==============================] - 7s 113us/step - loss: 1.2421 - acc: 0.6858 - val_loss: 0.5226 - val_acc: 0.8680\n",
            "Epoch 2/20\n",
            "60000/60000 [==============================] - 7s 114us/step - loss: 0.4223 - acc: 0.8864 - val_loss: 0.3424 - val_acc: 0.9047\n",
            "Epoch 3/20\n",
            "60000/60000 [==============================] - 8s 126us/step - loss: 0.3238 - acc: 0.9087 - val_loss: 0.2905 - val_acc: 0.9199\n",
            "Epoch 4/20\n",
            "60000/60000 [==============================] - 6s 104us/step - loss: 0.2812 - acc: 0.9196 - val_loss: 0.2586 - val_acc: 0.9254\n",
            "Epoch 5/20\n",
            "60000/60000 [==============================] - 6s 94us/step - loss: 0.2538 - acc: 0.9278 - val_loss: 0.2372 - val_acc: 0.9305\n",
            "Epoch 6/20\n",
            "60000/60000 [==============================] - 6s 95us/step - loss: 0.2321 - acc: 0.9336 - val_loss: 0.2194 - val_acc: 0.9368\n",
            "Epoch 7/20\n",
            "60000/60000 [==============================] - 6s 93us/step - loss: 0.2154 - acc: 0.9385 - val_loss: 0.2070 - val_acc: 0.9381\n",
            "Epoch 8/20\n",
            "60000/60000 [==============================] - 6s 94us/step - loss: 0.2004 - acc: 0.9425 - val_loss: 0.1937 - val_acc: 0.9438\n",
            "Epoch 9/20\n",
            "60000/60000 [==============================] - 6s 96us/step - loss: 0.1874 - acc: 0.9463 - val_loss: 0.1848 - val_acc: 0.9458\n",
            "Epoch 10/20\n",
            "60000/60000 [==============================] - 5s 89us/step - loss: 0.1765 - acc: 0.9490 - val_loss: 0.1760 - val_acc: 0.9480\n",
            "Epoch 11/20\n",
            "60000/60000 [==============================] - 6s 93us/step - loss: 0.1659 - acc: 0.9524 - val_loss: 0.1692 - val_acc: 0.9477\n",
            "Epoch 12/20\n",
            "60000/60000 [==============================] - 6s 94us/step - loss: 0.1568 - acc: 0.9550 - val_loss: 0.1578 - val_acc: 0.9524\n",
            "Epoch 13/20\n",
            "60000/60000 [==============================] - 6s 94us/step - loss: 0.1483 - acc: 0.9576 - val_loss: 0.1504 - val_acc: 0.9551\n",
            "Epoch 14/20\n",
            "60000/60000 [==============================] - 6s 93us/step - loss: 0.1410 - acc: 0.9600 - val_loss: 0.1437 - val_acc: 0.9563\n",
            "Epoch 15/20\n",
            "60000/60000 [==============================] - 5s 89us/step - loss: 0.1338 - acc: 0.9620 - val_loss: 0.1394 - val_acc: 0.9567\n",
            "Epoch 16/20\n",
            "60000/60000 [==============================] - 6s 92us/step - loss: 0.1272 - acc: 0.9639 - val_loss: 0.1364 - val_acc: 0.9586\n",
            "Epoch 17/20\n",
            "60000/60000 [==============================] - 6s 96us/step - loss: 0.1212 - acc: 0.9658 - val_loss: 0.1267 - val_acc: 0.9606\n",
            "Epoch 18/20\n",
            "60000/60000 [==============================] - 6s 98us/step - loss: 0.1158 - acc: 0.9671 - val_loss: 0.1246 - val_acc: 0.9599\n",
            "Epoch 19/20\n",
            "60000/60000 [==============================] - 6s 97us/step - loss: 0.1107 - acc: 0.9685 - val_loss: 0.1202 - val_acc: 0.9629\n",
            "Epoch 20/20\n",
            "60000/60000 [==============================] - 6s 94us/step - loss: 0.1059 - acc: 0.9702 - val_loss: 0.1159 - val_acc: 0.9646\n"
          ],
          "name": "stdout"
        }
      ]
    },
    {
      "cell_type": "code",
      "metadata": {
        "id": "QJYpQyqo57-M",
        "colab_type": "code",
        "outputId": "7e32a0eb-8f2d-40c9-bb79-35fbd69eda9c",
        "colab": {
          "base_uri": "https://localhost:8080/",
          "height": 313
        }
      },
      "source": [
        "score = model_sigmoid.evaluate(X_test, Y_test, verbose=0) \n",
        "print('Test score:', score[0]) \n",
        "print('Test accuracy:', score[1])\n",
        "\n",
        "fig,ax = plt.subplots(1,1)\n",
        "ax.set_xlabel('epoch') ; ax.set_ylabel('Categorical Crossentropy Loss')\n",
        "\n",
        "# list of epoch numbers\n",
        "x = list(range(1,nb_epoch+1))\n",
        "\n",
        "# print(history.history.keys())\n",
        "# dict_keys(['val_loss', 'val_acc', 'loss', 'acc'])\n",
        "# history = model_drop.fit(X_train, Y_train, batch_size=batch_size, epochs=nb_epoch, verbose=1, validation_data=(X_test, Y_test))\n",
        "\n",
        "# we will get val_loss and val_acc only when you pass the paramter validation_data\n",
        "# val_loss : validation loss\n",
        "# val_acc : validation accuracy\n",
        "\n",
        "# loss : training loss\n",
        "# acc : train accuracy\n",
        "# for each key in histrory.histrory we will have a list of length equal to number of epochs\n",
        "\n",
        "vy = history.history['val_loss']\n",
        "ty = history.history['loss']\n",
        "plt_dynamic(x, vy, ty, ax)"
      ],
      "execution_count": 16,
      "outputs": [
        {
          "output_type": "stream",
          "text": [
            "Test score: 0.11591833184994757\n",
            "Test accuracy: 0.9646\n"
          ],
          "name": "stdout"
        },
        {
          "output_type": "display_data",
          "data": {
            "image/png": "[encoded data removed]",
            "text/plain": [
              "<Figure size 432x288 with 1 Axes>"
            ]
          },
          "metadata": {
            "tags": []
          }
        }
      ]
    },
    {
      "cell_type": "markdown",
      "metadata": {
        "id": "XyFoVaNyP7D7",
        "colab_type": "text"
      },
      "source": [
        "## **5 layered mlp with relu activation**"
      ]
    },
    {
      "cell_type": "code",
      "metadata": {
        "id": "AfJ0oZjE8yux",
        "colab_type": "code",
        "colab": {}
      },
      "source": [
        "model_relu5 = Sequential()\n",
        "model_relu5.add(Dense(500, activation='relu', input_shape=(input_dim,)))# first layer 500 neurons\n",
        "model_relu5.add(Dense(324, activation='relu'))# second layer 324 neurons\n",
        "model_relu5.add(Dense(250, activation='relu'))# third layer 250 neurons\n",
        "model_relu5.add(Dense(150, activation='relu'))# forth layer 150 neurons\n",
        "model_relu5.add(Dense(50, activation='relu'))# fifth layer 50 neurons\n",
        "model_relu5.add(Dense(output_dim, activation='softmax'))"
      ],
      "execution_count": 0,
      "outputs": []
    },
    {
      "cell_type": "code",
      "metadata": {
        "id": "O9NchNpO58XQ",
        "colab_type": "code",
        "outputId": "d7b9d047-602b-4d3b-cfa2-e7430265f0ac",
        "colab": {
          "base_uri": "https://localhost:8080/",
          "height": 357
        }
      },
      "source": [
        "model_relu5.summary()"
      ],
      "execution_count": 18,
      "outputs": [
        {
          "output_type": "stream",
          "text": [
            "Model: \"sequential_2\"\n",
            "_________________________________________________________________\n",
            "Layer (type)                 Output Shape              Param #   \n",
            "=================================================================\n",
            "dense_5 (Dense)              (None, 500)               392500    \n",
            "_________________________________________________________________\n",
            "dense_6 (Dense)              (None, 324)               162324    \n",
            "_________________________________________________________________\n",
            "dense_7 (Dense)              (None, 250)               81250     \n",
            "_________________________________________________________________\n",
            "dense_8 (Dense)              (None, 150)               37650     \n",
            "_________________________________________________________________\n",
            "dense_9 (Dense)              (None, 50)                7550      \n",
            "_________________________________________________________________\n",
            "dense_10 (Dense)             (None, 10)                510       \n",
            "=================================================================\n",
            "Total params: 681,784\n",
            "Trainable params: 681,784\n",
            "Non-trainable params: 0\n",
            "_________________________________________________________________\n"
          ],
          "name": "stdout"
        }
      ]
    },
    {
      "cell_type": "code",
      "metadata": {
        "id": "_Ux0VJRLc-qi",
        "colab_type": "code",
        "outputId": "37c35db7-bd67-4b93-bc0d-e316752d235c",
        "colab": {
          "base_uri": "https://localhost:8080/",
          "height": 714
        }
      },
      "source": [
        "model_relu5.compile(optimizer='adam', loss='categorical_crossentropy', metrics=['accuracy'])# optimizer = adam\n",
        "\n",
        "history = model_relu5.fit(X_train, Y_train, batch_size=batch_size, epochs=nb_epoch, verbose=1, validation_data=(X_test, Y_test))"
      ],
      "execution_count": 19,
      "outputs": [
        {
          "output_type": "stream",
          "text": [
            "Train on 60000 samples, validate on 10000 samples\n",
            "Epoch 1/20\n",
            "60000/60000 [==============================] - 11s 186us/step - loss: 0.2587 - acc: 0.9226 - val_loss: 0.1134 - val_acc: 0.9660\n",
            "Epoch 2/20\n",
            "60000/60000 [==============================] - 11s 176us/step - loss: 0.0963 - acc: 0.9703 - val_loss: 0.0933 - val_acc: 0.9717\n",
            "Epoch 3/20\n",
            "60000/60000 [==============================] - 10s 171us/step - loss: 0.0669 - acc: 0.9793 - val_loss: 0.0921 - val_acc: 0.9718\n",
            "Epoch 4/20\n",
            "60000/60000 [==============================] - 11s 177us/step - loss: 0.0513 - acc: 0.9841 - val_loss: 0.0780 - val_acc: 0.9772\n",
            "Epoch 5/20\n",
            "60000/60000 [==============================] - 11s 177us/step - loss: 0.0387 - acc: 0.9875 - val_loss: 0.0834 - val_acc: 0.9781\n",
            "Epoch 6/20\n",
            "60000/60000 [==============================] - 10s 174us/step - loss: 0.0332 - acc: 0.9895 - val_loss: 0.0957 - val_acc: 0.9730\n",
            "Epoch 7/20\n",
            "60000/60000 [==============================] - 10s 174us/step - loss: 0.0283 - acc: 0.9914 - val_loss: 0.0801 - val_acc: 0.9777\n",
            "Epoch 8/20\n",
            "60000/60000 [==============================] - 10s 174us/step - loss: 0.0249 - acc: 0.9919 - val_loss: 0.0937 - val_acc: 0.9770\n",
            "Epoch 9/20\n",
            "60000/60000 [==============================] - 11s 181us/step - loss: 0.0244 - acc: 0.9926 - val_loss: 0.0867 - val_acc: 0.9774\n",
            "Epoch 10/20\n",
            "60000/60000 [==============================] - 11s 176us/step - loss: 0.0193 - acc: 0.9940 - val_loss: 0.0807 - val_acc: 0.9805\n",
            "Epoch 11/20\n",
            "60000/60000 [==============================] - 11s 180us/step - loss: 0.0199 - acc: 0.9940 - val_loss: 0.0903 - val_acc: 0.9793\n",
            "Epoch 12/20\n",
            "60000/60000 [==============================] - 10s 171us/step - loss: 0.0169 - acc: 0.9948 - val_loss: 0.1064 - val_acc: 0.9761\n",
            "Epoch 13/20\n",
            "60000/60000 [==============================] - 10s 172us/step - loss: 0.0176 - acc: 0.9946 - val_loss: 0.0842 - val_acc: 0.9792\n",
            "Epoch 14/20\n",
            "60000/60000 [==============================] - 11s 176us/step - loss: 0.0181 - acc: 0.9943 - val_loss: 0.1019 - val_acc: 0.9756\n",
            "Epoch 15/20\n",
            "60000/60000 [==============================] - 11s 177us/step - loss: 0.0130 - acc: 0.9960 - val_loss: 0.0961 - val_acc: 0.9799\n",
            "Epoch 16/20\n",
            "60000/60000 [==============================] - 11s 180us/step - loss: 0.0103 - acc: 0.9970 - val_loss: 0.1005 - val_acc: 0.9794\n",
            "Epoch 17/20\n",
            "60000/60000 [==============================] - 11s 182us/step - loss: 0.0138 - acc: 0.9961 - val_loss: 0.0923 - val_acc: 0.9815\n",
            "Epoch 18/20\n",
            "60000/60000 [==============================] - 11s 183us/step - loss: 0.0108 - acc: 0.9967 - val_loss: 0.0859 - val_acc: 0.9823\n",
            "Epoch 19/20\n",
            "60000/60000 [==============================] - 11s 180us/step - loss: 0.0131 - acc: 0.9964 - val_loss: 0.1161 - val_acc: 0.9781\n",
            "Epoch 20/20\n",
            "60000/60000 [==============================] - 11s 175us/step - loss: 0.0094 - acc: 0.9973 - val_loss: 0.0929 - val_acc: 0.9813\n"
          ],
          "name": "stdout"
        }
      ]
    },
    {
      "cell_type": "code",
      "metadata": {
        "id": "271pn_arc-54",
        "colab_type": "code",
        "outputId": "9a249bef-a387-440a-ee89-d8f08ff5be19",
        "colab": {
          "base_uri": "https://localhost:8080/",
          "height": 313
        }
      },
      "source": [
        "score = model_relu5.evaluate(X_test, Y_test, verbose=0) \n",
        "print('Test score:', score[0]) \n",
        "print('Test accuracy:', score[1])\n",
        "\n",
        "fig,ax = plt.subplots(1,1)\n",
        "ax.set_xlabel('epoch') ; ax.set_ylabel('Categorical Crossentropy Loss')\n",
        "\n",
        "# list of epoch numbers\n",
        "x = list(range(1,nb_epoch+1))\n",
        "\n",
        "# print(history.history.keys())\n",
        "# dict_keys(['val_loss', 'val_acc', 'loss', 'acc'])\n",
        "# history = model_drop.fit(X_train, Y_train, batch_size=batch_size, epochs=nb_epoch, verbose=1, validation_data=(X_test, Y_test))\n",
        "\n",
        "# we will get val_loss and val_acc only when you pass the paramter validation_data\n",
        "# val_loss : validation loss\n",
        "# val_acc : validation accuracy\n",
        "\n",
        "# loss : training loss\n",
        "# acc : train accuracy\n",
        "# for each key in histrory.histrory we will have a list of length equal to number of epochs\n",
        "\n",
        "vy = history.history['val_loss']\n",
        "ty = history.history['loss']\n",
        "plt_dynamic(x, vy, ty, ax)"
      ],
      "execution_count": 20,
      "outputs": [
        {
          "output_type": "stream",
          "text": [
            "Test score: 0.09293281461207743\n",
            "Test accuracy: 0.9813\n"
          ],
          "name": "stdout"
        },
        {
          "output_type": "display_data",
          "data": {
            "image/png": "[encoded data removed]",
            "text/plain": [
              "<Figure size 432x288 with 1 Axes>"
            ]
          },
          "metadata": {
            "tags": []
          }
        }
      ]
    },
    {
      "cell_type": "markdown",
      "metadata": {
        "id": "egM2ZwvsQ0DR",
        "colab_type": "text"
      },
      "source": [
        "## **3 layered mlp with he_initializer without any batch_normalizer and dropout**"
      ]
    },
    {
      "cell_type": "code",
      "metadata": {
        "id": "2e5r8zLsc_H_",
        "colab_type": "code",
        "outputId": "23a11436-e081-4924-cce3-944a0cab912d",
        "colab": {
          "base_uri": "https://localhost:8080/",
          "height": 343
        }
      },
      "source": [
        "#he_normal(seed=None)\n",
        "model_relu = Sequential()\n",
        "model_relu.add(Dense(500, activation='relu', input_shape=(input_dim,), kernel_initializer=he_normal(seed=None)))\n",
        "model_relu.add(Dense(124, activation='relu', kernel_initializer=he_normal(seed=None)) )\n",
        "model_relu.add(Dense(50, activation='relu', kernel_initializer=he_normal(seed=None)) )\n",
        "model_relu.add(Dense(output_dim, activation='softmax'))\n",
        "\n",
        "model_relu.summary()"
      ],
      "execution_count": 21,
      "outputs": [
        {
          "output_type": "stream",
          "text": [
            "WARNING:tensorflow:From /usr/local/lib/python3.6/dist-packages/keras/backend/tensorflow_backend.py:4479: The name tf.truncated_normal is deprecated. Please use tf.random.truncated_normal instead.\n",
            "\n",
            "Model: \"sequential_3\"\n",
            "_________________________________________________________________\n",
            "Layer (type)                 Output Shape              Param #   \n",
            "=================================================================\n",
            "dense_11 (Dense)             (None, 500)               392500    \n",
            "_________________________________________________________________\n",
            "dense_12 (Dense)             (None, 124)               62124     \n",
            "_________________________________________________________________\n",
            "dense_13 (Dense)             (None, 50)                6250      \n",
            "_________________________________________________________________\n",
            "dense_14 (Dense)             (None, 10)                510       \n",
            "=================================================================\n",
            "Total params: 461,384\n",
            "Trainable params: 461,384\n",
            "Non-trainable params: 0\n",
            "_________________________________________________________________\n"
          ],
          "name": "stdout"
        }
      ]
    },
    {
      "cell_type": "code",
      "metadata": {
        "id": "uZH5ugYgxQR_",
        "colab_type": "code",
        "outputId": "46b568a7-4a79-45af-ef90-81de1d356656",
        "colab": {
          "base_uri": "https://localhost:8080/",
          "height": 714
        }
      },
      "source": [
        "model_relu.compile(optimizer='adam', loss='categorical_crossentropy', metrics=['accuracy'])# adam optimaizer\n",
        "\n",
        "history = model_relu.fit(X_train, Y_train, batch_size=batch_size, epochs=nb_epoch, verbose=1, validation_data=(X_test, Y_test))"
      ],
      "execution_count": 22,
      "outputs": [
        {
          "output_type": "stream",
          "text": [
            "Train on 60000 samples, validate on 10000 samples\n",
            "Epoch 1/20\n",
            "60000/60000 [==============================] - 8s 129us/step - loss: 0.2391 - acc: 0.9279 - val_loss: 0.1270 - val_acc: 0.9595\n",
            "Epoch 2/20\n",
            "60000/60000 [==============================] - 7s 118us/step - loss: 0.0889 - acc: 0.9724 - val_loss: 0.0971 - val_acc: 0.9706\n",
            "Epoch 3/20\n",
            "60000/60000 [==============================] - 7s 120us/step - loss: 0.0563 - acc: 0.9823 - val_loss: 0.0822 - val_acc: 0.9750\n",
            "Epoch 4/20\n",
            "60000/60000 [==============================] - 7s 116us/step - loss: 0.0392 - acc: 0.9878 - val_loss: 0.0756 - val_acc: 0.9766\n",
            "Epoch 5/20\n",
            "60000/60000 [==============================] - 7s 119us/step - loss: 0.0306 - acc: 0.9899 - val_loss: 0.0762 - val_acc: 0.9782\n",
            "Epoch 6/20\n",
            "60000/60000 [==============================] - 7s 119us/step - loss: 0.0244 - acc: 0.9921 - val_loss: 0.0803 - val_acc: 0.9770\n",
            "Epoch 7/20\n",
            "60000/60000 [==============================] - 7s 116us/step - loss: 0.0204 - acc: 0.9938 - val_loss: 0.0965 - val_acc: 0.9742\n",
            "Epoch 8/20\n",
            "60000/60000 [==============================] - 7s 117us/step - loss: 0.0179 - acc: 0.9939 - val_loss: 0.0731 - val_acc: 0.9799\n",
            "Epoch 9/20\n",
            "60000/60000 [==============================] - 7s 121us/step - loss: 0.0151 - acc: 0.9950 - val_loss: 0.0808 - val_acc: 0.9818\n",
            "Epoch 10/20\n",
            "60000/60000 [==============================] - 7s 116us/step - loss: 0.0126 - acc: 0.9960 - val_loss: 0.0871 - val_acc: 0.9790\n",
            "Epoch 11/20\n",
            "60000/60000 [==============================] - 7s 114us/step - loss: 0.0153 - acc: 0.9950 - val_loss: 0.0820 - val_acc: 0.9812\n",
            "Epoch 12/20\n",
            "60000/60000 [==============================] - 7s 117us/step - loss: 0.0129 - acc: 0.9957 - val_loss: 0.0836 - val_acc: 0.9811\n",
            "Epoch 13/20\n",
            "60000/60000 [==============================] - 7s 118us/step - loss: 0.0127 - acc: 0.9957 - val_loss: 0.0866 - val_acc: 0.9815\n",
            "Epoch 14/20\n",
            "60000/60000 [==============================] - 7s 115us/step - loss: 0.0085 - acc: 0.9970 - val_loss: 0.0948 - val_acc: 0.9789\n",
            "Epoch 15/20\n",
            "60000/60000 [==============================] - 7s 118us/step - loss: 0.0100 - acc: 0.9968 - val_loss: 0.0890 - val_acc: 0.9816\n",
            "Epoch 16/20\n",
            "60000/60000 [==============================] - 7s 116us/step - loss: 0.0121 - acc: 0.9961 - val_loss: 0.0860 - val_acc: 0.9823\n",
            "Epoch 17/20\n",
            "60000/60000 [==============================] - 7s 122us/step - loss: 0.0071 - acc: 0.9978 - val_loss: 0.1075 - val_acc: 0.9759\n",
            "Epoch 18/20\n",
            "60000/60000 [==============================] - 7s 117us/step - loss: 0.0093 - acc: 0.9972 - val_loss: 0.1084 - val_acc: 0.9775\n",
            "Epoch 19/20\n",
            "60000/60000 [==============================] - 7s 116us/step - loss: 0.0096 - acc: 0.9968 - val_loss: 0.1033 - val_acc: 0.9804\n",
            "Epoch 20/20\n",
            "60000/60000 [==============================] - 7s 118us/step - loss: 0.0090 - acc: 0.9972 - val_loss: 0.1022 - val_acc: 0.9803\n"
          ],
          "name": "stdout"
        }
      ]
    },
    {
      "cell_type": "code",
      "metadata": {
        "id": "fqLHEVLIxQvM",
        "colab_type": "code",
        "outputId": "95deccf5-be9c-46e8-b19c-fd0ed995a1e8",
        "colab": {
          "base_uri": "https://localhost:8080/",
          "height": 317
        }
      },
      "source": [
        "score = model_relu.evaluate(X_test, Y_test, verbose=0) \n",
        "print('Test score:', score[0]) \n",
        "print('Test accuracy:', score[1])\n",
        "\n",
        "fig,ax = plt.subplots(1,1)\n",
        "ax.set_xlabel('epoch') ; ax.set_ylabel('Categorical Crossentropy Loss')\n",
        "\n",
        "# list of epoch numbers\n",
        "x = list(range(1,nb_epoch+1))\n",
        "\n",
        "# print(history.history.keys())\n",
        "# dict_keys(['val_loss', 'val_acc', 'loss', 'acc'])\n",
        "# history = model_drop.fit(X_train, Y_train, batch_size=batch_size, epochs=nb_epoch, verbose=1, validation_data=(X_test, Y_test))\n",
        "\n",
        "# we will get val_loss and val_acc only when you pass the paramter validation_data\n",
        "# val_loss : validation loss\n",
        "# val_acc : validation accuracy\n",
        "\n",
        "# loss : training loss\n",
        "# acc : train accuracy\n",
        "# for each key in histrory.histrory we will have a list of length equal to number of epochs\n",
        "\n",
        "vy = history.history['val_loss']\n",
        "ty = history.history['loss']\n",
        "plt_dynamic(x, vy, ty, ax)"
      ],
      "execution_count": 23,
      "outputs": [
        {
          "output_type": "stream",
          "text": [
            "Test score: 0.10216689538143828\n",
            "Test accuracy: 0.9803\n"
          ],
          "name": "stdout"
        },
        {
          "output_type": "display_data",
          "data": {
            "image/png": "[encoded data removed]",
            "text/plain": [
              "<Figure size 432x288 with 1 Axes>"
            ]
          },
          "metadata": {
            "tags": []
          }
        }
      ]
    },
    {
      "cell_type": "markdown",
      "metadata": {
        "id": "O1X_6kzkRUim",
        "colab_type": "text"
      },
      "source": [
        "## **5 layered mlp with initializer = he_normal and relu activation without dropout and batch normalizer**"
      ]
    },
    {
      "cell_type": "code",
      "metadata": {
        "id": "92VKZTHzxQ_0",
        "colab_type": "code",
        "colab": {}
      },
      "source": [
        "#he_normal(seed=None)\n",
        "model_relu5 = Sequential()\n",
        "model_relu5.add(Dense(500, activation='relu', input_shape=(input_dim,), kernel_initializer=he_normal(seed=None)))\n",
        "model_relu5.add(Dense(324, activation='relu', kernel_initializer=he_normal(seed=None)) )\n",
        "model_relu5.add(Dense(250, activation='relu', kernel_initializer=he_normal(seed=None)) )\n",
        "model_relu5.add(Dense(150, activation='relu', kernel_initializer=he_normal(seed=None)) )\n",
        "model_relu5.add(Dense(50, activation='relu', kernel_initializer=he_normal(seed=None)) )\n",
        "model_relu5.add(Dense(output_dim, activation='softmax'))\n",
        "\n"
      ],
      "execution_count": 0,
      "outputs": []
    },
    {
      "cell_type": "code",
      "metadata": {
        "id": "3iEDYmlpy9wa",
        "colab_type": "code",
        "outputId": "edfe59c7-a0f2-4550-9bad-217940c87bcd",
        "colab": {
          "base_uri": "https://localhost:8080/",
          "height": 714
        }
      },
      "source": [
        "model_relu5.compile(optimizer='adam', loss='categorical_crossentropy', metrics=['accuracy'])\n",
        "\n",
        "history = model_relu5.fit(X_train, Y_train, batch_size=batch_size, epochs=nb_epoch, verbose=1, validation_data=(X_test, Y_test))"
      ],
      "execution_count": 25,
      "outputs": [
        {
          "output_type": "stream",
          "text": [
            "Train on 60000 samples, validate on 10000 samples\n",
            "Epoch 1/20\n",
            "60000/60000 [==============================] - 11s 185us/step - loss: 0.2317 - acc: 0.9279 - val_loss: 0.1104 - val_acc: 0.9646\n",
            "Epoch 2/20\n",
            "60000/60000 [==============================] - 11s 180us/step - loss: 0.0889 - acc: 0.9729 - val_loss: 0.0956 - val_acc: 0.9695\n",
            "Epoch 3/20\n",
            "60000/60000 [==============================] - 10s 174us/step - loss: 0.0611 - acc: 0.9806 - val_loss: 0.1075 - val_acc: 0.9668\n",
            "Epoch 4/20\n",
            "60000/60000 [==============================] - 11s 179us/step - loss: 0.0483 - acc: 0.9847 - val_loss: 0.0761 - val_acc: 0.9786\n",
            "Epoch 5/20\n",
            "60000/60000 [==============================] - 10s 174us/step - loss: 0.0368 - acc: 0.9882 - val_loss: 0.0801 - val_acc: 0.9782\n",
            "Epoch 6/20\n",
            "60000/60000 [==============================] - 10s 172us/step - loss: 0.0317 - acc: 0.9901 - val_loss: 0.0837 - val_acc: 0.9776\n",
            "Epoch 7/20\n",
            "60000/60000 [==============================] - 11s 176us/step - loss: 0.0272 - acc: 0.9913 - val_loss: 0.0767 - val_acc: 0.9808\n",
            "Epoch 8/20\n",
            "60000/60000 [==============================] - 11s 176us/step - loss: 0.0252 - acc: 0.9921 - val_loss: 0.1102 - val_acc: 0.9741\n",
            "Epoch 9/20\n",
            "60000/60000 [==============================] - 10s 172us/step - loss: 0.0258 - acc: 0.9917 - val_loss: 0.0812 - val_acc: 0.9799\n",
            "Epoch 10/20\n",
            "60000/60000 [==============================] - 11s 176us/step - loss: 0.0217 - acc: 0.9933 - val_loss: 0.0985 - val_acc: 0.9766\n",
            "Epoch 11/20\n",
            "60000/60000 [==============================] - 11s 178us/step - loss: 0.0177 - acc: 0.9944 - val_loss: 0.0866 - val_acc: 0.9792\n",
            "Epoch 12/20\n",
            "60000/60000 [==============================] - 11s 179us/step - loss: 0.0158 - acc: 0.9949 - val_loss: 0.0735 - val_acc: 0.9821\n",
            "Epoch 13/20\n",
            "60000/60000 [==============================] - 11s 176us/step - loss: 0.0153 - acc: 0.9951 - val_loss: 0.0907 - val_acc: 0.9805\n",
            "Epoch 14/20\n",
            "60000/60000 [==============================] - 11s 178us/step - loss: 0.0149 - acc: 0.9953 - val_loss: 0.0903 - val_acc: 0.9796\n",
            "Epoch 15/20\n",
            "60000/60000 [==============================] - 11s 176us/step - loss: 0.0134 - acc: 0.9956 - val_loss: 0.0999 - val_acc: 0.9796\n",
            "Epoch 16/20\n",
            "60000/60000 [==============================] - 11s 176us/step - loss: 0.0117 - acc: 0.9965 - val_loss: 0.0908 - val_acc: 0.9796\n",
            "Epoch 17/20\n",
            "60000/60000 [==============================] - 11s 182us/step - loss: 0.0151 - acc: 0.9956 - val_loss: 0.0785 - val_acc: 0.9834\n",
            "Epoch 18/20\n",
            "60000/60000 [==============================] - 11s 180us/step - loss: 0.0135 - acc: 0.9962 - val_loss: 0.0865 - val_acc: 0.9806\n",
            "Epoch 19/20\n",
            "60000/60000 [==============================] - 11s 178us/step - loss: 0.0115 - acc: 0.9964 - val_loss: 0.1039 - val_acc: 0.9801\n",
            "Epoch 20/20\n",
            "60000/60000 [==============================] - 11s 183us/step - loss: 0.0110 - acc: 0.9971 - val_loss: 0.0857 - val_acc: 0.9824\n"
          ],
          "name": "stdout"
        }
      ]
    },
    {
      "cell_type": "code",
      "metadata": {
        "id": "Sss43zDV0Ymg",
        "colab_type": "code",
        "outputId": "476260e7-d1d0-4a56-8c08-b25b9b9c2420",
        "colab": {
          "base_uri": "https://localhost:8080/",
          "height": 313
        }
      },
      "source": [
        "score = model_relu5.evaluate(X_test, Y_test, verbose=0) \n",
        "print('Test score:', score[0]) \n",
        "print('Test accuracy:', score[1])\n",
        "\n",
        "fig,ax = plt.subplots(1,1)\n",
        "ax.set_xlabel('epoch') ; ax.set_ylabel('Categorical Crossentropy Loss')\n",
        "\n",
        "# list of epoch numbers\n",
        "x = list(range(1,nb_epoch+1))\n",
        "\n",
        "# print(history.history.keys())\n",
        "# dict_keys(['val_loss', 'val_acc', 'loss', 'acc'])\n",
        "# history = model_drop.fit(X_train, Y_train, batch_size=batch_size, epochs=nb_epoch, verbose=1, validation_data=(X_test, Y_test))\n",
        "\n",
        "# we will get val_loss and val_acc only when you pass the paramter validation_data\n",
        "# val_loss : validation loss\n",
        "# val_acc : validation accuracy\n",
        "\n",
        "# loss : training loss\n",
        "# acc : train accuracy\n",
        "# for each key in histrory.histrory we will have a list of length equal to number of epochs\n",
        "\n",
        "vy = history.history['val_loss']\n",
        "ty = history.history['loss']\n",
        "plt_dynamic(x, vy, ty, ax)"
      ],
      "execution_count": 26,
      "outputs": [
        {
          "output_type": "stream",
          "text": [
            "Test score: 0.08569526613150633\n",
            "Test accuracy: 0.9824\n"
          ],
          "name": "stdout"
        },
        {
          "output_type": "display_data",
          "data": {
            "image/png": "[encoded data removed]",
            "text/plain": [
              "<Figure size 432x288 with 1 Axes>"
            ]
          },
          "metadata": {
            "tags": []
          }
        }
      ]
    },
    {
      "cell_type": "markdown",
      "metadata": {
        "id": "pCH2gh56RqUM",
        "colab_type": "text"
      },
      "source": [
        "## **3 layered mlp with batch normalizer without dropout activation  is relu and initializer is he_normal**"
      ]
    },
    {
      "cell_type": "code",
      "metadata": {
        "id": "YYcyEmlO0ZaC",
        "colab_type": "code",
        "outputId": "f2455bea-0bc7-47bf-d293-549f770b4957",
        "colab": {
          "base_uri": "https://localhost:8080/",
          "height": 71
        }
      },
      "source": [
        "from keras.layers.normalization import BatchNormalization\n",
        "\n",
        "model_batch = Sequential()\n",
        "\n",
        "model_batch.add(Dense(500, activation='relu', input_shape=(input_dim,), kernel_initializer=he_normal(seed=None)))\n",
        "model_batch.add(BatchNormalization())\n",
        "\n",
        "model_batch.add(Dense(124, activation='relu', kernel_initializer=he_normal(seed=None)) )\n",
        "model_batch.add(BatchNormalization())\n",
        "\n",
        "model_batch.add(Dense(50, activation='relu', kernel_initializer=he_normal(seed=None)) )\n",
        "model_batch.add(BatchNormalization())\n",
        "\n",
        "model_batch.add(Dense(output_dim, activation='softmax'))\n"
      ],
      "execution_count": 27,
      "outputs": [
        {
          "output_type": "stream",
          "text": [
            "WARNING:tensorflow:From /usr/local/lib/python3.6/dist-packages/keras/backend/tensorflow_backend.py:148: The name tf.placeholder_with_default is deprecated. Please use tf.compat.v1.placeholder_with_default instead.\n",
            "\n"
          ],
          "name": "stdout"
        }
      ]
    },
    {
      "cell_type": "code",
      "metadata": {
        "id": "HfHD76nX0ZJ6",
        "colab_type": "code",
        "outputId": "857a3a5f-6d4b-461c-b418-e7782e85a01c",
        "colab": {
          "base_uri": "https://localhost:8080/",
          "height": 714
        }
      },
      "source": [
        "model_batch.compile(optimizer='adam', loss='categorical_crossentropy', metrics=['accuracy'])\n",
        "\n",
        "history = model_batch.fit(X_train, Y_train, batch_size=batch_size, epochs=nb_epoch, verbose=1, validation_data=(X_test, Y_test))"
      ],
      "execution_count": 28,
      "outputs": [
        {
          "output_type": "stream",
          "text": [
            "Train on 60000 samples, validate on 10000 samples\n",
            "Epoch 1/20\n",
            "60000/60000 [==============================] - 10s 160us/step - loss: 0.2196 - acc: 0.9367 - val_loss: 0.1035 - val_acc: 0.9682\n",
            "Epoch 2/20\n",
            "60000/60000 [==============================] - 8s 133us/step - loss: 0.0815 - acc: 0.9752 - val_loss: 0.0995 - val_acc: 0.9690\n",
            "Epoch 3/20\n",
            "60000/60000 [==============================] - 8s 135us/step - loss: 0.0521 - acc: 0.9844 - val_loss: 0.0733 - val_acc: 0.9769\n",
            "Epoch 4/20\n",
            "60000/60000 [==============================] - 8s 139us/step - loss: 0.0385 - acc: 0.9878 - val_loss: 0.0858 - val_acc: 0.9732\n",
            "Epoch 5/20\n",
            "60000/60000 [==============================] - 8s 137us/step - loss: 0.0326 - acc: 0.9890 - val_loss: 0.0796 - val_acc: 0.9771\n",
            "Epoch 6/20\n",
            "60000/60000 [==============================] - 8s 140us/step - loss: 0.0254 - acc: 0.9916 - val_loss: 0.0763 - val_acc: 0.9759\n",
            "Epoch 7/20\n",
            "60000/60000 [==============================] - 8s 134us/step - loss: 0.0229 - acc: 0.9924 - val_loss: 0.0837 - val_acc: 0.9763\n",
            "Epoch 8/20\n",
            "60000/60000 [==============================] - 8s 137us/step - loss: 0.0189 - acc: 0.9940 - val_loss: 0.0808 - val_acc: 0.9782\n",
            "Epoch 9/20\n",
            "60000/60000 [==============================] - 9s 142us/step - loss: 0.0159 - acc: 0.9949 - val_loss: 0.0771 - val_acc: 0.9795\n",
            "Epoch 10/20\n",
            "60000/60000 [==============================] - 9s 143us/step - loss: 0.0179 - acc: 0.9940 - val_loss: 0.0901 - val_acc: 0.9765\n",
            "Epoch 11/20\n",
            "60000/60000 [==============================] - 9s 145us/step - loss: 0.0179 - acc: 0.9939 - val_loss: 0.0798 - val_acc: 0.9782\n",
            "Epoch 12/20\n",
            "60000/60000 [==============================] - 8s 135us/step - loss: 0.0136 - acc: 0.9953 - val_loss: 0.0801 - val_acc: 0.9778\n",
            "Epoch 13/20\n",
            "60000/60000 [==============================] - 8s 137us/step - loss: 0.0136 - acc: 0.9953 - val_loss: 0.0750 - val_acc: 0.9796\n",
            "Epoch 14/20\n",
            "60000/60000 [==============================] - 8s 135us/step - loss: 0.0123 - acc: 0.9961 - val_loss: 0.0781 - val_acc: 0.9803\n",
            "Epoch 15/20\n",
            "60000/60000 [==============================] - 8s 138us/step - loss: 0.0115 - acc: 0.9963 - val_loss: 0.0830 - val_acc: 0.9782\n",
            "Epoch 16/20\n",
            "60000/60000 [==============================] - 8s 135us/step - loss: 0.0098 - acc: 0.9966 - val_loss: 0.0791 - val_acc: 0.9809\n",
            "Epoch 17/20\n",
            "60000/60000 [==============================] - 9s 142us/step - loss: 0.0110 - acc: 0.9963 - val_loss: 0.0840 - val_acc: 0.9789\n",
            "Epoch 18/20\n",
            "60000/60000 [==============================] - 8s 136us/step - loss: 0.0103 - acc: 0.9965 - val_loss: 0.0916 - val_acc: 0.9760\n",
            "Epoch 19/20\n",
            "60000/60000 [==============================] - 8s 139us/step - loss: 0.0080 - acc: 0.9973 - val_loss: 0.0849 - val_acc: 0.9795\n",
            "Epoch 20/20\n",
            "60000/60000 [==============================] - 8s 136us/step - loss: 0.0060 - acc: 0.9981 - val_loss: 0.0858 - val_acc: 0.9802\n"
          ],
          "name": "stdout"
        }
      ]
    },
    {
      "cell_type": "code",
      "metadata": {
        "id": "l_7r9v_P4DB5",
        "colab_type": "code",
        "outputId": "29a20a08-afec-443c-ce74-0bfb54dcffe4",
        "colab": {
          "base_uri": "https://localhost:8080/",
          "height": 313
        }
      },
      "source": [
        "score = model_batch.evaluate(X_test, Y_test, verbose=0) \n",
        "print('Test score:', score[0]) \n",
        "print('Test accuracy:', score[1])\n",
        "\n",
        "fig,ax = plt.subplots(1,1)\n",
        "ax.set_xlabel('epoch') ; ax.set_ylabel('Categorical Crossentropy Loss')\n",
        "\n",
        "# list of epoch numbers\n",
        "x = list(range(1,nb_epoch+1))\n",
        "\n",
        "# print(history.history.keys())\n",
        "# dict_keys(['val_loss', 'val_acc', 'loss', 'acc'])\n",
        "# history = model_drop.fit(X_train, Y_train, batch_size=batch_size, epochs=nb_epoch, verbose=1, validation_data=(X_test, Y_test))\n",
        "\n",
        "# we will get val_loss and val_acc only when you pass the paramter validation_data\n",
        "# val_loss : validation loss\n",
        "# val_acc : validation accuracy\n",
        "\n",
        "# loss : training loss\n",
        "# acc : train accuracy\n",
        "# for each key in histrory.histrory we will have a list of length equal to number of epochs\n",
        "\n",
        "vy = history.history['val_loss']\n",
        "ty = history.history['loss']\n",
        "plt_dynamic(x, vy, ty, ax)"
      ],
      "execution_count": 29,
      "outputs": [
        {
          "output_type": "stream",
          "text": [
            "Test score: 0.08583917959941027\n",
            "Test accuracy: 0.9802\n"
          ],
          "name": "stdout"
        },
        {
          "output_type": "display_data",
          "data": {
            "image/png": "[encoded data removed]",
            "text/plain": [
              "<Figure size 432x288 with 1 Axes>"
            ]
          },
          "metadata": {
            "tags": []
          }
        }
      ]
    },
    {
      "cell_type": "markdown",
      "metadata": {
        "id": "WcEAcvM3SCY1",
        "colab_type": "text"
      },
      "source": [
        "## **5 layered mlp with batch normalizer without dropout activation  is relu and initializer is he_normal**"
      ]
    },
    {
      "cell_type": "code",
      "metadata": {
        "id": "dWUX8rHv4IC9",
        "colab_type": "code",
        "colab": {}
      },
      "source": [
        "model_batch = Sequential()\n",
        "\n",
        "model_batch.add(Dense(500, activation='relu', input_shape=(input_dim,), kernel_initializer=he_normal(seed=None)))\n",
        "model_batch.add(BatchNormalization())\n",
        "\n",
        "model_batch.add(Dense(324, activation='relu', kernel_initializer=he_normal(seed=None)) )\n",
        "model_batch.add(BatchNormalization())\n",
        "\n",
        "model_batch.add(Dense(250, activation='relu', kernel_initializer=he_normal(seed=None)) )\n",
        "model_batch.add(BatchNormalization())\n",
        "\n",
        "model_batch.add(Dense(150, activation='relu', input_shape=(input_dim,), kernel_initializer=he_normal(seed=None)))\n",
        "model_batch.add(BatchNormalization())\n",
        "\n",
        "\n",
        "model_batch.add(Dense(50, activation='relu', kernel_initializer=he_normal(seed=None)) )\n",
        "model_batch.add(BatchNormalization())\n",
        "\n",
        "model_batch.add(Dense(output_dim, activation='softmax'))"
      ],
      "execution_count": 0,
      "outputs": []
    },
    {
      "cell_type": "code",
      "metadata": {
        "id": "GYfy328u4IVo",
        "colab_type": "code",
        "outputId": "04e67802-7f0a-4ce4-9136-aae46e6cf895",
        "colab": {
          "base_uri": "https://localhost:8080/",
          "height": 714
        }
      },
      "source": [
        "model_batch.compile(optimizer='adam', loss='categorical_crossentropy', metrics=['accuracy'])\n",
        "\n",
        "history = model_batch.fit(X_train, Y_train, batch_size=batch_size, epochs=nb_epoch, verbose=1, validation_data=(X_test, Y_test))"
      ],
      "execution_count": 31,
      "outputs": [
        {
          "output_type": "stream",
          "text": [
            "Train on 60000 samples, validate on 10000 samples\n",
            "Epoch 1/20\n",
            "60000/60000 [==============================] - 15s 242us/step - loss: 0.2159 - acc: 0.9370 - val_loss: 0.1096 - val_acc: 0.9672\n",
            "Epoch 2/20\n",
            "60000/60000 [==============================] - 13s 214us/step - loss: 0.0855 - acc: 0.9741 - val_loss: 0.0858 - val_acc: 0.9727\n",
            "Epoch 3/20\n",
            "60000/60000 [==============================] - 13s 219us/step - loss: 0.0591 - acc: 0.9816 - val_loss: 0.0929 - val_acc: 0.9715\n",
            "Epoch 4/20\n",
            "60000/60000 [==============================] - 13s 224us/step - loss: 0.0469 - acc: 0.9850 - val_loss: 0.0845 - val_acc: 0.9742\n",
            "Epoch 5/20\n",
            "60000/60000 [==============================] - 13s 225us/step - loss: 0.0399 - acc: 0.9870 - val_loss: 0.0787 - val_acc: 0.9758\n",
            "Epoch 6/20\n",
            "60000/60000 [==============================] - 13s 219us/step - loss: 0.0332 - acc: 0.9890 - val_loss: 0.0825 - val_acc: 0.9768\n",
            "Epoch 7/20\n",
            "60000/60000 [==============================] - 13s 219us/step - loss: 0.0305 - acc: 0.9902 - val_loss: 0.0771 - val_acc: 0.9784\n",
            "Epoch 8/20\n",
            "60000/60000 [==============================] - 13s 218us/step - loss: 0.0271 - acc: 0.9910 - val_loss: 0.0740 - val_acc: 0.9799\n",
            "Epoch 9/20\n",
            "60000/60000 [==============================] - 13s 216us/step - loss: 0.0239 - acc: 0.9923 - val_loss: 0.0767 - val_acc: 0.9783\n",
            "Epoch 10/20\n",
            "60000/60000 [==============================] - 13s 216us/step - loss: 0.0237 - acc: 0.9924 - val_loss: 0.0724 - val_acc: 0.9790\n",
            "Epoch 11/20\n",
            "60000/60000 [==============================] - 13s 219us/step - loss: 0.0217 - acc: 0.9927 - val_loss: 0.0833 - val_acc: 0.9775\n",
            "Epoch 12/20\n",
            "60000/60000 [==============================] - 14s 225us/step - loss: 0.0166 - acc: 0.9944 - val_loss: 0.0644 - val_acc: 0.9815\n",
            "Epoch 13/20\n",
            "60000/60000 [==============================] - 13s 220us/step - loss: 0.0207 - acc: 0.9931 - val_loss: 0.0752 - val_acc: 0.9808\n",
            "Epoch 14/20\n",
            "60000/60000 [==============================] - 13s 221us/step - loss: 0.0138 - acc: 0.9955 - val_loss: 0.0784 - val_acc: 0.9795\n",
            "Epoch 15/20\n",
            "60000/60000 [==============================] - 13s 223us/step - loss: 0.0148 - acc: 0.9950 - val_loss: 0.0944 - val_acc: 0.9765\n",
            "Epoch 16/20\n",
            "60000/60000 [==============================] - 13s 216us/step - loss: 0.0133 - acc: 0.9956 - val_loss: 0.0727 - val_acc: 0.9790\n",
            "Epoch 17/20\n",
            "60000/60000 [==============================] - 14s 230us/step - loss: 0.0179 - acc: 0.9940 - val_loss: 0.0768 - val_acc: 0.9810\n",
            "Epoch 18/20\n",
            "60000/60000 [==============================] - 13s 216us/step - loss: 0.0132 - acc: 0.9961 - val_loss: 0.0730 - val_acc: 0.9813\n",
            "Epoch 19/20\n",
            "60000/60000 [==============================] - 13s 211us/step - loss: 0.0114 - acc: 0.9960 - val_loss: 0.0711 - val_acc: 0.9806\n",
            "Epoch 20/20\n",
            "60000/60000 [==============================] - 13s 214us/step - loss: 0.0116 - acc: 0.9963 - val_loss: 0.0777 - val_acc: 0.9805\n"
          ],
          "name": "stdout"
        }
      ]
    },
    {
      "cell_type": "code",
      "metadata": {
        "id": "fDtKABmv4Ir1",
        "colab_type": "code",
        "outputId": "6124cdd7-b6a2-4784-d747-9c58d73374b9",
        "colab": {
          "base_uri": "https://localhost:8080/",
          "height": 316
        }
      },
      "source": [
        "score = model_batch.evaluate(X_test, Y_test, verbose=0) \n",
        "print('Test score:', score[0]) \n",
        "print('Test accuracy:', score[1])\n",
        "\n",
        "fig,ax = plt.subplots(1,1)\n",
        "ax.set_xlabel('epoch') ; ax.set_ylabel('Categorical Crossentropy Loss')\n",
        "\n",
        "# list of epoch numbers\n",
        "x = list(range(1,nb_epoch+1))\n",
        "\n",
        "# print(history.history.keys())\n",
        "# dict_keys(['val_loss', 'val_acc', 'loss', 'acc'])\n",
        "# history = model_drop.fit(X_train, Y_train, batch_size=batch_size, epochs=nb_epoch, verbose=1, validation_data=(X_test, Y_test))\n",
        "\n",
        "# we will get val_loss and val_acc only when you pass the paramter validation_data\n",
        "# val_loss : validation loss\n",
        "# val_acc : validation accuracy\n",
        "\n",
        "# loss : training loss\n",
        "# acc : train accuracy\n",
        "# for each key in histrory.histrory we will have a list of length equal to number of epochs\n",
        "\n",
        "vy = history.history['val_loss']\n",
        "ty = history.history['loss']\n",
        "plt_dynamic(x, vy, ty, ax)"
      ],
      "execution_count": 32,
      "outputs": [
        {
          "output_type": "stream",
          "text": [
            "Test score: 0.07765144463920151\n",
            "Test accuracy: 0.9805\n"
          ],
          "name": "stdout"
        },
        {
          "output_type": "display_data",
          "data": {
            "image/png": "[encoded data removed]",
            "text/plain": [
              "<Figure size 432x288 with 1 Axes>"
            ]
          },
          "metadata": {
            "tags": []
          }
        }
      ]
    },
    {
      "cell_type": "markdown",
      "metadata": {
        "id": "0SooQiaBSKY8",
        "colab_type": "text"
      },
      "source": [
        "## **3 layered mlp without batch normalizer with dropout activation  is relu and initializer is he_normal**"
      ]
    },
    {
      "cell_type": "code",
      "metadata": {
        "id": "pmXbL_7RxKde",
        "colab_type": "code",
        "colab": {}
      },
      "source": [
        "from keras.layers import Dropout"
      ],
      "execution_count": 0,
      "outputs": []
    },
    {
      "cell_type": "code",
      "metadata": {
        "id": "M8m2k6H74I_B",
        "colab_type": "code",
        "colab": {
          "base_uri": "https://localhost:8080/",
          "height": 88
        },
        "outputId": "719c31ec-9fd6-4cee-c027-6c186e164952"
      },
      "source": [
        "from keras.layers import Dropout\n",
        "\n",
        "model_drop = Sequential()\n",
        "\n",
        "model_drop.add(Dense(500, activation='relu', input_shape=(input_dim,), kernel_initializer=he_normal(seed=None)))\n",
        "#model_drop.add(BatchNormalization())\n",
        "model_drop.add(Dropout(rate=0.5))\n",
        "\n",
        "model_drop.add(Dense(124, activation='relu', kernel_initializer=he_normal(seed=None)) )\n",
        "#model_drop.add(BatchNormalization())\n",
        "model_drop.add(Dropout(rate=0.5))\n",
        "\n",
        "model_drop.add(Dense(50, activation='relu', kernel_initializer=he_normal(seed=None)) )\n",
        "model_drop.add(Dropout(rate=0.5))\n",
        "\n",
        "model_drop.add(Dense(output_dim, activation='softmax'))\n",
        "\n"
      ],
      "execution_count": 33,
      "outputs": [
        {
          "output_type": "stream",
          "text": [
            "WARNING:tensorflow:From /usr/local/lib/python3.6/dist-packages/keras/backend/tensorflow_backend.py:3733: calling dropout (from tensorflow.python.ops.nn_ops) with keep_prob is deprecated and will be removed in a future version.\n",
            "Instructions for updating:\n",
            "Please use `rate` instead of `keep_prob`. Rate should be set to `rate = 1 - keep_prob`.\n"
          ],
          "name": "stdout"
        }
      ]
    },
    {
      "cell_type": "code",
      "metadata": {
        "id": "LOG0fPAD4JSt",
        "colab_type": "code",
        "outputId": "27c168ca-b3bb-4d25-9719-2b64a9812458",
        "colab": {
          "base_uri": "https://localhost:8080/",
          "height": 714
        }
      },
      "source": [
        "model_drop.compile(optimizer='adam', loss='categorical_crossentropy', metrics=['accuracy'])\n",
        "\n",
        "history = model_drop.fit(X_train, Y_train, batch_size=batch_size, epochs=nb_epoch, verbose=1, validation_data=(X_test, Y_test))"
      ],
      "execution_count": 34,
      "outputs": [
        {
          "output_type": "stream",
          "text": [
            "Train on 60000 samples, validate on 10000 samples\n",
            "Epoch 1/20\n",
            "60000/60000 [==============================] - 10s 161us/step - loss: 0.8373 - acc: 0.7324 - val_loss: 0.2008 - val_acc: 0.9433\n",
            "Epoch 2/20\n",
            "60000/60000 [==============================] - 8s 133us/step - loss: 0.3337 - acc: 0.9118 - val_loss: 0.1581 - val_acc: 0.9560\n",
            "Epoch 3/20\n",
            "60000/60000 [==============================] - 8s 133us/step - loss: 0.2548 - acc: 0.9356 - val_loss: 0.1196 - val_acc: 0.9681\n",
            "Epoch 4/20\n",
            "60000/60000 [==============================] - 8s 132us/step - loss: 0.2166 - acc: 0.9455 - val_loss: 0.1190 - val_acc: 0.9674\n",
            "Epoch 5/20\n",
            "60000/60000 [==============================] - 8s 133us/step - loss: 0.1895 - acc: 0.9522 - val_loss: 0.1035 - val_acc: 0.9721\n",
            "Epoch 6/20\n",
            "60000/60000 [==============================] - 8s 140us/step - loss: 0.1690 - acc: 0.9572 - val_loss: 0.0966 - val_acc: 0.9744\n",
            "Epoch 7/20\n",
            "60000/60000 [==============================] - 8s 136us/step - loss: 0.1536 - acc: 0.9613 - val_loss: 0.0966 - val_acc: 0.9744\n",
            "Epoch 8/20\n",
            "60000/60000 [==============================] - 8s 133us/step - loss: 0.1450 - acc: 0.9633 - val_loss: 0.0924 - val_acc: 0.9758\n",
            "Epoch 9/20\n",
            "60000/60000 [==============================] - 8s 132us/step - loss: 0.1350 - acc: 0.9655 - val_loss: 0.0830 - val_acc: 0.9783\n",
            "Epoch 10/20\n",
            "60000/60000 [==============================] - 8s 136us/step - loss: 0.1281 - acc: 0.9673 - val_loss: 0.0847 - val_acc: 0.9795\n",
            "Epoch 11/20\n",
            "60000/60000 [==============================] - 8s 136us/step - loss: 0.1206 - acc: 0.9691 - val_loss: 0.0874 - val_acc: 0.9784\n",
            "Epoch 12/20\n",
            "60000/60000 [==============================] - 8s 135us/step - loss: 0.1177 - acc: 0.9700 - val_loss: 0.0755 - val_acc: 0.9817\n",
            "Epoch 13/20\n",
            "60000/60000 [==============================] - 8s 140us/step - loss: 0.1084 - acc: 0.9723 - val_loss: 0.0873 - val_acc: 0.9802\n",
            "Epoch 14/20\n",
            "60000/60000 [==============================] - 8s 128us/step - loss: 0.1024 - acc: 0.9738 - val_loss: 0.0876 - val_acc: 0.9792\n",
            "Epoch 15/20\n",
            "60000/60000 [==============================] - 8s 135us/step - loss: 0.0994 - acc: 0.9752 - val_loss: 0.0840 - val_acc: 0.9808\n",
            "Epoch 16/20\n",
            "60000/60000 [==============================] - 8s 133us/step - loss: 0.0933 - acc: 0.9751 - val_loss: 0.0807 - val_acc: 0.9820\n",
            "Epoch 17/20\n",
            "60000/60000 [==============================] - 8s 137us/step - loss: 0.0936 - acc: 0.9755 - val_loss: 0.0801 - val_acc: 0.9807\n",
            "Epoch 18/20\n",
            "60000/60000 [==============================] - 8s 129us/step - loss: 0.0885 - acc: 0.9768 - val_loss: 0.0789 - val_acc: 0.9822\n",
            "Epoch 19/20\n",
            "60000/60000 [==============================] - 8s 132us/step - loss: 0.0843 - acc: 0.9784 - val_loss: 0.0781 - val_acc: 0.9814\n",
            "Epoch 20/20\n",
            "60000/60000 [==============================] - 8s 130us/step - loss: 0.0894 - acc: 0.9767 - val_loss: 0.0790 - val_acc: 0.9818\n"
          ],
          "name": "stdout"
        }
      ]
    },
    {
      "cell_type": "code",
      "metadata": {
        "id": "-5bKihzxCAl-",
        "colab_type": "code",
        "outputId": "3f45b266-804d-419d-cb03-d97d5164dab0",
        "colab": {
          "base_uri": "https://localhost:8080/",
          "height": 313
        }
      },
      "source": [
        "score = model_drop.evaluate(X_test, Y_test, verbose=0) \n",
        "print('Test score:', score[0]) \n",
        "print('Test accuracy:', score[1])\n",
        "\n",
        "fig,ax = plt.subplots(1,1)\n",
        "ax.set_xlabel('epoch') ; ax.set_ylabel('Categorical Crossentropy Loss')\n",
        "\n",
        "# list of epoch numbers\n",
        "x = list(range(1,nb_epoch+1))\n",
        "\n",
        "# print(history.history.keys())\n",
        "# dict_keys(['val_loss', 'val_acc', 'loss', 'acc'])\n",
        "# history = model_drop.fit(X_train, Y_train, batch_size=batch_size, epochs=nb_epoch, verbose=1, validation_data=(X_test, Y_test))\n",
        "\n",
        "# we will get val_loss and val_acc only when you pass the paramter validation_data\n",
        "# val_loss : validation loss\n",
        "# val_acc : validation accuracy\n",
        "\n",
        "# loss : training loss\n",
        "# acc : train accuracy\n",
        "# for each key in histrory.histrory we will have a list of length equal to number of epochs\n",
        "\n",
        "vy = history.history['val_loss']\n",
        "ty = history.history['loss']\n",
        "plt_dynamic(x, vy, ty, ax)"
      ],
      "execution_count": 35,
      "outputs": [
        {
          "output_type": "stream",
          "text": [
            "Test score: 0.07902954334445494\n",
            "Test accuracy: 0.9818\n"
          ],
          "name": "stdout"
        },
        {
          "output_type": "display_data",
          "data": {
            "image/png": "[encoded data removed]",
            "text/plain": [
              "<Figure size 432x288 with 1 Axes>"
            ]
          },
          "metadata": {
            "tags": []
          }
        }
      ]
    },
    {
      "cell_type": "markdown",
      "metadata": {
        "id": "aOHRowzUSWFq",
        "colab_type": "text"
      },
      "source": [
        "## **5 layered mlp without batch normalizer with dropout activation  is relu and initializer is he_normal**"
      ]
    },
    {
      "cell_type": "code",
      "metadata": {
        "id": "JecQR1SeCA7t",
        "colab_type": "code",
        "colab": {
          "base_uri": "https://localhost:8080/",
          "height": 156
        },
        "outputId": "cda1ad41-5751-46c2-cfc1-03ab2029830f"
      },
      "source": [
        "model_drop = Sequential()\n",
        "\n",
        "model_drop.add(Dense(500, activation='relu', input_shape=(input_dim,), kernel_initializer=he_normal(seed=None)))\n",
        "#model_drop.add(BatchNormalization())\n",
        "model_drop.add(Dropout(rate=0.5))\n",
        "\n",
        "model_drop.add(Dense(324, activation='relu', kernel_initializer=he_normal(seed=None)) )\n",
        "#model_drop.add(BatchNormalization())\n",
        "model_drop.add(Dropout(rate=0.5))\n",
        "\n",
        "\n",
        "\n",
        "model_drop.add(Dense(250, activation='relu',kernel_initializer=he_normal(seed=None)))\n",
        "#model_drop.add(BatchNormalization())\n",
        "model_drop.add(Dropout(rate=0.5))\n",
        "\n",
        "model_drop.add(Dense(150, activation='relu', kernel_initializer=he_normal(seed=None)) )\n",
        "#model_drop.add(BatchNormalization())\n",
        "model_drop.add(Dropout(rate=0.5))\n",
        "\n",
        "model_drop.add(Dense(50, activation='relu', kernel_initializer=he_normal(seed=None)) )\n",
        "#model_drop.add(BatchNormalization())\n",
        "model_drop.add(Dropout(rate=0.5))\n",
        "\n",
        "model_drop.add(Dense(output_dim, activation='softmax'))\n",
        "\n"
      ],
      "execution_count": 14,
      "outputs": [
        {
          "output_type": "stream",
          "text": [
            "WARNING:tensorflow:From /usr/local/lib/python3.6/dist-packages/keras/backend/tensorflow_backend.py:148: The name tf.placeholder_with_default is deprecated. Please use tf.compat.v1.placeholder_with_default instead.\n",
            "\n",
            "WARNING:tensorflow:From /usr/local/lib/python3.6/dist-packages/keras/backend/tensorflow_backend.py:3733: calling dropout (from tensorflow.python.ops.nn_ops) with keep_prob is deprecated and will be removed in a future version.\n",
            "Instructions for updating:\n",
            "Please use `rate` instead of `keep_prob`. Rate should be set to `rate = 1 - keep_prob`.\n",
            "WARNING:tensorflow:From /usr/local/lib/python3.6/dist-packages/keras/backend/tensorflow_backend.py:4432: The name tf.random_uniform is deprecated. Please use tf.random.uniform instead.\n",
            "\n"
          ],
          "name": "stdout"
        }
      ]
    },
    {
      "cell_type": "code",
      "metadata": {
        "id": "XqqQLdTwCBQ-",
        "colab_type": "code",
        "outputId": "59d9447f-f375-4c5d-84ac-545104d08f3a",
        "colab": {
          "base_uri": "https://localhost:8080/",
          "height": 1125
        }
      },
      "source": [
        "model_drop.compile(optimizer='adam', loss='categorical_crossentropy', metrics=['accuracy'])\n",
        "\n",
        "history = model_drop.fit(X_train, Y_train, batch_size=batch_size, epochs=nb_epoch, verbose=1, validation_data=(X_test, Y_test))"
      ],
      "execution_count": 15,
      "outputs": [
        {
          "output_type": "stream",
          "text": [
            "WARNING:tensorflow:From /usr/local/lib/python3.6/dist-packages/keras/optimizers.py:793: The name tf.train.Optimizer is deprecated. Please use tf.compat.v1.train.Optimizer instead.\n",
            "\n",
            "WARNING:tensorflow:From /usr/local/lib/python3.6/dist-packages/keras/backend/tensorflow_backend.py:3576: The name tf.log is deprecated. Please use tf.math.log instead.\n",
            "\n",
            "WARNING:tensorflow:From /usr/local/lib/python3.6/dist-packages/tensorflow_core/python/ops/math_grad.py:1424: where (from tensorflow.python.ops.array_ops) is deprecated and will be removed in a future version.\n",
            "Instructions for updating:\n",
            "Use tf.where in 2.0, which has the same broadcast rule as np.where\n",
            "WARNING:tensorflow:From /usr/local/lib/python3.6/dist-packages/keras/backend/tensorflow_backend.py:1033: The name tf.assign_add is deprecated. Please use tf.compat.v1.assign_add instead.\n",
            "\n",
            "WARNING:tensorflow:From /usr/local/lib/python3.6/dist-packages/keras/backend/tensorflow_backend.py:1020: The name tf.assign is deprecated. Please use tf.compat.v1.assign instead.\n",
            "\n",
            "WARNING:tensorflow:From /usr/local/lib/python3.6/dist-packages/keras/backend/tensorflow_backend.py:3005: The name tf.Session is deprecated. Please use tf.compat.v1.Session instead.\n",
            "\n",
            "Train on 60000 samples, validate on 10000 samples\n",
            "Epoch 1/20\n",
            "WARNING:tensorflow:From /usr/local/lib/python3.6/dist-packages/keras/backend/tensorflow_backend.py:190: The name tf.get_default_session is deprecated. Please use tf.compat.v1.get_default_session instead.\n",
            "\n",
            "WARNING:tensorflow:From /usr/local/lib/python3.6/dist-packages/keras/backend/tensorflow_backend.py:197: The name tf.ConfigProto is deprecated. Please use tf.compat.v1.ConfigProto instead.\n",
            "\n",
            "WARNING:tensorflow:From /usr/local/lib/python3.6/dist-packages/keras/backend/tensorflow_backend.py:207: The name tf.global_variables is deprecated. Please use tf.compat.v1.global_variables instead.\n",
            "\n",
            "WARNING:tensorflow:From /usr/local/lib/python3.6/dist-packages/keras/backend/tensorflow_backend.py:216: The name tf.is_variable_initialized is deprecated. Please use tf.compat.v1.is_variable_initialized instead.\n",
            "\n",
            "WARNING:tensorflow:From /usr/local/lib/python3.6/dist-packages/keras/backend/tensorflow_backend.py:223: The name tf.variables_initializer is deprecated. Please use tf.compat.v1.variables_initializer instead.\n",
            "\n",
            "60000/60000 [==============================] - 14s 232us/step - loss: 1.4113 - acc: 0.5080 - val_loss: 0.3152 - val_acc: 0.9228\n",
            "Epoch 2/20\n",
            "60000/60000 [==============================] - 13s 212us/step - loss: 0.4782 - acc: 0.8766 - val_loss: 0.2036 - val_acc: 0.9492\n",
            "Epoch 3/20\n",
            "60000/60000 [==============================] - 13s 212us/step - loss: 0.3456 - acc: 0.9176 - val_loss: 0.1814 - val_acc: 0.9567\n",
            "Epoch 4/20\n",
            "60000/60000 [==============================] - 13s 211us/step - loss: 0.2901 - acc: 0.9312 - val_loss: 0.1579 - val_acc: 0.9616\n",
            "Epoch 5/20\n",
            "60000/60000 [==============================] - 13s 213us/step - loss: 0.2567 - acc: 0.9411 - val_loss: 0.1403 - val_acc: 0.9656\n",
            "Epoch 6/20\n",
            "60000/60000 [==============================] - 13s 210us/step - loss: 0.2308 - acc: 0.9463 - val_loss: 0.1383 - val_acc: 0.9670\n",
            "Epoch 7/20\n",
            "60000/60000 [==============================] - 13s 214us/step - loss: 0.2145 - acc: 0.9500 - val_loss: 0.1381 - val_acc: 0.9668\n",
            "Epoch 8/20\n",
            "60000/60000 [==============================] - 13s 213us/step - loss: 0.1999 - acc: 0.9539 - val_loss: 0.1306 - val_acc: 0.9706\n",
            "Epoch 9/20\n",
            "60000/60000 [==============================] - 13s 214us/step - loss: 0.1896 - acc: 0.9550 - val_loss: 0.1203 - val_acc: 0.9730\n",
            "Epoch 10/20\n",
            "60000/60000 [==============================] - 13s 213us/step - loss: 0.1829 - acc: 0.9591 - val_loss: 0.1173 - val_acc: 0.9757\n",
            "Epoch 11/20\n",
            "60000/60000 [==============================] - 13s 209us/step - loss: 0.1721 - acc: 0.9596 - val_loss: 0.1157 - val_acc: 0.9740\n",
            "Epoch 12/20\n",
            "60000/60000 [==============================] - 13s 214us/step - loss: 0.1607 - acc: 0.9633 - val_loss: 0.1104 - val_acc: 0.9767\n",
            "Epoch 13/20\n",
            "60000/60000 [==============================] - 13s 212us/step - loss: 0.1567 - acc: 0.9628 - val_loss: 0.1188 - val_acc: 0.9754\n",
            "Epoch 14/20\n",
            "60000/60000 [==============================] - 13s 214us/step - loss: 0.1556 - acc: 0.9637 - val_loss: 0.1032 - val_acc: 0.9769\n",
            "Epoch 15/20\n",
            "60000/60000 [==============================] - 13s 213us/step - loss: 0.1442 - acc: 0.9666 - val_loss: 0.1138 - val_acc: 0.9760\n",
            "Epoch 16/20\n",
            "60000/60000 [==============================] - 13s 212us/step - loss: 0.1396 - acc: 0.9670 - val_loss: 0.1056 - val_acc: 0.9765\n",
            "Epoch 17/20\n",
            "60000/60000 [==============================] - 13s 214us/step - loss: 0.1433 - acc: 0.9669 - val_loss: 0.1067 - val_acc: 0.9774\n",
            "Epoch 18/20\n",
            "60000/60000 [==============================] - 13s 209us/step - loss: 0.1344 - acc: 0.9686 - val_loss: 0.1041 - val_acc: 0.9774\n",
            "Epoch 19/20\n",
            "60000/60000 [==============================] - 13s 211us/step - loss: 0.1261 - acc: 0.9711 - val_loss: 0.1008 - val_acc: 0.9782\n",
            "Epoch 20/20\n",
            "60000/60000 [==============================] - 13s 209us/step - loss: 0.1229 - acc: 0.9722 - val_loss: 0.0980 - val_acc: 0.9796\n"
          ],
          "name": "stdout"
        }
      ]
    },
    {
      "cell_type": "code",
      "metadata": {
        "id": "pk0q-KUvELJO",
        "colab_type": "code",
        "outputId": "7c393621-0469-4f3a-bc25-c24bbec73562",
        "colab": {
          "base_uri": "https://localhost:8080/",
          "height": 313
        }
      },
      "source": [
        "score = model_drop.evaluate(X_test, Y_test, verbose=0) \n",
        "print('Test score:', score[0]) \n",
        "print('Test accuracy:', score[1])\n",
        "\n",
        "fig,ax = plt.subplots(1,1)\n",
        "ax.set_xlabel('epoch') ; ax.set_ylabel('Categorical Crossentropy Loss')\n",
        "\n",
        "# list of epoch numbers\n",
        "x = list(range(1,nb_epoch+1))\n",
        "\n",
        "# print(history.history.keys())\n",
        "# dict_keys(['val_loss', 'val_acc', 'loss', 'acc'])\n",
        "# history = model_drop.fit(X_train, Y_train, batch_size=batch_size, epochs=nb_epoch, verbose=1, validation_data=(X_test, Y_test))\n",
        "\n",
        "# we will get val_loss and val_acc only when you pass the paramter validation_data\n",
        "# val_loss : validation loss\n",
        "# val_acc : validation accuracy\n",
        "\n",
        "# loss : training loss\n",
        "# acc : train accuracy\n",
        "# for each key in histrory.histrory we will have a list of length equal to number of epochs\n",
        "\n",
        "vy = history.history['val_loss']\n",
        "ty = history.history['loss']\n",
        "plt_dynamic(x, vy, ty, ax)"
      ],
      "execution_count": 16,
      "outputs": [
        {
          "output_type": "stream",
          "text": [
            "Test score: 0.09795631028999714\n",
            "Test accuracy: 0.9796\n"
          ],
          "name": "stdout"
        },
        {
          "output_type": "display_data",
          "data": {
            "image/png": "[encoded data removed]",
            "text/plain": [
              "<Figure size 432x288 with 1 Axes>"
            ]
          },
          "metadata": {
            "tags": []
          }
        }
      ]
    },
    {
      "cell_type": "markdown",
      "metadata": {
        "id": "-Mc902VrSfhN",
        "colab_type": "text"
      },
      "source": [
        "## **3 layered mlp with batch normalizer with dropout activation  is relu and initializer is he_normal**"
      ]
    },
    {
      "cell_type": "code",
      "metadata": {
        "id": "1nExk8rbEbki",
        "colab_type": "code",
        "colab": {}
      },
      "source": [
        "model_drop = Sequential()\n",
        "\n",
        "model_drop.add(Dense(500, activation='relu', input_shape=(input_dim,), kernel_initializer=he_normal(seed=None)))\n",
        "model_drop.add(BatchNormalization())\n",
        "model_drop.add(Dropout(rate=0.5))\n",
        "\n",
        "model_drop.add(Dense(124, activation='relu', kernel_initializer=he_normal(seed=None)) )\n",
        "model_drop.add(BatchNormalization())\n",
        "model_drop.add(Dropout(rate=0.5))\n",
        "\n",
        "model_drop.add(Dense(50, activation='relu', kernel_initializer=he_normal(seed=None)) )\n",
        "model_drop.add(BatchNormalization())\n",
        "model_drop.add(Dropout(rate=0.5))\n",
        "\n",
        "model_drop.add(Dense(output_dim, activation='softmax'))"
      ],
      "execution_count": 0,
      "outputs": []
    },
    {
      "cell_type": "code",
      "metadata": {
        "id": "dhWeSk3PE12x",
        "colab_type": "code",
        "outputId": "24b47c31-30dc-4e40-8b70-d86f0810e3dc",
        "colab": {
          "base_uri": "https://localhost:8080/",
          "height": 714
        }
      },
      "source": [
        "model_drop.compile(optimizer='adam', loss='categorical_crossentropy', metrics=['accuracy'])\n",
        "\n",
        "history = model_drop.fit(X_train, Y_train, batch_size=batch_size, epochs=nb_epoch, verbose=1, validation_data=(X_test, Y_test))"
      ],
      "execution_count": 41,
      "outputs": [
        {
          "output_type": "stream",
          "text": [
            "Train on 60000 samples, validate on 10000 samples\n",
            "Epoch 1/20\n",
            "60000/60000 [==============================] - 12s 199us/step - loss: 0.7329 - acc: 0.7792 - val_loss: 0.1838 - val_acc: 0.9449\n",
            "Epoch 2/20\n",
            "60000/60000 [==============================] - 9s 157us/step - loss: 0.3083 - acc: 0.9140 - val_loss: 0.1400 - val_acc: 0.9591\n",
            "Epoch 3/20\n",
            "60000/60000 [==============================] - 10s 159us/step - loss: 0.2327 - acc: 0.9355 - val_loss: 0.1157 - val_acc: 0.9644\n",
            "Epoch 4/20\n",
            "60000/60000 [==============================] - 10s 166us/step - loss: 0.2002 - acc: 0.9455 - val_loss: 0.0978 - val_acc: 0.9711\n",
            "Epoch 5/20\n",
            "60000/60000 [==============================] - 10s 160us/step - loss: 0.1712 - acc: 0.9524 - val_loss: 0.0960 - val_acc: 0.9724\n",
            "Epoch 6/20\n",
            "60000/60000 [==============================] - 10s 162us/step - loss: 0.1545 - acc: 0.9576 - val_loss: 0.0905 - val_acc: 0.9741\n",
            "Epoch 7/20\n",
            "60000/60000 [==============================] - 9s 155us/step - loss: 0.1431 - acc: 0.9611 - val_loss: 0.0804 - val_acc: 0.9772\n",
            "Epoch 8/20\n",
            "60000/60000 [==============================] - 10s 161us/step - loss: 0.1303 - acc: 0.9641 - val_loss: 0.0809 - val_acc: 0.9776\n",
            "Epoch 9/20\n",
            "60000/60000 [==============================] - 10s 169us/step - loss: 0.1284 - acc: 0.9646 - val_loss: 0.0789 - val_acc: 0.9765\n",
            "Epoch 10/20\n",
            "60000/60000 [==============================] - 10s 166us/step - loss: 0.1183 - acc: 0.9671 - val_loss: 0.0685 - val_acc: 0.9811\n",
            "Epoch 11/20\n",
            "60000/60000 [==============================] - 10s 161us/step - loss: 0.1094 - acc: 0.9696 - val_loss: 0.0716 - val_acc: 0.9786\n",
            "Epoch 12/20\n",
            "60000/60000 [==============================] - 10s 159us/step - loss: 0.1069 - acc: 0.9699 - val_loss: 0.0674 - val_acc: 0.9804\n",
            "Epoch 13/20\n",
            "60000/60000 [==============================] - 9s 157us/step - loss: 0.1029 - acc: 0.9709 - val_loss: 0.0725 - val_acc: 0.9802\n",
            "Epoch 14/20\n",
            "60000/60000 [==============================] - 10s 160us/step - loss: 0.0971 - acc: 0.9730 - val_loss: 0.0666 - val_acc: 0.9811\n",
            "Epoch 15/20\n",
            "60000/60000 [==============================] - 10s 161us/step - loss: 0.0922 - acc: 0.9743 - val_loss: 0.0693 - val_acc: 0.9809\n",
            "Epoch 16/20\n",
            "60000/60000 [==============================] - 9s 158us/step - loss: 0.0898 - acc: 0.9753 - val_loss: 0.0631 - val_acc: 0.9832\n",
            "Epoch 17/20\n",
            "60000/60000 [==============================] - 10s 167us/step - loss: 0.0839 - acc: 0.9766 - val_loss: 0.0679 - val_acc: 0.9822\n",
            "Epoch 18/20\n",
            "60000/60000 [==============================] - 10s 159us/step - loss: 0.0847 - acc: 0.9761 - val_loss: 0.0611 - val_acc: 0.9827\n",
            "Epoch 19/20\n",
            "60000/60000 [==============================] - 10s 165us/step - loss: 0.0809 - acc: 0.9771 - val_loss: 0.0628 - val_acc: 0.9821\n",
            "Epoch 20/20\n",
            "60000/60000 [==============================] - 10s 158us/step - loss: 0.0762 - acc: 0.9785 - val_loss: 0.0631 - val_acc: 0.9816\n"
          ],
          "name": "stdout"
        }
      ]
    },
    {
      "cell_type": "code",
      "metadata": {
        "id": "gjbthrIdEcXM",
        "colab_type": "code",
        "outputId": "f2a5e857-8821-4ad0-ea57-e63ae9a4249c",
        "colab": {
          "base_uri": "https://localhost:8080/",
          "height": 313
        }
      },
      "source": [
        "score = model_drop.evaluate(X_test, Y_test, verbose=0) \n",
        "print('Test score:', score[0]) \n",
        "print('Test accuracy:', score[1])\n",
        "\n",
        "fig,ax = plt.subplots(1,1)\n",
        "ax.set_xlabel('epoch') ; ax.set_ylabel('Categorical Crossentropy Loss')\n",
        "\n",
        "# list of epoch numbers\n",
        "x = list(range(1,nb_epoch+1))\n",
        "\n",
        "# print(history.history.keys())\n",
        "# dict_keys(['val_loss', 'val_acc', 'loss', 'acc'])\n",
        "# history = model_drop.fit(X_train, Y_train, batch_size=batch_size, epochs=nb_epoch, verbose=1, validation_data=(X_test, Y_test))\n",
        "\n",
        "# we will get val_loss and val_acc only when you pass the paramter validation_data\n",
        "# val_loss : validation loss\n",
        "# val_acc : validation accuracy\n",
        "\n",
        "# loss : training loss\n",
        "# acc : train accuracy\n",
        "# for each key in histrory.histrory we will have a list of length equal to number of epochs\n",
        "\n",
        "vy = history.history['val_loss']\n",
        "ty = history.history['loss']\n",
        "plt_dynamic(x, vy, ty, ax)"
      ],
      "execution_count": 42,
      "outputs": [
        {
          "output_type": "stream",
          "text": [
            "Test score: 0.06307774550883914\n",
            "Test accuracy: 0.9816\n"
          ],
          "name": "stdout"
        },
        {
          "output_type": "display_data",
          "data": {
            "image/png": "[encoded data removed]",
            "text/plain": [
              "<Figure size 432x288 with 1 Axes>"
            ]
          },
          "metadata": {
            "tags": []
          }
        }
      ]
    },
    {
      "cell_type": "markdown",
      "metadata": {
        "id": "BGKO8RS-SpXn",
        "colab_type": "text"
      },
      "source": [
        "## **5 layered mlp with batch normalizer with dropout activation  is relu and initializer is he_normal**"
      ]
    },
    {
      "cell_type": "code",
      "metadata": {
        "id": "r5oV-9GkEcsY",
        "colab_type": "code",
        "colab": {}
      },
      "source": [
        "model_drop = Sequential()\n",
        "\n",
        "model_drop.add(Dense(500, activation='relu', input_shape=(input_dim,), kernel_initializer=he_normal(seed=None)))\n",
        "model_drop.add(BatchNormalization())\n",
        "model_drop.add(Dropout(rate=0.5))\n",
        "\n",
        "model_drop.add(Dense(324, activation='relu', kernel_initializer=he_normal(seed=None)) )\n",
        "model_drop.add(BatchNormalization())\n",
        "model_drop.add(Dropout(rate=0.5))\n",
        "\n",
        "\n",
        "\n",
        "model_drop.add(Dense(250, activation='relu',kernel_initializer=he_normal(seed=None)))\n",
        "model_drop.add(BatchNormalization())\n",
        "model_drop.add(Dropout(rate=0.5))\n",
        "\n",
        "model_drop.add(Dense(150, activation='relu', kernel_initializer=he_normal(seed=None)) )\n",
        "model_drop.add(BatchNormalization())\n",
        "model_drop.add(Dropout(rate=0.5))\n",
        "\n",
        "model_drop.add(Dense(50, activation='relu', kernel_initializer=he_normal(seed=None)) )\n",
        "model_drop.add(BatchNormalization())\n",
        "model_drop.add(Dropout(rate=0.5))\n",
        "\n",
        "model_drop.add(Dense(output_dim, activation='softmax'))"
      ],
      "execution_count": 0,
      "outputs": []
    },
    {
      "cell_type": "code",
      "metadata": {
        "id": "G60C23riEdDw",
        "colab_type": "code",
        "outputId": "caca6305-8204-4ec0-e260-62b2b40bd59c",
        "colab": {
          "base_uri": "https://localhost:8080/",
          "height": 714
        }
      },
      "source": [
        "model_drop.compile(optimizer='adam', loss='categorical_crossentropy', metrics=['accuracy'])\n",
        "\n",
        "history = model_drop.fit(X_train, Y_train, batch_size=batch_size, epochs=nb_epoch, verbose=1, validation_data=(X_test, Y_test))"
      ],
      "execution_count": 17,
      "outputs": [
        {
          "output_type": "stream",
          "text": [
            "Train on 60000 samples, validate on 10000 samples\n",
            "Epoch 1/20\n",
            "60000/60000 [==============================] - 14s 225us/step - loss: 0.1271 - acc: 0.9715 - val_loss: 0.1136 - val_acc: 0.9783\n",
            "Epoch 2/20\n",
            "60000/60000 [==============================] - 13s 215us/step - loss: 0.1220 - acc: 0.9728 - val_loss: 0.1099 - val_acc: 0.9786\n",
            "Epoch 3/20\n",
            "60000/60000 [==============================] - 13s 215us/step - loss: 0.1127 - acc: 0.9737 - val_loss: 0.1004 - val_acc: 0.9800\n",
            "Epoch 4/20\n",
            "60000/60000 [==============================] - 13s 214us/step - loss: 0.1142 - acc: 0.9740 - val_loss: 0.1065 - val_acc: 0.9784\n",
            "Epoch 5/20\n",
            "60000/60000 [==============================] - 13s 218us/step - loss: 0.1144 - acc: 0.9733 - val_loss: 0.1069 - val_acc: 0.9802\n",
            "Epoch 6/20\n",
            "60000/60000 [==============================] - 13s 219us/step - loss: 0.1079 - acc: 0.9743 - val_loss: 0.1049 - val_acc: 0.9796\n",
            "Epoch 7/20\n",
            "60000/60000 [==============================] - 13s 218us/step - loss: 0.1029 - acc: 0.9759 - val_loss: 0.1054 - val_acc: 0.9796\n",
            "Epoch 8/20\n",
            "60000/60000 [==============================] - 13s 218us/step - loss: 0.1083 - acc: 0.9754 - val_loss: 0.1047 - val_acc: 0.9807\n",
            "Epoch 9/20\n",
            "60000/60000 [==============================] - 13s 219us/step - loss: 0.1065 - acc: 0.9757 - val_loss: 0.0967 - val_acc: 0.9809\n",
            "Epoch 10/20\n",
            "60000/60000 [==============================] - 13s 220us/step - loss: 0.0996 - acc: 0.9764 - val_loss: 0.1058 - val_acc: 0.9801\n",
            "Epoch 11/20\n",
            "60000/60000 [==============================] - 13s 218us/step - loss: 0.1001 - acc: 0.9768 - val_loss: 0.1080 - val_acc: 0.9803\n",
            "Epoch 12/20\n",
            "60000/60000 [==============================] - 13s 219us/step - loss: 0.0988 - acc: 0.9771 - val_loss: 0.1060 - val_acc: 0.9796\n",
            "Epoch 13/20\n",
            "60000/60000 [==============================] - 13s 215us/step - loss: 0.0902 - acc: 0.9789 - val_loss: 0.1068 - val_acc: 0.9796\n",
            "Epoch 14/20\n",
            "60000/60000 [==============================] - 13s 219us/step - loss: 0.0923 - acc: 0.9783 - val_loss: 0.1076 - val_acc: 0.9804\n",
            "Epoch 15/20\n",
            "60000/60000 [==============================] - 13s 216us/step - loss: 0.0901 - acc: 0.9786 - val_loss: 0.1032 - val_acc: 0.9810\n",
            "Epoch 16/20\n",
            "60000/60000 [==============================] - 13s 215us/step - loss: 0.0895 - acc: 0.9791 - val_loss: 0.1012 - val_acc: 0.9808\n",
            "Epoch 17/20\n",
            "60000/60000 [==============================] - 13s 218us/step - loss: 0.0930 - acc: 0.9779 - val_loss: 0.1052 - val_acc: 0.9812\n",
            "Epoch 18/20\n",
            "60000/60000 [==============================] - 13s 215us/step - loss: 0.0916 - acc: 0.9792 - val_loss: 0.1089 - val_acc: 0.9817\n",
            "Epoch 19/20\n",
            "60000/60000 [==============================] - 13s 216us/step - loss: 0.0899 - acc: 0.9789 - val_loss: 0.1012 - val_acc: 0.9811\n",
            "Epoch 20/20\n",
            "60000/60000 [==============================] - 13s 217us/step - loss: 0.0914 - acc: 0.9788 - val_loss: 0.1018 - val_acc: 0.9830\n"
          ],
          "name": "stdout"
        }
      ]
    },
    {
      "cell_type": "code",
      "metadata": {
        "id": "Ny-4xjdSEdax",
        "colab_type": "code",
        "outputId": "a8156d66-e492-4fb3-c0c8-9555dc6572a6",
        "colab": {
          "base_uri": "https://localhost:8080/",
          "height": 313
        }
      },
      "source": [
        "score = model_drop.evaluate(X_test, Y_test, verbose=0) \n",
        "print('Test score:', score[0]) \n",
        "print('Test accuracy:', score[1])\n",
        "\n",
        "fig,ax = plt.subplots(1,1)\n",
        "ax.set_xlabel('epoch') ; ax.set_ylabel('Categorical Crossentropy Loss')\n",
        "\n",
        "# list of epoch numbers\n",
        "x = list(range(1,nb_epoch+1))\n",
        "\n",
        "# print(history.history.keys())\n",
        "# dict_keys(['val_loss', 'val_acc', 'loss', 'acc'])\n",
        "# history = model_drop.fit(X_train, Y_train, batch_size=batch_size, epochs=nb_epoch, verbose=1, validation_data=(X_test, Y_test))\n",
        "\n",
        "# we will get val_loss and val_acc only when you pass the paramter validation_data\n",
        "# val_loss : validation loss\n",
        "# val_acc : validation accuracy\n",
        "\n",
        "# loss : training loss\n",
        "# acc : train accuracy\n",
        "# for each key in histrory.histrory we will have a list of length equal to number of epochs\n",
        "\n",
        "vy = history.history['val_loss']\n",
        "ty = history.history['loss']\n",
        "plt_dynamic(x, vy, ty, ax)"
      ],
      "execution_count": 18,
      "outputs": [
        {
          "output_type": "stream",
          "text": [
            "Test score: 0.10175361420742388\n",
            "Test accuracy: 0.983\n"
          ],
          "name": "stdout"
        },
        {
          "output_type": "display_data",
          "data": {
            "image/png": "[encoded data removed]",
            "text/plain": [
              "<Figure size 432x288 with 1 Axes>"
            ]
          },
          "metadata": {
            "tags": []
          }
        }
      ]
    },
    {
      "cell_type": "code",
      "metadata": {
        "id": "qJ_k6trNq00d",
        "colab_type": "code",
        "colab": {}
      },
      "source": [
        "# Please compare all your models using Prettytable library\n",
        "from prettytable import PrettyTable\n",
        "x = PrettyTable()\n",
        "x.field_names = [\"layer\", \"type\", \"log_loss\",\"accuracy\"]"
      ],
      "execution_count": 0,
      "outputs": []
    },
    {
      "cell_type": "code",
      "metadata": {
        "id": "TJETAv77Ed58",
        "colab_type": "code",
        "colab": {}
      },
      "source": [
        "\n",
        "\n",
        "x.add_row(['2_layer','without dropout and batch_norm',0.07829980347480105,0.9832])\n",
        "x.add_row(['2_layer','without dropout and with batch_norm',0.0779731295770489,0.982])\n",
        "x.add_row(['2_layer','with dropout and without batch_norm',0.06712127507654286,0.9829])\n",
        "x.add_row(['2_layer','with dropout and with batch_norm',0.057800181532799616,0.9826])\n",
        "x.add_row(['3_layer','without dropout and batch_norm',0.10216689538143828,0.9803])\n",
        "x.add_row(['5_layer','without dropout and batch_norm',0.08569526613150633,0.9824])\n",
        "x.add_row(['3_layer','without dropout and with batch_norm',0.08583917959941027,0.9802])\n",
        "x.add_row(['5_layer','without dropout and with batch_norm',0.07765144463920151,0.9805])\n",
        "x.add_row(['3_layer','with dropout and without batch_norm',0.07902954334445494,0.9818])\n",
        "x.add_row(['5_layer','with dropout and without batch_norm',0.09795631028999714,0.9796])\n",
        "x.add_row(['3_layer','with dropout and with batch_norm',0.06307774550883914,0.9816])\n",
        "x.add_row(['5_layer','with dropout and with batch_norm',0.10175361420742388,0.983])"
      ],
      "execution_count": 0,
      "outputs": []
    },
    {
      "cell_type": "code",
      "metadata": {
        "id": "0j3Ynnrt1CzX",
        "colab_type": "code",
        "colab": {
          "base_uri": "https://localhost:8080/",
          "height": 289
        },
        "outputId": "78478b8e-210f-4772-fb79-eb669ea9f14e"
      },
      "source": [
        "print(x)"
      ],
      "execution_count": 45,
      "outputs": [
        {
          "output_type": "stream",
          "text": [
            "+---------+-------------------------------------+----------------------+----------+\n",
            "|  layer  |                 type                |       log_loss       | accuracy |\n",
            "+---------+-------------------------------------+----------------------+----------+\n",
            "| 2_layer |    without dropout and batch_norm   | 0.07829980347480105  |  0.9832  |\n",
            "| 2_layer | without dropout and with batch_norm |  0.0779731295770489  |  0.982   |\n",
            "| 2_layer | with dropout and without batch_norm | 0.06712127507654286  |  0.9829  |\n",
            "| 2_layer |   with dropout and with batch_norm  | 0.057800181532799616 |  0.9826  |\n",
            "| 3_layer |    without dropout and batch_norm   | 0.10216689538143828  |  0.9803  |\n",
            "| 5_layer |    without dropout and batch_norm   | 0.08569526613150633  |  0.9824  |\n",
            "| 3_layer | without dropout and with batch_norm | 0.08583917959941027  |  0.9802  |\n",
            "| 5_layer | without dropout and with batch_norm | 0.07765144463920151  |  0.9805  |\n",
            "| 3_layer | with dropout and without batch_norm | 0.07902954334445494  |  0.9818  |\n",
            "| 5_layer | with dropout and without batch_norm | 0.09795631028999714  |  0.9796  |\n",
            "| 3_layer |   with dropout and with batch_norm  | 0.06307774550883914  |  0.9816  |\n",
            "| 5_layer |   with dropout and with batch_norm  | 0.10175361420742388  |  0.983   |\n",
            "+---------+-------------------------------------+----------------------+----------+\n"
          ],
          "name": "stdout"
        }
      ]
    }
  ]
}