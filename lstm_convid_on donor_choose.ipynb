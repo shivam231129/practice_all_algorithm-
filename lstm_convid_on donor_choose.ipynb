{
 "cells": [
  {
   "cell_type": "markdown",
   "metadata": {
    "colab_type": "text",
    "id": "zx5FF3MmhZPi"
   },
   "source": [
    "## Assignment : 14"
   ]
  },
  {
   "cell_type": "markdown",
   "metadata": {
    "colab_type": "text",
    "id": "sNLbPkpNhZP4"
   },
   "source": [
    "<pre>\n",
    "1. Preprocess all the Data we have in DonorsChoose <a href='https://drive.google.com/drive/folders/1MIwK7BQMev8f5CbDDVNLPaFGB32pFN60'>Dataset</a> use train.csv\n",
    "2. Combine 4 essay's into one column named - 'preprocessed_essays'. \n",
    "3. After step 2 you have to train 3 types of models as discussed below. \n",
    "4. For all the model use <a href='https://scikit-learn.org/stable/modules/model_evaluation.html#roc-metrics'>'auc'</a> as a metric. check <a href='https://datascience.stackexchange.com/a/20192'>this</a> for using auc as a metric \n",
    "5. You are free to choose any number of layers/hiddden units but you have to use same type of architectures shown below. \n",
    "6. You can use any one of the optimizers and choice of Learning rate and momentum, resources: <a href='http://cs231n.github.io/neural-networks-3/'>cs231n class notes</a>, <a href='https://www.youtube.com/watch?v=hd_KFJ5ktUc'>cs231n class video</a>. \n",
    "7. For all the model's use <a href='https://www.youtube.com/watch?v=2U6Jl7oqRkM'>TensorBoard</a> and plot the Metric value and Loss with epoch. While submitting, take a screenshot of plots and include those images in .ipynb notebook and PDF. \n",
    "8. Use Categorical Cross Entropy as Loss to minimize.\n",
    "</pre>"
   ]
  },
  {
   "cell_type": "markdown",
   "metadata": {
    "colab_type": "text",
    "id": "Z1IOEgAGhZP9"
   },
   "source": [
    "### Model-1\n",
    "\n",
    "Build and Train deep neural network as shown below"
   ]
  },
  {
   "cell_type": "markdown",
   "metadata": {
    "colab_type": "text",
    "id": "2fDO4BIOhZQD"
   },
   "source": [
    "<img src='https://i.imgur.com/w395Yk9.png'>\n",
    "ref: https://i.imgur.com/w395Yk9.png"
   ]
  },
  {
   "cell_type": "markdown",
   "metadata": {
    "colab_type": "text",
    "id": "w4bLeytkhZQH"
   },
   "source": [
    "- __Input_seq_total_text_data__ --- You have to give Total text data columns. After this use the Embedding layer to get word vectors. Use given predefined glove word vectors, don't train any word vectors. After this use LSTM and get the LSTM output and Flatten that output. \n",
    "- __Input_school_state__ --- Give 'school_state' column as input to embedding layer and Train the Keras Embedding layer. \n",
    "- __Project_grade_category__  --- Give 'project_grade_category' column as input to embedding layer and Train the Keras Embedding layer.\n",
    "- __Input_clean_categories__ --- Give 'input_clean_categories' column as input to embedding layer and Train the Keras Embedding layer.\n",
    "- __Input_clean_subcategories__ --- Give 'input_clean_subcategories' column as input to embedding layer and Train the Keras Embedding layer.\n",
    "- __Input_clean_subcategories__ --- Give 'input_teacher_prefix' column as input to embedding layer and Train the Keras Embedding layer.\n",
    "- __Input_remaining_teacher_number_of_previously_posted_projects._resource_summary_contains_numerical_digits._price._quantity__ ---concatenate remaining columns and add a Dense layer after that. \n",
    "\n"
   ]
  },
  {
   "cell_type": "markdown",
   "metadata": {
    "colab_type": "text",
    "id": "qxu9TbSIhZQL"
   },
   "source": [
    "- For LSTM, you can choose your sequence padding methods on your own or you can train your LSTM without padding, there is no restriction on that."
   ]
  },
  {
   "cell_type": "markdown",
   "metadata": {
    "colab_type": "text",
    "id": "SPqi80A3hZQR"
   },
   "source": [
    "Below is an example of embedding layer for a categorical columns. In below code all are dummy values, we gave only for referance. "
   ]
  },
  {
   "cell_type": "markdown",
   "metadata": {
    "colab_type": "text",
    "id": "YxSEkJHchZQu"
   },
   "source": [
    "### 1. Go through this blog, if you have any doubt on using predefined Embedding values in Embedding layer - https://machinelearningmastery.com/use-word-embedding-layers-deep-learning-keras/\n",
    "### 2. Please go through this link https://keras.io/getting-started/functional-api-guide/ and check the 'Multi-input and multi-output models' then you will get to know how to give multiple inputs. "
   ]
  },
  {
   "cell_type": "markdown",
   "metadata": {
    "colab_type": "text",
    "id": "6BMrOG1WhZQ1"
   },
   "source": [
    "### Model-2"
   ]
  },
  {
   "cell_type": "markdown",
   "metadata": {
    "colab_type": "text",
    "id": "3pk_7vGthZQ5"
   },
   "source": [
    "Use the same model as above but for 'input_seq_total_text_data' give only some words in the sentance not all the words. Filter the words as below. "
   ]
  },
  {
   "cell_type": "markdown",
   "metadata": {
    "colab_type": "text",
    "id": "kSDj7aFKhZQ9"
   },
   "source": [
    "<pre>\n",
    "1. Train the TF-IDF on the Train data <br>\n",
    "2. Get the idf value for each word we have in the train data. <br>\n",
    "3. Remove the low idf value and high idf value words from our data. Do some analysis on the Idf values and based on those values choose the low and high threshold value. Because very frequent words and very very rare words don't give much information. (you can plot a box plots and take only the idf scores within IQR range and corresponding words)<br>\n",
    "4. Train the LSTM after removing the Low and High idf value words. (In model-1 Train on total data but in Model-2 train on data after removing some words based on IDF values)\n",
    "</pre>"
   ]
  },
  {
   "cell_type": "markdown",
   "metadata": {
    "colab_type": "text",
    "id": "bFev1EWvhZRC"
   },
   "source": [
    "### Model-3"
   ]
  },
  {
   "cell_type": "markdown",
   "metadata": {
    "colab_type": "text",
    "id": "OhGOkjE7hZRH"
   },
   "source": [
    "<img src='https://i.imgur.com/fkQ8nGo.png'>\n",
    "ref: https://i.imgur.com/fkQ8nGo.png"
   ]
  },
  {
   "cell_type": "markdown",
   "metadata": {
    "colab_type": "text",
    "id": "5O6hjacfhZRL"
   },
   "source": [
    "\n",
    "- __input_seq_total_text_data__: <br>\n",
    "<pre>\n",
    "    . Use text column('essay'), and use the Embedding layer to get word vectors. <br>\n",
    "    . Use given predefined glove word vectors, don't train any word vectors. <br>\n",
    "    . Use LSTM that is given above, get the LSTM output and Flatten that output. <br>\n",
    "    . You are free to preprocess the input text as you needed. <br>\n",
    "</pre>\n",
    "- __Other_than_text_data__:<br>\n",
    "<pre>\n",
    "    . Convert all your Categorical values to onehot coded and then concatenate all these onehot vectors <br>\n",
    "    . Neumerical values and use <a href='https://keras.io/getting-started/sequential-model-guide/#sequence-classification-with-1d-convolutions'>CNN1D</a> as shown in above figure. <br>\n",
    "    . You are free to choose all CNN parameters like kernel sizes, stride.<br>\n",
    "    \n",
    "</pre>"
   ]
  },
  {
   "cell_type": "code",
   "execution_count": 0,
   "metadata": {
    "colab": {},
    "colab_type": "code",
    "id": "SSlwWXIYhm8X"
   },
   "outputs": [],
   "source": [
    "%matplotlib inline\n",
    "import warnings\n",
    "warnings.filterwarnings(\"ignore\")\n",
    "\n",
    "import sqlite3\n",
    "import pandas as pd\n",
    "import numpy as np\n",
    "import nltk\n",
    "import string\n",
    "import matplotlib.pyplot as plt\n",
    "import seaborn as sns\n",
    "from sklearn.feature_extraction.text import TfidfTransformer\n",
    "from sklearn.feature_extraction.text import TfidfVectorizer\n",
    "\n",
    "from sklearn.feature_extraction.text import CountVectorizer\n",
    "from sklearn.metrics import confusion_matrix\n",
    "from sklearn import metrics\n",
    "from sklearn.metrics import roc_curve, auc\n",
    "from nltk.stem.porter import PorterStemmer\n",
    "from sklearn.preprocessing import LabelEncoder\n",
    "import re\n",
    "# Tutorial about Python regular expressions: https://pymotw.com/2/re/\n",
    "import string\n",
    "from nltk.corpus import stopwords\n",
    "from nltk.stem import PorterStemmer\n",
    "from nltk.stem.wordnet import WordNetLemmatizer\n",
    "\n",
    "from gensim.models import Word2Vec\n",
    "from gensim.models import KeyedVectors\n",
    "import pickle\n",
    "\n",
    "from tqdm import tqdm\n",
    "import os\n",
    "\n",
    "\n",
    "\n",
    "from collections import Counter\n",
    "from keras.utils import to_categorical\n",
    "\n",
    "from tensorflow.keras.callbacks import TensorBoard\n",
    "\n",
    "import matplotlib.pyplot as plt\n",
    "from sklearn.neighbors import KNeighborsClassifier\n",
    "from sklearn.metrics import roc_auc_score\n",
    "from scipy.sparse import hstack\n",
    "from numpy import zeros\n",
    "from keras.preprocessing.text import Tokenizer\n",
    "from keras.preprocessing.sequence import pad_sequences\n",
    "from keras.models import Sequential\n",
    "from keras.layers import Input\n",
    "from keras.layers import Flatten\n",
    "from keras.layers import Embedding\n",
    "from keras.layers import LSTM,Bidirectional\n",
    "from keras.layers.core import Dense, Dropout\n",
    "from keras.models import Model, load_model\n",
    "from keras.layers.normalization import BatchNormalization\n",
    "from keras.callbacks import ReduceLROnPlateau"
   ]
  },
  {
   "cell_type": "code",
   "execution_count": 0,
   "metadata": {
    "colab": {},
    "colab_type": "code",
    "id": "ahnn0rBfhnc3"
   },
   "outputs": [],
   "source": []
  },
  {
   "cell_type": "code",
   "execution_count": 0,
   "metadata": {
    "colab": {
     "base_uri": "https://localhost:8080/",
     "height": 34
    },
    "colab_type": "code",
    "id": "--ISEeokhnwJ",
    "outputId": "f06579c8-df66-485b-b036-4564250de664"
   },
   "outputs": [
    {
     "name": "stdout",
     "output_type": "stream",
     "text": [
      "Drive already mounted at /content/drive; to attempt to forcibly remount, call drive.mount(\"/content/drive\", force_remount=True).\n"
     ]
    }
   ],
   "source": [
    "from google.colab import drive\n",
    "drive.mount('/content/drive')"
   ]
  },
  {
   "cell_type": "code",
   "execution_count": 0,
   "metadata": {
    "colab": {},
    "colab_type": "code",
    "id": "FVobhwkehoAW"
   },
   "outputs": [],
   "source": [
    "data = \"/content/drive/My Drive/preprocessed_data.csv\""
   ]
  },
  {
   "cell_type": "code",
   "execution_count": 0,
   "metadata": {
    "colab": {},
    "colab_type": "code",
    "id": "wJtIrN9zhoSg"
   },
   "outputs": [],
   "source": [
    "file_resource = \"/content/drive/My Drive/resources.csv\"\n",
    "tr=\"/content/drive/My Drive/train_data.csv\""
   ]
  },
  {
   "cell_type": "code",
   "execution_count": 0,
   "metadata": {
    "colab": {},
    "colab_type": "code",
    "id": "vUdhSpSslem4"
   },
   "outputs": [],
   "source": [
    "proj=pd.read_csv(tr)\n",
    "price_da=pd.read_csv(file_resource)"
   ]
  },
  {
   "cell_type": "code",
   "execution_count": 0,
   "metadata": {
    "colab": {},
    "colab_type": "code",
    "id": "-EUul-R1lJR_"
   },
   "outputs": [],
   "source": [
    "project_data = pd.merge(proj, price_da, on='id', how='left')"
   ]
  },
  {
   "cell_type": "code",
   "execution_count": 0,
   "metadata": {
    "colab": {
     "base_uri": "https://localhost:8080/",
     "height": 284
    },
    "colab_type": "code",
    "id": "r69MBrdLm_5B",
    "outputId": "cc7513bc-7703-446f-ad4e-f47041d803b7"
   },
   "outputs": [
    {
     "data": {
      "text/html": [
       "<div>\n",
       "<style scoped>\n",
       "    .dataframe tbody tr th:only-of-type {\n",
       "        vertical-align: middle;\n",
       "    }\n",
       "\n",
       "    .dataframe tbody tr th {\n",
       "        vertical-align: top;\n",
       "    }\n",
       "\n",
       "    .dataframe thead th {\n",
       "        text-align: right;\n",
       "    }\n",
       "</style>\n",
       "<table border=\"1\" class=\"dataframe\">\n",
       "  <thead>\n",
       "    <tr style=\"text-align: right;\">\n",
       "      <th></th>\n",
       "      <th>Unnamed: 0</th>\n",
       "      <th>id</th>\n",
       "      <th>teacher_id</th>\n",
       "      <th>teacher_prefix</th>\n",
       "      <th>school_state</th>\n",
       "      <th>project_submitted_datetime</th>\n",
       "      <th>project_grade_category</th>\n",
       "      <th>project_subject_categories</th>\n",
       "      <th>project_subject_subcategories</th>\n",
       "      <th>project_title</th>\n",
       "      <th>project_essay_1</th>\n",
       "      <th>project_essay_2</th>\n",
       "      <th>project_essay_3</th>\n",
       "      <th>project_essay_4</th>\n",
       "      <th>project_resource_summary</th>\n",
       "      <th>teacher_number_of_previously_posted_projects</th>\n",
       "      <th>project_is_approved</th>\n",
       "      <th>description</th>\n",
       "      <th>quantity</th>\n",
       "      <th>price</th>\n",
       "    </tr>\n",
       "  </thead>\n",
       "  <tbody>\n",
       "    <tr>\n",
       "      <th>0</th>\n",
       "      <td>160221</td>\n",
       "      <td>p253737</td>\n",
       "      <td>c90749f5d961ff158d4b4d1e7dc665fc</td>\n",
       "      <td>Mrs.</td>\n",
       "      <td>IN</td>\n",
       "      <td>2016-12-05 13:43:57</td>\n",
       "      <td>Grades PreK-2</td>\n",
       "      <td>Literacy &amp; Language</td>\n",
       "      <td>ESL, Literacy</td>\n",
       "      <td>Educational Support for English Learners at Home</td>\n",
       "      <td>My students are English learners that are work...</td>\n",
       "      <td>\\\"The limits of your language are the limits o...</td>\n",
       "      <td>NaN</td>\n",
       "      <td>NaN</td>\n",
       "      <td>My students need opportunities to practice beg...</td>\n",
       "      <td>0</td>\n",
       "      <td>0</td>\n",
       "      <td>Alphabet Circus Rock and Learn DVD</td>\n",
       "      <td>3</td>\n",
       "      <td>14.59</td>\n",
       "    </tr>\n",
       "    <tr>\n",
       "      <th>1</th>\n",
       "      <td>160221</td>\n",
       "      <td>p253737</td>\n",
       "      <td>c90749f5d961ff158d4b4d1e7dc665fc</td>\n",
       "      <td>Mrs.</td>\n",
       "      <td>IN</td>\n",
       "      <td>2016-12-05 13:43:57</td>\n",
       "      <td>Grades PreK-2</td>\n",
       "      <td>Literacy &amp; Language</td>\n",
       "      <td>ESL, Literacy</td>\n",
       "      <td>Educational Support for English Learners at Home</td>\n",
       "      <td>My students are English learners that are work...</td>\n",
       "      <td>\\\"The limits of your language are the limits o...</td>\n",
       "      <td>NaN</td>\n",
       "      <td>NaN</td>\n",
       "      <td>My students need opportunities to practice beg...</td>\n",
       "      <td>0</td>\n",
       "      <td>0</td>\n",
       "      <td>Getting Ready for Kindergarten DVD</td>\n",
       "      <td>3</td>\n",
       "      <td>14.59</td>\n",
       "    </tr>\n",
       "  </tbody>\n",
       "</table>\n",
       "</div>"
      ],
      "text/plain": [
       "   Unnamed: 0       id  ... quantity  price\n",
       "0      160221  p253737  ...        3  14.59\n",
       "1      160221  p253737  ...        3  14.59\n",
       "\n",
       "[2 rows x 20 columns]"
      ]
     },
     "execution_count": 70,
     "metadata": {
      "tags": []
     },
     "output_type": "execute_result"
    }
   ],
   "source": [
    "project_data.head(2)"
   ]
  },
  {
   "cell_type": "code",
   "execution_count": 0,
   "metadata": {
    "colab": {},
    "colab_type": "code",
    "id": "euAqnGpVnMli"
   },
   "outputs": [],
   "source": [
    "quanlity=project_data['quantity']"
   ]
  },
  {
   "cell_type": "code",
   "execution_count": 0,
   "metadata": {
    "colab": {},
    "colab_type": "code",
    "id": "YMrmxpS9hojz"
   },
   "outputs": [],
   "source": [
    "x=pd.read_csv(data)\n",
    "y=x['project_is_approved']"
   ]
  },
  {
   "cell_type": "code",
   "execution_count": 0,
   "metadata": {
    "colab": {},
    "colab_type": "code",
    "id": "6g6IqGcqfI3P"
   },
   "outputs": [],
   "source": [
    "from keras.utils import to_categorical\n",
    "y = to_categorical(y)"
   ]
  },
  {
   "cell_type": "code",
   "execution_count": 0,
   "metadata": {
    "colab": {},
    "colab_type": "code",
    "id": "-r3txDpAhpLa"
   },
   "outputs": [],
   "source": [
    "x['quantity']=quanlity"
   ]
  },
  {
   "cell_type": "code",
   "execution_count": 0,
   "metadata": {
    "colab": {},
    "colab_type": "code",
    "id": "NqPozn0cjfwv"
   },
   "outputs": [],
   "source": [
    "from sklearn.model_selection import train_test_split\n",
    "\n",
    "x_train,x_test,y_train,y_test=train_test_split(x,y,test_size=0.2,stratify=y)"
   ]
  },
  {
   "cell_type": "code",
   "execution_count": 0,
   "metadata": {
    "colab": {},
    "colab_type": "code",
    "id": "53uo0-VsuXMw"
   },
   "outputs": [],
   "source": [
    "rem_input_train = np.concatenate((x_train['quantity'].values.reshape(-1,1),x_train['price'].values.reshape(-1,1),x_train['teacher_number_of_previously_posted_projects'].values.reshape(-1,1)), axis=1)\n",
    "#rem_input_cv = np.concatenate((x_cross['quantity'].values.reshape(-1,1),x_cross['price'].values.reshape(-1,1),x_cross['teacher_number_of_previously_posted_projects'].values.reshape(-1,1)), axis=1)\n",
    "rem_input_test = np.concatenate((x_test['quantity'].values.reshape(-1,1),x_test['price'].values.reshape(-1,1),x_test['teacher_number_of_previously_posted_projects'].values.reshape(-1,1)), axis=1)"
   ]
  },
  {
   "cell_type": "code",
   "execution_count": 0,
   "metadata": {
    "colab": {},
    "colab_type": "code",
    "id": "uA8Bny3NqiON"
   },
   "outputs": [],
   "source": [
    "\n",
    "rem_input_train_norm  = np.hstack((x_train_price_norm,x_train_tpp_norm,x_train_qty_norm))\n",
    "rem_input_test_norm = np.hstack((x_test_price_norm,x_test_tpp_norm,x_test_qty_norm))"
   ]
  },
  {
   "cell_type": "code",
   "execution_count": 0,
   "metadata": {
    "colab": {},
    "colab_type": "code",
    "id": "RxDuBVjNqzEJ"
   },
   "outputs": [],
   "source": [
    "from sklearn.preprocessing import StandardScaler\n",
    "scale = StandardScaler().fit(rem_input_train)\n",
    "rem_input_train_norm = scale.transform(rem_input_train)\n",
    "\n",
    "rem_input_test_norm = scale.transform(rem_input_test)"
   ]
  },
  {
   "cell_type": "code",
   "execution_count": 0,
   "metadata": {
    "colab": {
     "base_uri": "https://localhost:8080/",
     "height": 34
    },
    "colab_type": "code",
    "id": "CaqdbqqRm-pM",
    "outputId": "4421c52d-48f8-4072-8226-e795e784e06c"
   },
   "outputs": [
    {
     "data": {
      "text/plain": [
       "(21850, 3)"
      ]
     },
     "execution_count": 160,
     "metadata": {
      "tags": []
     },
     "output_type": "execute_result"
    }
   ],
   "source": [
    "rem_input_test_norm .shape"
   ]
  },
  {
   "cell_type": "code",
   "execution_count": 0,
   "metadata": {
    "colab": {},
    "colab_type": "code",
    "id": "z0SDgXHXqzaA"
   },
   "outputs": [],
   "source": [
    "### text"
   ]
  },
  {
   "cell_type": "code",
   "execution_count": 0,
   "metadata": {
    "colab": {
     "base_uri": "https://localhost:8080/",
     "height": 34
    },
    "colab_type": "code",
    "id": "UrRenJKgjgyv",
    "outputId": "d8f1e21a-fd90-43ce-bbbe-70a5e11525cc"
   },
   "outputs": [
    {
     "name": "stdout",
     "output_type": "stream",
     "text": [
      "Total unique words in the x_train 51763\n"
     ]
    }
   ],
   "source": [
    "#https://subscription.packtpub.com/book/application_development/9781782167853/1/ch01lvl1sec10/tokenizing-sentences-into-words\n",
    "t = Tokenizer()\n",
    "t.fit_on_texts(x_train['essay'])\n",
    "vocab_size = len(t.word_index) + 1\n",
    "print('Total unique words in the x_train',vocab_size)\n",
    "encoded_train = t.texts_to_sequences(x_train['essay'])\n",
    "encoded_test = t.texts_to_sequences(x_test['essay'])"
   ]
  },
  {
   "cell_type": "code",
   "execution_count": 0,
   "metadata": {
    "colab": {
     "base_uri": "https://localhost:8080/",
     "height": 51
    },
    "colab_type": "code",
    "id": "fyXhnGAttRLw",
    "outputId": "f87c0c68-ae60-4e25-eec8-910306400c49"
   },
   "outputs": [
    {
     "name": "stdout",
     "output_type": "stream",
     "text": [
      "length of padded_train data 87398\n",
      "length of padded_test data 21850\n"
     ]
    }
   ],
   "source": [
    "max_length = 300\n",
    "padded_train = pad_sequences(encoded_train, maxlen=max_length, padding='post')\n",
    "padded_test = pad_sequences(encoded_test, maxlen=max_length, padding='post')\n",
    "print(\"length of padded_train data\",len(padded_train))\n",
    "print(\"length of padded_test data\",len(padded_test))"
   ]
  },
  {
   "cell_type": "code",
   "execution_count": 0,
   "metadata": {
    "colab": {},
    "colab_type": "code",
    "id": "4xTO9gh5vtjg"
   },
   "outputs": [],
   "source": [
    "fil = '/content/drive/My Drive/glove_vectors'"
   ]
  },
  {
   "cell_type": "code",
   "execution_count": 0,
   "metadata": {
    "colab": {},
    "colab_type": "code",
    "id": "T5vaHCgDwQ0Q"
   },
   "outputs": [],
   "source": [
    "with open('/content/drive/My Drive/glove_vectors', 'rb') as f:\n",
    "    model = pickle.load(f)\n",
    "    glove_words =  set(model.keys())\n",
    "    \n",
    "# for train\n",
    "embedding_matrix_train = np.zeros((vocab_size, 300))\n",
    "for word, i in t.word_index.items():\n",
    "    if word in glove_words:\n",
    "        embedding_vector = model[word]\n",
    "        embedding_matrix_train[i] = embedding_vector"
   ]
  },
  {
   "cell_type": "code",
   "execution_count": 0,
   "metadata": {
    "colab": {},
    "colab_type": "code",
    "id": "1JBLkhXltX0A"
   },
   "outputs": [],
   "source": [
    "###\"#\" cate"
   ]
  },
  {
   "cell_type": "code",
   "execution_count": 0,
   "metadata": {
    "colab": {},
    "colab_type": "code",
    "id": "GEl2PFGytYF9"
   },
   "outputs": [],
   "source": [
    "def self_token(column):\n",
    "    unique = list(set(column))\n",
    "    total = list(column)\n",
    "    size = len(unique)\n",
    "    count = []\n",
    "    for category in unique:\n",
    "        count.append([total.count(category),category])\n",
    "    count.sort()\n",
    "    rank = {}\n",
    "    for i in range(1,len(count)+1):\n",
    "        rank.update({count[i-1][1] : i})\n",
    "    return (rank , unique,size)"
   ]
  },
  {
   "cell_type": "code",
   "execution_count": 0,
   "metadata": {
    "colab": {},
    "colab_type": "code",
    "id": "SRmAj5xfGVzU"
   },
   "outputs": [],
   "source": [
    "from sklearn.preprocessing import LabelEncoder\n",
    "\n",
    "le = LabelEncoder()\n",
    "\n",
    "le.fit(x_train['clean_categories'])\n",
    "\n",
    "x_test[\"clean_categories\"] = x_test[\"clean_categories\"].map(lambda a: '<unknown>' if a not in le.classes_ else a)\n",
    "#x_cv[\"project_subject_categories\"] = x_cv[\"project_subject_categories\"].map(lambda a: '<unknown>' if a not in le.classes_ else a)\n",
    "\n",
    "le.classes_ = np.append(le.classes_, '<unknown>')\n",
    "\n",
    "tr_pro_encode = le.transform(x_train['clean_categories'])\n",
    "\n",
    "test_pro_encode = le.transform(x_test['clean_categories'])"
   ]
  },
  {
   "cell_type": "code",
   "execution_count": 0,
   "metadata": {
    "colab": {},
    "colab_type": "code",
    "id": "AYPEqmSLG2sB"
   },
   "outputs": [],
   "source": [
    "from sklearn.preprocessing import LabelEncoder\n",
    "\n",
    "le = LabelEncoder()\n",
    "\n",
    "le.fit(x_train['clean_subcategories'])\n",
    "\n",
    "x_test[\"clean_subcategories\"] = x_test[\"clean_subcategories\"].map(lambda a: '<unknown>' if a not in le.classes_ else a)\n",
    "\n",
    "le.classes_ = np.append(le.classes_, '<unknown>')\n",
    "\n",
    "tr_pro_sub_encode = le.transform(x_train['clean_subcategories'])\n",
    "#cv_pro_sub_encode = le.transform(x_cv['clean_subcategories'])\n",
    "test_pro_sub_encode = le.transform(x_test['clean_subcategories'])"
   ]
  },
  {
   "cell_type": "code",
   "execution_count": 0,
   "metadata": {
    "colab": {},
    "colab_type": "code",
    "id": "OiEWoDLUDz_A"
   },
   "outputs": [],
   "source": [
    "from sklearn.preprocessing import LabelEncoder\n",
    "\n",
    "le = LabelEncoder()\n",
    "\n",
    "tr_sch_encode = le.fit_transform(x_train['school_state'])\n",
    "#cv_sch_encode = le.transform(x_cv['school_state'])\n",
    "test_sch_encode = le.transform(x_test['school_state'])"
   ]
  },
  {
   "cell_type": "code",
   "execution_count": 0,
   "metadata": {
    "colab": {},
    "colab_type": "code",
    "id": "6h65gW4-DfxQ"
   },
   "outputs": [],
   "source": [
    "\n",
    "from sklearn.preprocessing import LabelEncoder\n",
    "\n",
    "le = LabelEncoder()\n",
    "\n",
    "tr_tea_pre_encode = le.fit_transform(x_train['teacher_prefix'])\n",
    "#cv_tea_pre_encode = le.transform(x_cv['teacher_prefix'])\n",
    "test_tea_pre_encode = le.transform(x_test['teacher_prefix'])"
   ]
  },
  {
   "cell_type": "code",
   "execution_count": 0,
   "metadata": {
    "colab": {
     "base_uri": "https://localhost:8080/",
     "height": 34
    },
    "colab_type": "code",
    "id": "2aeGkfDqxEqg",
    "outputId": "8e633ed5-75e8-4d7f-8541-bba8e6627b8b"
   },
   "outputs": [
    {
     "name": "stdout",
     "output_type": "stream",
     "text": [
      "{'dr': 1, 'teacher': 2, 'mr': 3, 'ms': 4, 'mrs': 5}\n"
     ]
    }
   ],
   "source": [
    "t_prefix_rank, unique,size = self_token(x_train['teacher_prefix'])\n",
    "print(t_prefix_rank)\n",
    "teacher_prefix_size =size\n",
    "encoded_t_prefix_train = []\n",
    "encoded_t_prefix_test = []\n",
    "for prefix in x_train['teacher_prefix']:\n",
    "    encoded_t_prefix_train.append(t_prefix_rank[prefix])\n",
    "\n",
    "for prefix in x_test['teacher_prefix']:\n",
    "    if prefix in unique:\n",
    "        encoded_t_prefix_test.append(t_prefix_rank[prefix]) \n",
    "    else:\n",
    "        encoded_t_prefix_test.append(0) \n",
    "    \n",
    "encoded_t_prefix_train = np.asarray(encoded_t_prefix_train)\n",
    "encoded_t_prefix_test = np.asarray(encoded_t_prefix_test)"
   ]
  },
  {
   "cell_type": "code",
   "execution_count": 0,
   "metadata": {
    "colab": {},
    "colab_type": "code",
    "id": "LzjTUnTBDsBq"
   },
   "outputs": [],
   "source": [
    "from sklearn.preprocessing import LabelEncoder\n",
    "\n",
    "le = LabelEncoder()\n",
    "\n",
    "tr_pro_gra_encode = le.fit_transform(x_train['project_grade_category'])\n",
    "#cv_pro_gra_encode = le.transform(x_cv['project_grade_category'])\n",
    "test_pro_gra_encode = le.transform(x_test['project_grade_category'])"
   ]
  },
  {
   "cell_type": "code",
   "execution_count": 0,
   "metadata": {
    "colab": {
     "base_uri": "https://localhost:8080/",
     "height": 102
    },
    "colab_type": "code",
    "id": "A0zwfkkUR-79",
    "outputId": "8bf8e389-4405-48fd-eba2-ca8589999e14"
   },
   "outputs": [
    {
     "data": {
      "text/plain": [
       "Index(['school_state', 'teacher_prefix', 'project_grade_category',\n",
       "       'teacher_number_of_previously_posted_projects', 'project_is_approved',\n",
       "       'clean_categories', 'clean_subcategories', 'essay', 'price',\n",
       "       'quantity'],\n",
       "      dtype='object')"
      ]
     },
     "execution_count": 83,
     "metadata": {
      "tags": []
     },
     "output_type": "execute_result"
    }
   ],
   "source": [
    "x_train.columns"
   ]
  },
  {
   "cell_type": "code",
   "execution_count": 0,
   "metadata": {
    "colab": {},
    "colab_type": "code",
    "id": "LXRkDyulMved"
   },
   "outputs": [],
   "source": [
    "ins = []\n",
    "concat = []"
   ]
  },
  {
   "cell_type": "code",
   "execution_count": 0,
   "metadata": {
    "colab": {},
    "colab_type": "code",
    "id": "-xyAlTqxIKaD"
   },
   "outputs": [],
   "source": [
    "from keras.layers import Reshape,Concatenate"
   ]
  },
  {
   "cell_type": "markdown",
   "metadata": {
    "colab_type": "text",
    "id": "l4oCeBvf5Skf"
   },
   "source": [
    "##### creating embedding layer for categorical data"
   ]
  },
  {
   "cell_type": "code",
   "execution_count": 0,
   "metadata": {
    "colab": {},
    "colab_type": "code",
    "id": "fw0Jpq4jS1sA"
   },
   "outputs": [],
   "source": [
    "# Unique values\n",
    "# Unique values\n",
    "tea_pre_uni = x_train['teacher_prefix'].nunique()\n",
    "emb_tea_pre_size = int(np.ceil((tea_pre_uni) / 2))\n",
    "\n",
    "# Creating an input layer\n",
    "inp_tea_pre = Input(shape = (1,), name = \"teacher_prefix\")\n",
    "\n",
    "# Creating an embedding layer\n",
    "emb_tea_pre = Embedding(input_dim = tea_pre_uni, output_dim = emb_tea_pre_size,\n",
    "                         trainable = True, name = \"teacher_prefix_emb\")(inp_tea_pre)\n",
    "\n",
    "flatten_tea_pre = Flatten()(emb_tea_pre)"
   ]
  },
  {
   "cell_type": "code",
   "execution_count": 0,
   "metadata": {
    "colab": {},
    "colab_type": "code",
    "id": "KH8sHF80Tk2O"
   },
   "outputs": [],
   "source": [
    "# Unique values\n",
    "sch_uni = x_train['school_state'].nunique()\n",
    "emb_sch_size = int(np.ceil((sch_uni) / 2))\n",
    "\n",
    "# Creating an input layer\n",
    "inp_sch = Input(shape = (1,), name = \"school_state\")\n",
    "\n",
    "# Creating an embedding layer\n",
    "emb_sch = Embedding(input_dim = sch_uni, output_dim = emb_sch_size,\n",
    "                         trainable = True, name = \"school_state_emb\")(inp_sch)\n",
    "\n",
    "flatten_sch = Flatten()(emb_sch)"
   ]
  },
  {
   "cell_type": "code",
   "execution_count": 0,
   "metadata": {
    "colab": {},
    "colab_type": "code",
    "id": "UXcRDY1wTli8"
   },
   "outputs": [],
   "source": [
    "\n",
    "# Unique values\n",
    "pro_gra_uni = x_train['project_grade_category'].nunique()\n",
    "emb_pro_gra_size = int(np.ceil((pro_gra_uni) / 2))\n",
    "\n",
    "# Creating an input layer\n",
    "inp_pro_gra = Input(shape = (1,), name = \"project_grade_category\")\n",
    "\n",
    "# Creating an embedding layer\n",
    "emb_pro_gra = Embedding(input_dim = pro_gra_uni, output_dim = emb_pro_gra_size,\n",
    "                         trainable = True, name = \"project_grade_category_emb\")(inp_pro_gra)\n",
    "\n",
    "flatten_pro_gra = Flatten()(emb_pro_gra)"
   ]
  },
  {
   "cell_type": "code",
   "execution_count": 0,
   "metadata": {
    "colab": {},
    "colab_type": "code",
    "id": "SxZ52aTcTmI9"
   },
   "outputs": [],
   "source": [
    "# Unique values\n",
    "pro_sub_uni = x_train['clean_categories'].nunique()\n",
    "emb_pro_sub_size = int(np.ceil((pro_sub_uni) / 2))\n",
    "\n",
    "# Creating an input layer\n",
    "inp_pro_sub = Input(shape = (1,), name = \"clean_categories\")\n",
    "\n",
    "# Creating an embedding layer\n",
    "emb_pro_sub = Embedding(input_dim = pro_sub_uni, output_dim = emb_pro_sub_size,\n",
    "                         trainable = True, name = \"project_subject_categories_emb\")(inp_pro_sub)\n",
    "\n",
    "flatten_pro_sub = Flatten()(emb_pro_sub)"
   ]
  },
  {
   "cell_type": "code",
   "execution_count": 0,
   "metadata": {
    "colab": {},
    "colab_type": "code",
    "id": "fNY5tfEaWobs"
   },
   "outputs": [],
   "source": [
    "\n",
    "# Unique values\n",
    "pro_sub_1_uni = x_train['clean_subcategories'].nunique()\n",
    "\n",
    "\n",
    "emb_pro_sub_1_size = int(min(np.ceil((pro_sub_1_uni) / 2), 50))\n",
    "\n",
    "# Creating an input layer\n",
    "inp_pro_sub_1 = Input(shape = (1,), name = \"project_subject_subcategories\")\n",
    "\n",
    "# Creating an embedding layer\n",
    "emb_pro_sub_1 = Embedding(input_dim = pro_sub_1_uni, output_dim = emb_pro_sub_1_size,\n",
    "                         trainable = True, name = \"project_subject_subcategories_emb\")(inp_pro_sub)\n",
    "\n",
    "flatten_pro_sub_1 = Flatten()(emb_pro_sub_1)"
   ]
  },
  {
   "cell_type": "code",
   "execution_count": 0,
   "metadata": {
    "colab": {},
    "colab_type": "code",
    "id": "CH9snSRMWo5m"
   },
   "outputs": [],
   "source": []
  },
  {
   "cell_type": "code",
   "execution_count": 0,
   "metadata": {
    "colab": {},
    "colab_type": "code",
    "id": "q3tQXibAIJ-F"
   },
   "outputs": [],
   "source": [
    "x = concatenate([flatten_1,flatten_2,flatten_3,flatten_4,flatten_5,flatten_6,dense_1])"
   ]
  },
  {
   "cell_type": "markdown",
   "metadata": {
    "colab_type": "text",
    "id": "RiXWJj4AHqd4"
   },
   "source": []
  },
  {
   "cell_type": "code",
   "execution_count": 0,
   "metadata": {
    "colab": {
     "base_uri": "https://localhost:8080/",
     "height": 71
    },
    "colab_type": "code",
    "id": "AP-kVoO8mX-I",
    "outputId": "c31f9c43-58c4-4f91-ab9b-f59fb0bb2639"
   },
   "outputs": [
    {
     "name": "stdout",
     "output_type": "stream",
     "text": [
      "WARNING:tensorflow:From /usr/local/lib/python3.6/dist-packages/keras/backend/tensorflow_backend.py:107: The name tf.reset_default_graph is deprecated. Please use tf.compat.v1.reset_default_graph instead.\n",
      "\n"
     ]
    }
   ],
   "source": [
    "import keras.backend as K\n",
    "K.clear_session()"
   ]
  },
  {
   "cell_type": "code",
   "execution_count": 0,
   "metadata": {
    "colab": {},
    "colab_type": "code",
    "id": "jiyeRhzHxo_4"
   },
   "outputs": [],
   "source": [
    "from keras.layers import Flatten\n",
    "from keras.regularizers import l2\n",
    "from keras.layers import concatenate"
   ]
  },
  {
   "cell_type": "code",
   "execution_count": 0,
   "metadata": {
    "colab": {},
    "colab_type": "code",
    "id": "q4amQj8WcVm5"
   },
   "outputs": [],
   "source": [
    "essay_input = Input(shape=(300,), name='essay_input')\n",
    "\n",
    "x = Embedding(vocab_size, 300, weights=[embedding_matrix_train],trainable = False, input_length=300)(essay_input)\n",
    "lstm_out = LSTM(100,recurrent_dropout=0.5,return_sequences=True)(x)\n",
    "flatten_1 = Flatten()(lstm_out)"
   ]
  },
  {
   "cell_type": "code",
   "execution_count": 0,
   "metadata": {
    "colab": {
     "base_uri": "https://localhost:8080/",
     "height": 292
    },
    "colab_type": "code",
    "id": "tdSS13wrNkKY",
    "outputId": "58c6be76-1c19-429f-fcfc-5740d88dfd2f"
   },
   "outputs": [
    {
     "name": "stdout",
     "output_type": "stream",
     "text": [
      "WARNING:tensorflow:From /usr/local/lib/python3.6/dist-packages/keras/backend/tensorflow_backend.py:190: The name tf.get_default_session is deprecated. Please use tf.compat.v1.get_default_session instead.\n",
      "\n",
      "WARNING:tensorflow:From /usr/local/lib/python3.6/dist-packages/keras/backend/tensorflow_backend.py:197: The name tf.ConfigProto is deprecated. Please use tf.compat.v1.ConfigProto instead.\n",
      "\n",
      "WARNING:tensorflow:From /usr/local/lib/python3.6/dist-packages/keras/backend/tensorflow_backend.py:203: The name tf.Session is deprecated. Please use tf.compat.v1.Session instead.\n",
      "\n",
      "WARNING:tensorflow:From /usr/local/lib/python3.6/dist-packages/keras/backend/tensorflow_backend.py:207: The name tf.global_variables is deprecated. Please use tf.compat.v1.global_variables instead.\n",
      "\n",
      "WARNING:tensorflow:From /usr/local/lib/python3.6/dist-packages/keras/backend/tensorflow_backend.py:216: The name tf.is_variable_initialized is deprecated. Please use tf.compat.v1.is_variable_initialized instead.\n",
      "\n",
      "WARNING:tensorflow:From /usr/local/lib/python3.6/dist-packages/keras/backend/tensorflow_backend.py:223: The name tf.variables_initializer is deprecated. Please use tf.compat.v1.variables_initializer instead.\n",
      "\n",
      "WARNING:tensorflow:From /usr/local/lib/python3.6/dist-packages/keras/backend/tensorflow_backend.py:3733: calling dropout (from tensorflow.python.ops.nn_ops) with keep_prob is deprecated and will be removed in a future version.\n",
      "Instructions for updating:\n",
      "Please use `rate` instead of `keep_prob`. Rate should be set to `rate = 1 - keep_prob`.\n"
     ]
    }
   ],
   "source": [
    "# Creating an input layer\n",
    "input_lay = Input(shape = (300, ), name = \"Input_Text_Data\")\n",
    "\n",
    "# Creating an embedding layer\n",
    "emb_lay = Embedding(input_dim = vocab_size, output_dim = 300,\n",
    "                         input_length = 300, weights = [embedding_matrix_train],\n",
    "                         trainable = False, name = \"lstm_text_layer\")(input_lay)\n",
    "\n",
    "# Creating LSTM layer\n",
    "emb_lay_text = LSTM(128, return_sequences = True, dropout = 0.3)(emb_lay)\n",
    "\n",
    "flatten_1 = Flatten()(emb_lay_text)"
   ]
  },
  {
   "cell_type": "code",
   "execution_count": 0,
   "metadata": {
    "colab": {},
    "colab_type": "code",
    "id": "ySU_KkF8xb6-"
   },
   "outputs": [],
   "source": [
    "import keras\n",
    "from tensorboardcolab import *\n",
    "from keras.regularizers import l2\n",
    "from keras.layers import LeakyReLU\n"
   ]
  },
  {
   "cell_type": "code",
   "execution_count": 0,
   "metadata": {
    "colab": {},
    "colab_type": "code",
    "id": "IEvaTRY6wWZW"
   },
   "outputs": [],
   "source": [
    "rem_input_layer =  Input(shape=(3,), name=\"rem_input_layer\")\n",
    "\n",
    "rem_input_dense = Dense(64, activation='relu',kernel_initializer='glorot_normal',kernel_regularizer=l2(0.001))(rem_input_layer)"
   ]
  },
  {
   "cell_type": "code",
   "execution_count": 0,
   "metadata": {
    "colab": {},
    "colab_type": "code",
    "id": "nSUT00shPh1U"
   },
   "outputs": [],
   "source": [
    "remaining_input = Input(shape=(3,), name='remaining_input')\n",
    "dense_1 = Dense(100, activation='relu',kernel_initializer=\"he_normal\",kernel_regularizer=l2(0.001))(remaining_input)\n"
   ]
  },
  {
   "cell_type": "code",
   "execution_count": 0,
   "metadata": {
    "colab": {},
    "colab_type": "code",
    "id": "KEl4H9FJPZvY"
   },
   "outputs": [],
   "source": [
    "from keras.layers import concatenate\n",
    "    \n",
    "con_lay = concatenate([flatten_1, flatten_tea_pre, flatten_sch, flatten_pro_gra, flatten_pro_sub, flatten_pro_sub_1, rem_input_dense])"
   ]
  },
  {
   "cell_type": "code",
   "execution_count": 0,
   "metadata": {
    "colab": {
     "base_uri": "https://localhost:8080/",
     "height": 1000
    },
    "colab_type": "code",
    "id": "QPcURsClxpk3",
    "outputId": "b9b0cb46-dd9a-43a0-817f-d7821182d7db"
   },
   "outputs": [
    {
     "name": "stdout",
     "output_type": "stream",
     "text": [
      "Model: \"model_1\"\n",
      "__________________________________________________________________________________________________\n",
      "Layer (type)                    Output Shape         Param #     Connected to                     \n",
      "==================================================================================================\n",
      "Input_Text_Data (InputLayer)    (None, 300)          0                                            \n",
      "__________________________________________________________________________________________________\n",
      "lstm_text_layer (Embedding)     (None, 300, 300)     15528900    Input_Text_Data[0][0]            \n",
      "__________________________________________________________________________________________________\n",
      "teacher_prefix (InputLayer)     (None, 1)            0                                            \n",
      "__________________________________________________________________________________________________\n",
      "school_state (InputLayer)       (None, 1)            0                                            \n",
      "__________________________________________________________________________________________________\n",
      "project_grade_category (InputLa (None, 1)            0                                            \n",
      "__________________________________________________________________________________________________\n",
      "clean_categories (InputLayer)   (None, 1)            0                                            \n",
      "__________________________________________________________________________________________________\n",
      "lstm_1 (LSTM)                   (None, 300, 128)     219648      lstm_text_layer[0][0]            \n",
      "__________________________________________________________________________________________________\n",
      "teacher_prefix_emb (Embedding)  (None, 1, 3)         15          teacher_prefix[0][0]             \n",
      "__________________________________________________________________________________________________\n",
      "school_state_emb (Embedding)    (None, 1, 26)        1326        school_state[0][0]               \n",
      "__________________________________________________________________________________________________\n",
      "project_grade_category_emb (Emb (None, 1, 2)         8           project_grade_category[0][0]     \n",
      "__________________________________________________________________________________________________\n",
      "project_subject_categories_emb  (None, 1, 25)        1250        clean_categories[0][0]           \n",
      "__________________________________________________________________________________________________\n",
      "project_subject_subcategories_e (None, 1, 50)        19750       clean_categories[0][0]           \n",
      "__________________________________________________________________________________________________\n",
      "rem_input_layer (InputLayer)    (None, 3)            0                                            \n",
      "__________________________________________________________________________________________________\n",
      "flatten_6 (Flatten)             (None, 38400)        0           lstm_1[0][0]                     \n",
      "__________________________________________________________________________________________________\n",
      "flatten_1 (Flatten)             (None, 3)            0           teacher_prefix_emb[0][0]         \n",
      "__________________________________________________________________________________________________\n",
      "flatten_2 (Flatten)             (None, 26)           0           school_state_emb[0][0]           \n",
      "__________________________________________________________________________________________________\n",
      "flatten_3 (Flatten)             (None, 2)            0           project_grade_category_emb[0][0] \n",
      "__________________________________________________________________________________________________\n",
      "flatten_4 (Flatten)             (None, 25)           0           project_subject_categories_emb[0]\n",
      "__________________________________________________________________________________________________\n",
      "flatten_5 (Flatten)             (None, 50)           0           project_subject_subcategories_emb\n",
      "__________________________________________________________________________________________________\n",
      "dense_1 (Dense)                 (None, 64)           256         rem_input_layer[0][0]            \n",
      "__________________________________________________________________________________________________\n",
      "concatenate_1 (Concatenate)     (None, 38570)        0           flatten_6[0][0]                  \n",
      "                                                                 flatten_1[0][0]                  \n",
      "                                                                 flatten_2[0][0]                  \n",
      "                                                                 flatten_3[0][0]                  \n",
      "                                                                 flatten_4[0][0]                  \n",
      "                                                                 flatten_5[0][0]                  \n",
      "                                                                 dense_1[0][0]                    \n",
      "__________________________________________________________________________________________________\n",
      "dense_2 (Dense)                 (None, 256)          9874176     concatenate_1[0][0]              \n",
      "__________________________________________________________________________________________________\n",
      "dropout_1 (Dropout)             (None, 256)          0           dense_2[0][0]                    \n",
      "__________________________________________________________________________________________________\n",
      "dense_3 (Dense)                 (None, 128)          32896       dropout_1[0][0]                  \n",
      "__________________________________________________________________________________________________\n",
      "dropout_2 (Dropout)             (None, 128)          0           dense_3[0][0]                    \n",
      "__________________________________________________________________________________________________\n",
      "dense_4 (Dense)                 (None, 64)           8256        dropout_2[0][0]                  \n",
      "__________________________________________________________________________________________________\n",
      "dropout_3 (Dropout)             (None, 64)           0           dense_4[0][0]                    \n",
      "__________________________________________________________________________________________________\n",
      "dense_5 (Dense)                 (None, 32)           2080        dropout_3[0][0]                  \n",
      "__________________________________________________________________________________________________\n",
      "dropout_4 (Dropout)             (None, 32)           0           dense_5[0][0]                    \n",
      "__________________________________________________________________________________________________\n",
      "model_1_output (Dense)          (None, 2)            66          dropout_4[0][0]                  \n",
      "==================================================================================================\n",
      "Total params: 25,688,627\n",
      "Trainable params: 10,159,727\n",
      "Non-trainable params: 15,528,900\n",
      "__________________________________________________________________________________________________\n",
      "None\n"
     ]
    }
   ],
   "source": [
    "\n",
    "\n",
    "\n",
    "#con_lay = concatenate([flatten_1, flatten_tea_pre, flatten_sch, flatten_pro_gra, flatten_pro_sub, flatten_pro_sub_1, emb_num])\n",
    "\n",
    "'''state = Input(shape=(1,), name='school_state')\n",
    "x = Embedding(state_size, 10, input_length=1)(state)\n",
    "flatten_2 = Flatten()(x)\n",
    "\n",
    "\n",
    "project_grade_category = Input(shape=(1,), name='project_grade_category')\n",
    "x = Embedding(project_grade_categories_size, 10, input_length=1)(project_grade_category)\n",
    "flatten_3 = Flatten()(x)\n",
    "\n",
    "\n",
    "clean_categories = Input(shape=(1,), name='clean_categories')\n",
    "x = Embedding(categories_size, 10, input_length=1)(clean_categories)\n",
    "flatten_4 = Flatten()(x)\n",
    "\n",
    "\n",
    "clean_sub_categories = Input(shape=(1,), name='clean_sub_categories')\n",
    "x = Embedding(subcategories_size, 10, input_length=1)(clean_sub_categories)\n",
    "flatten_5 = Flatten()(x)\n",
    "\n",
    "\n",
    "teacher_prefix = Input(shape=(1,), name='teacher_prefix')\n",
    "x = Embedding(teacher_prefix_size, 10, input_length=1)(teacher_prefix)\n",
    "flatten_6 = Flatten()(x)'''\n",
    "\n",
    "\n",
    "'''remaining_input = Input(shape=(3,), name='remaining_input')\n",
    "dense_1 = Dense(1, activation='relu',kernel_initializer=\"he_normal\",kernel_regularizer=l2(0.001))(remaining_input)\n",
    "\n",
    "con_lay = concatenate([flatten_1, flatten_tea_pre, flatten_sch, flatten_pro_gra, flatten_pro_sub, flatten_pro_sub_1, dense_1],axis=1)'''\n",
    "\n",
    "# Layer 1\n",
    "m = Dense(256, activation = 'relu', kernel_regularizer = l2(0.01))(con_lay)\n",
    "m = Dropout(0.3)(m)\n",
    "\n",
    "# Layer 2\n",
    "m = Dense(128, activation = 'relu', kernel_regularizer = l2(0.01))(m)\n",
    "m = Dropout(0.3)(m)\n",
    "\n",
    "# Layer 3\n",
    "m = Dense(64, activation = 'relu', kernel_regularizer = l2(0.01))(m)\n",
    "m = Dropout(0.3)(m)\n",
    "\n",
    "# Layer 4\n",
    "m = Dense(32, activation = 'relu', kernel_regularizer = l2(0.01))(m)\n",
    "m = Dropout(0.3)(m)\n",
    "\n",
    "# Output layer\n",
    "final_output = Dense(2, activation = 'softmax', name= 'model_1_output')(m)\n",
    "\n",
    "model_1 = Model(inputs = [input_lay, inp_tea_pre, inp_sch, inp_pro_gra,\n",
    "                        inp_pro_sub, inp_pro_sub_1, rem_input_layer],outputs=[final_output])\n",
    "print(model_1.summary())"
   ]
  },
  {
   "cell_type": "code",
   "execution_count": 0,
   "metadata": {
    "colab": {},
    "colab_type": "code",
    "id": "ApNsRhwF1SBr"
   },
   "outputs": [],
   "source": [
    "from keras import backend as K\n",
    "from keras.callbacks import ModelCheckpoint,TensorBoard,ReduceLROnPlateau, EarlyStopping\n",
    "import tensorflow as tf\n",
    "#https://stackoverflow.com/posts/51734992/revisions\n",
    "import tensorflow as tf\n",
    "from sklearn.metrics import roc_auc_score\n",
    "\n",
    "def auroc(y_true, y_pred):\n",
    "    return tf.py_func(roc_auc_score, (y_true, y_pred), tf.double)"
   ]
  },
  {
   "cell_type": "code",
   "execution_count": 0,
   "metadata": {
    "colab": {},
    "colab_type": "code",
    "id": "k-26prHp03lG"
   },
   "outputs": [],
   "source": []
  },
  {
   "cell_type": "code",
   "execution_count": 0,
   "metadata": {
    "colab": {},
    "colab_type": "code",
    "id": "cIgDDHT-xqf-"
   },
   "outputs": [],
   "source": [
    "train_2 = [padded_train,tr_tea_pre_encode, tr_sch_encode, tr_pro_sub_encode, tr_pro_encode, tr_pro_gra_encode,rem_input_train_norm]\n",
    "test_2 = [padded_test,test_tea_pre_encode, test_sch_encode, test_pro_sub_encode, test_pro_encode, test_pro_gra_encode,rem_input_test_norm]"
   ]
  },
  {
   "cell_type": "code",
   "execution_count": 0,
   "metadata": {
    "colab": {},
    "colab_type": "code",
    "id": "GxNNNZieoffU"
   },
   "outputs": [],
   "source": [
    "\n",
    "batch_size=512"
   ]
  },
  {
   "cell_type": "code",
   "execution_count": 0,
   "metadata": {
    "colab": {},
    "colab_type": "code",
    "id": "mqg2aDhf4upB"
   },
   "outputs": [],
   "source": [
    "%matplotlib inline \n",
    "import matplotlib.pyplot as plt\n",
    "import numpy as np\n",
    "import time\n",
    "# https://gist.github.com/greydanus/f6eee59eaf1d90fcb3b534a25362cea4\n",
    "# https://stackoverflow.com/a/14434334\n",
    "# this function is used to update the plots for each epoch and error\n",
    "def plt_dynamic(x, vy, ty, ax, colors=['b']):\n",
    "    ax.plot(x, vy, 'b', label=\"Validation Loss\")\n",
    "    ax.plot(x, ty, 'r', label=\"Train Loss\")\n",
    "    plt.legend()\n",
    "    plt.grid()\n",
    "    fig.canvas.draw()"
   ]
  },
  {
   "cell_type": "code",
   "execution_count": 0,
   "metadata": {
    "colab": {},
    "colab_type": "code",
    "id": "-Kq_Q18xoglO"
   },
   "outputs": [],
   "source": []
  },
  {
   "cell_type": "code",
   "execution_count": 0,
   "metadata": {
    "colab": {
     "base_uri": "https://localhost:8080/",
     "height": 802
    },
    "colab_type": "code",
    "id": "KL80ycpL0VYh",
    "outputId": "a33d43c6-7ad7-4bec-df27-b5a7903685e7"
   },
   "outputs": [
    {
     "name": "stdout",
     "output_type": "stream",
     "text": [
      "WARNING:tensorflow:From /usr/local/lib/python3.6/dist-packages/keras/optimizers.py:793: The name tf.train.Optimizer is deprecated. Please use tf.compat.v1.train.Optimizer instead.\n",
      "\n",
      "WARNING:tensorflow:From /usr/local/lib/python3.6/dist-packages/keras/backend/tensorflow_backend.py:3576: The name tf.log is deprecated. Please use tf.math.log instead.\n",
      "\n",
      "WARNING:tensorflow:From <ipython-input-37-9acb5a10c946>:9: py_func (from tensorflow.python.ops.script_ops) is deprecated and will be removed in a future version.\n",
      "Instructions for updating:\n",
      "tf.py_func is deprecated in TF V2. Instead, there are two\n",
      "    options available in V2.\n",
      "    - tf.py_function takes a python function which manipulates tf eager\n",
      "    tensors instead of numpy arrays. It's easy to convert a tf eager tensor to\n",
      "    an ndarray (just call tensor.numpy()) but having access to eager tensors\n",
      "    means `tf.py_function`s can use accelerators such as GPUs as well as\n",
      "    being differentiable using a gradient tape.\n",
      "    - tf.numpy_function maintains the semantics of the deprecated tf.py_func\n",
      "    (it is not differentiable, and manipulates numpy arrays). It drops the\n",
      "    stateful argument making all functions stateful.\n",
      "    \n",
      "WARNING:tensorflow:From /usr/local/lib/python3.6/dist-packages/tensorflow_core/python/ops/math_grad.py:1424: where (from tensorflow.python.ops.array_ops) is deprecated and will be removed in a future version.\n",
      "Instructions for updating:\n",
      "Use tf.where in 2.0, which has the same broadcast rule as np.where\n",
      "WARNING:tensorflow:From /usr/local/lib/python3.6/dist-packages/keras/backend/tensorflow_backend.py:1033: The name tf.assign_add is deprecated. Please use tf.compat.v1.assign_add instead.\n",
      "\n",
      "WARNING:tensorflow:From /usr/local/lib/python3.6/dist-packages/keras/backend/tensorflow_backend.py:1020: The name tf.assign is deprecated. Please use tf.compat.v1.assign instead.\n",
      "\n",
      "Train on 87398 samples, validate on 21850 samples\n",
      "Epoch 1/10\n",
      "87398/87398 [==============================] - 109s 1ms/step - loss: 1.9295 - acc: 0.8387 - auroc: 0.6032 - val_loss: 0.6573 - val_acc: 0.8486 - val_auroc: 0.7041\n",
      "Epoch 2/10\n",
      "87398/87398 [==============================] - 106s 1ms/step - loss: 0.5169 - acc: 0.8486 - auroc: 0.6841 - val_loss: 0.4332 - val_acc: 0.8486 - val_auroc: 0.7214\n",
      "Epoch 3/10\n",
      "87398/87398 [==============================] - 105s 1ms/step - loss: 0.4235 - acc: 0.8486 - auroc: 0.7091 - val_loss: 0.4065 - val_acc: 0.8486 - val_auroc: 0.7380\n",
      "Epoch 4/10\n",
      "87398/87398 [==============================] - 105s 1ms/step - loss: 0.4061 - acc: 0.8486 - auroc: 0.7198 - val_loss: 0.4073 - val_acc: 0.8486 - val_auroc: 0.7414\n",
      "Epoch 5/10\n",
      "87398/87398 [==============================] - 104s 1ms/step - loss: 0.3996 - acc: 0.8486 - auroc: 0.7279 - val_loss: 0.4075 - val_acc: 0.8486 - val_auroc: 0.7392\n",
      "Epoch 6/10\n",
      "87398/87398 [==============================] - 105s 1ms/step - loss: 0.3961 - acc: 0.8486 - auroc: 0.7346 - val_loss: 0.3852 - val_acc: 0.8486 - val_auroc: 0.7509\n",
      "Epoch 7/10\n",
      "87398/87398 [==============================] - 104s 1ms/step - loss: 0.3934 - acc: 0.8486 - auroc: 0.7402 - val_loss: 0.3841 - val_acc: 0.8486 - val_auroc: 0.7493\n",
      "Epoch 8/10\n",
      "87398/87398 [==============================] - 104s 1ms/step - loss: 0.3916 - acc: 0.8486 - auroc: 0.7482 - val_loss: 0.3868 - val_acc: 0.8486 - val_auroc: 0.7543\n",
      "Epoch 9/10\n",
      "87398/87398 [==============================] - 105s 1ms/step - loss: 0.3885 - acc: 0.8486 - auroc: 0.7517 - val_loss: 0.4148 - val_acc: 0.8486 - val_auroc: 0.7537\n",
      "Epoch 10/10\n",
      "87398/87398 [==============================] - 104s 1ms/step - loss: 0.3874 - acc: 0.8486 - auroc: 0.7562 - val_loss: 0.3831 - val_acc: 0.8486 - val_auroc: 0.7566\n"
     ]
    }
   ],
   "source": [
    "model_1.compile(optimizer='adam', loss='categorical_crossentropy', metrics=['accuracy',auroc])\n",
    "h2 = model_1.fit(train_2, y_train, batch_size=512,epochs=10, verbose=1, validation_data=(test_2, y_test))"
   ]
  },
  {
   "cell_type": "code",
   "execution_count": 0,
   "metadata": {
    "colab": {},
    "colab_type": "code",
    "id": "Br_R6xZOymeb"
   },
   "outputs": [],
   "source": [
    "epochs=10"
   ]
  },
  {
   "cell_type": "code",
   "execution_count": 0,
   "metadata": {
    "colab": {
     "base_uri": "https://localhost:8080/",
     "height": 282
    },
    "colab_type": "code",
    "id": "MeqfxJW7fGsn",
    "outputId": "8fdcf67c-f9b6-4088-b5e3-032029b17de9"
   },
   "outputs": [
    {
     "data": {
      "image/png": "[encoded data removed]",
      "text/plain": [
       "<Figure size 432x288 with 1 Axes>"
      ]
     },
     "metadata": {
      "tags": []
     },
     "output_type": "display_data"
    }
   ],
   "source": [
    "fig,ax = plt.subplots(1,1)\n",
    "ax.set_xlabel('epoch') ; ax.set_ylabel('Categorical Crossentropy Loss')\n",
    "\n",
    "# list of epoch numbers\n",
    "x = list(range(1,epochs+1))\n",
    "\n",
    "# print(history.history.keys())\n",
    "# dict_keys(['val_loss', 'val_acc', 'loss', 'acc'])\n",
    "# history = model_drop.fit(X_train, Y_train, batch_size=batch_size, epochs=nb_epoch, verbose=1, validation_data=(X_test, Y_test))\n",
    "\n",
    "# we will get val_loss and val_acc only when you pass the paramter validation_data\n",
    "# val_loss : validation loss\n",
    "# val_acc : validation accuracy\n",
    "\n",
    "# loss : training loss\n",
    "# acc : train accuracy\n",
    "# for each key in histrory.histrory we will have a list of length equal to number of epochs\n",
    "\n",
    "vy = h2.history['val_loss']\n",
    "ty = h2.history['loss']\n",
    "plt_dynamic(x, vy, ty, ax)"
   ]
  },
  {
   "cell_type": "code",
   "execution_count": 0,
   "metadata": {
    "colab": {
     "base_uri": "https://localhost:8080/",
     "height": 34
    },
    "colab_type": "code",
    "id": "IiuH1OgcFHHC",
    "outputId": "54d221d6-5057-4e47-af7f-7488241e80cf"
   },
   "outputs": [
    {
     "name": "stdout",
     "output_type": "stream",
     "text": [
      "21850/21850 [==============================] - 11s 507us/step\n"
     ]
    }
   ],
   "source": [
    "result = model_1.evaluate( test_2,\n",
    "          y_test,batch_size=512)"
   ]
  },
  {
   "cell_type": "code",
   "execution_count": 0,
   "metadata": {
    "colab": {
     "base_uri": "https://localhost:8080/",
     "height": 51
    },
    "colab_type": "code",
    "id": "gzl62N9ZIJO8",
    "outputId": "9470ece0-9834-43a1-c8a1-a6990a46a4e6"
   },
   "outputs": [
    {
     "name": "stdout",
     "output_type": "stream",
     "text": [
      "Auc for test data: 0.757\n",
      "Auc for train data: 0.787\n"
     ]
    }
   ],
   "source": [
    "#https://github.com/mrunal46/Donors-Choose-using-LSTM/blob/master/LSTM%20-%20model%202-Copy1.ipynb\n",
    "print(\"Auc for test data: %0.3f\"%roc_auc_score(y_test,model_1.predict(test_2)))\n",
    "#print(\"Auc for CV data: %0.3f\"%roc_auc_score(y_cv,model.predict([X_cv,X_cv_school_state,X_cv_project_grade,X_cv_project_cat,X_cv_project_subcat,\n",
    "          # X_cv_teacher_prefix,cv['remaining_input']])))\n",
    "print(\"Auc for train data: %0.3f\"%roc_auc_score(y_train,model_1.predict(train_2)))"
   ]
  },
  {
   "cell_type": "code",
   "execution_count": 0,
   "metadata": {
    "colab": {
     "base_uri": "https://localhost:8080/",
     "height": 34
    },
    "colab_type": "code",
    "id": "nHDDpjrcHy6e",
    "outputId": "f72cd1c1-26c9-4522-e1f3-c853e30e86a1"
   },
   "outputs": [
    {
     "data": {
      "text/plain": [
       "[0.3831118217240209, 0.8486041191622649, 0.7565998744059532]"
      ]
     },
     "execution_count": 46,
     "metadata": {
      "tags": []
     },
     "output_type": "execute_result"
    }
   ],
   "source": [
    "result"
   ]
  },
  {
   "cell_type": "code",
   "execution_count": 0,
   "metadata": {
    "colab": {
     "base_uri": "https://localhost:8080/",
     "height": 51
    },
    "colab_type": "code",
    "id": "44Ns5ga9G9x9",
    "outputId": "0fd89d9d-4429-4853-f858-5d93b55d392f"
   },
   "outputs": [
    {
     "name": "stdout",
     "output_type": "stream",
     "text": [
      "loss of test data 0.18387332465301437\n",
      "acc of test data 0.9689352181075697\n"
     ]
    }
   ],
   "source": [
    "\n",
    "print(\"{} of test data {}\". format(model.metrics_names[0],result[0]))\n",
    "print(\"{} of test data {}\". format(model.metrics_names[1],result[]))"
   ]
  },
  {
   "cell_type": "code",
   "execution_count": 0,
   "metadata": {
    "colab": {
     "base_uri": "https://localhost:8080/",
     "height": 1000
    },
    "colab_type": "code",
    "id": "mUTQ3Fn9Ho4q",
    "outputId": "e6bb993b-675a-4ca8-9d23-d044709dc65f"
   },
   "outputs": [
    {
     "data": {
      "image/png": "[encoded data removed]",
      "text/plain": [
       "<IPython.core.display.Image object>"
      ]
     },
     "execution_count": 49,
     "metadata": {
      "tags": []
     },
     "output_type": "execute_result"
    }
   ],
   "source": [
    "\n",
    "#https://machinelearningmastery.com/visualize-deep-learning-neural-network-model-keras/\n",
    "from keras.utils.vis_utils import plot_model\n",
    "plot_model(model_1, to_file='/content/drive/My Drive/1.png', show_shapes=True, show_layer_names=True)"
   ]
  },
  {
   "cell_type": "code",
   "execution_count": 0,
   "metadata": {
    "colab": {
     "base_uri": "https://localhost:8080/",
     "height": 34
    },
    "colab_type": "code",
    "id": "woJv7uuAEm76",
    "outputId": "83015a54-26fa-4b04-8745-07ee17432253"
   },
   "outputs": [
    {
     "data": {
      "text/plain": [
       "(21850, 10)"
      ]
     },
     "execution_count": 95,
     "metadata": {
      "tags": []
     },
     "output_type": "execute_result"
    }
   ],
   "source": [
    "x_test.shape"
   ]
  },
  {
   "cell_type": "markdown",
   "metadata": {
    "colab_type": "text",
    "id": "DGpsx9JwBAFa"
   },
   "source": [
    "##**model 2** "
   ]
  },
  {
   "cell_type": "markdown",
   "metadata": {
    "colab_type": "text",
    "id": "xHwTZnsB4tWo"
   },
   "source": [
    "### text essay"
   ]
  },
  {
   "cell_type": "code",
   "execution_count": 0,
   "metadata": {
    "colab": {},
    "colab_type": "code",
    "id": "0Ldo6ym3ndsy"
   },
   "outputs": [],
   "source": [
    "#https://stackoverflow.com/questions/45805493/sorting-tfidfvectorizer-output-by-tf-idf-lowest-to-highest-and-vice-versa\n",
    "from sklearn.feature_extraction.text import TfidfVectorizer\n",
    "tfidf = TfidfVectorizer(analyzer='word', stop_words = 'english')\n",
    "\n",
    "# fit_transform on training data\n",
    "X_traintfidf = tfidf.fit_transform(x_train['essay'])\n",
    "X_testtfidf=tfidf.transform(x_test['essay'])"
   ]
  },
  {
   "cell_type": "code",
   "execution_count": 0,
   "metadata": {
    "colab": {},
    "colab_type": "code",
    "id": "eQkHUTAQoFIB"
   },
   "outputs": [],
   "source": [
    "# Zipping feature names corresponding to idf_ values\n",
    "\n",
    "feat_idf = sorted(zip(tfidf.idf_, tfidf.get_feature_names()))"
   ]
  },
  {
   "cell_type": "code",
   "execution_count": 0,
   "metadata": {
    "colab": {
     "base_uri": "https://localhost:8080/",
     "height": 85
    },
    "colab_type": "code",
    "id": "9aPqwNLWo4IX",
    "outputId": "9a73ed2b-2e52-417c-de62-43ff62d6ffcc"
   },
   "outputs": [
    {
     "name": "stdout",
     "output_type": "stream",
     "text": [
      "Mean of idf values: 10.364929043573493\n",
      "Median of idf values: 11.279626831262464\n",
      "Maximum of idf values: 11.685091939370627\n",
      "Minimum of idf values: 1.007545645394076\n"
     ]
    }
   ],
   "source": [
    "sort_idf = sorted(tfidf.idf_)\n",
    "\n",
    "print(\"Mean of idf values:\", np.mean(sort_idf))\n",
    "print(\"Median of idf values:\", np.median(sort_idf))\n",
    "print(\"Maximum of idf values:\", max(sort_idf))\n",
    "print(\"Minimum of idf values:\", min(sort_idf))"
   ]
  },
  {
   "cell_type": "code",
   "execution_count": 0,
   "metadata": {
    "colab": {},
    "colab_type": "code",
    "id": "5hkw_gyOpaD4"
   },
   "outputs": [],
   "source": [
    "q1 = np.percentile(sort_idf, 25)\n",
    "q3 = np.percentile(sort_idf, 75)"
   ]
  },
  {
   "cell_type": "code",
   "execution_count": 0,
   "metadata": {
    "colab": {
     "base_uri": "https://localhost:8080/",
     "height": 51
    },
    "colab_type": "code",
    "id": "IZH_pj_hqBZW",
    "outputId": "37b8d123-719e-47a7-a4a2-2650a8329c5f"
   },
   "outputs": [
    {
     "name": "stdout",
     "output_type": "stream",
     "text": [
      "25 percentile 9.670188918828364\n",
      "75 percentile 11.685091939370627\n"
     ]
    }
   ],
   "source": [
    "print(\"25 percentile\",q1)\n",
    "print(\"75 percentile\",q3)"
   ]
  },
  {
   "cell_type": "code",
   "execution_count": 0,
   "metadata": {
    "colab": {},
    "colab_type": "code",
    "id": "HBapQt41qkGz"
   },
   "outputs": [],
   "source": [
    "iqr=q3-q1"
   ]
  },
  {
   "cell_type": "code",
   "execution_count": 0,
   "metadata": {
    "colab": {},
    "colab_type": "code",
    "id": "ym8f1QKwrDZP"
   },
   "outputs": [],
   "source": [
    "list_words = []\n",
    "\n",
    "\n",
    "\n",
    "for i in range(len(feat_idf)):\n",
    "    \n",
    "    if feat_idf[i][0] > iqr and feat_idf[i][0] < q3:\n",
    "        words = feat_idf[i][1]\n",
    "        list_words.append(words)"
   ]
  },
  {
   "cell_type": "code",
   "execution_count": 0,
   "metadata": {
    "colab": {
     "base_uri": "https://localhost:8080/",
     "height": 51
    },
    "colab_type": "code",
    "id": "0ybLn3J3rIYW",
    "outputId": "e8031b27-c00b-451a-b129-f7ceb02e2660"
   },
   "outputs": [
    {
     "name": "stdout",
     "output_type": "stream",
     "text": [
      "Number of words before taking IQR: 51350\n",
      "Number of words after taking IQR: 31099\n"
     ]
    }
   ],
   "source": [
    "print(\"Number of words before taking IQR:\", len(feat_idf))\n",
    "print(\"Number of words after taking IQR:\", len(list_words))\n",
    "\n",
    "\n",
    "\n"
   ]
  },
  {
   "cell_type": "code",
   "execution_count": 0,
   "metadata": {
    "colab": {},
    "colab_type": "code",
    "id": "ztwzRXo_rI3i"
   },
   "outputs": [],
   "source": []
  },
  {
   "cell_type": "code",
   "execution_count": 0,
   "metadata": {
    "colab": {},
    "colab_type": "code",
    "id": "bpMnZPTps4c4"
   },
   "outputs": [],
   "source": []
  },
  {
   "cell_type": "markdown",
   "metadata": {
    "colab_type": "text",
    "id": "G3US3Bei8tHJ"
   },
   "source": [
    "**note**\n",
    "- all embedding layer of categorical data remail same"
   ]
  },
  {
   "cell_type": "code",
   "execution_count": 0,
   "metadata": {
    "colab": {},
    "colab_type": "code",
    "id": "cyprp_n0tOqs"
   },
   "outputs": [],
   "source": [
    "text=list_words"
   ]
  },
  {
   "cell_type": "code",
   "execution_count": 0,
   "metadata": {
    "colab": {
     "base_uri": "https://localhost:8080/",
     "height": 34
    },
    "colab_type": "code",
    "id": "_gcjBdzEuJV2",
    "outputId": "9bb59105-24f8-45aa-d93e-76b40d923a1a"
   },
   "outputs": [
    {
     "name": "stdout",
     "output_type": "stream",
     "text": [
      "Total unique words in the x_train 31100\n"
     ]
    }
   ],
   "source": [
    "t = Tokenizer()\n",
    "t.fit_on_texts(list(text))\n",
    "vocab_size = len(t.word_index) + 1\n",
    "print('Total unique words in the x_train',vocab_size)\n",
    "encoded_train = t.texts_to_sequences(x_train['essay'])\n",
    "encoded_test = t.texts_to_sequences(x_test['essay'])"
   ]
  },
  {
   "cell_type": "code",
   "execution_count": 0,
   "metadata": {
    "colab": {
     "base_uri": "https://localhost:8080/",
     "height": 51
    },
    "colab_type": "code",
    "id": "JuROMcbDuVfi",
    "outputId": "d99968a4-52b8-427e-9efe-85bbf82730f7"
   },
   "outputs": [
    {
     "name": "stdout",
     "output_type": "stream",
     "text": [
      "length of padded_train data 87398\n",
      "length of padded_test data 21850\n"
     ]
    }
   ],
   "source": [
    "max_length = 300\n",
    "padded_train = pad_sequences(encoded_train, maxlen=max_length, padding='post')\n",
    "padded_test = pad_sequences(encoded_test, maxlen=max_length, padding='post')\n",
    "print(\"length of padded_train data\",len(padded_train))\n",
    "print(\"length of padded_test data\",len(padded_test))"
   ]
  },
  {
   "cell_type": "code",
   "execution_count": 0,
   "metadata": {
    "colab": {},
    "colab_type": "code",
    "id": "C8kBVtCcuV19"
   },
   "outputs": [],
   "source": [
    "with open('/content/drive/My Drive/glove_vectors', 'rb') as f:\n",
    "    model = pickle.load(f)\n",
    "    glove_words =  set(model.keys())\n",
    "    \n",
    "# for train\n",
    "embedding_matrix_train = np.zeros((vocab_size, 300))\n",
    "for word, i in t.word_index.items():\n",
    "    if word in glove_words:\n",
    "        embedding_vector = model[word]\n",
    "        embedding_matrix_train[i] = embedding_vector"
   ]
  },
  {
   "cell_type": "code",
   "execution_count": 0,
   "metadata": {
    "colab": {},
    "colab_type": "code",
    "id": "l2WSQGttZOJA"
   },
   "outputs": [],
   "source": [
    "essay_input = Input(shape=(300,), name='essay_input')\n",
    "\n",
    "x = Embedding(vocab_size, 300, weights=[embedding_matrix_train], input_length=300,trainable = False)(essay_input)\n",
    "lstm_out = LSTM(100,recurrent_dropout=0.3,return_sequences=True)(x)\n",
    "flatten_1 = Flatten()(lstm_out)"
   ]
  },
  {
   "cell_type": "code",
   "execution_count": 0,
   "metadata": {
    "colab": {},
    "colab_type": "code",
    "id": "mtWpu9k_ZiNl"
   },
   "outputs": [],
   "source": [
    "con_lay = concatenate([flatten_1, flatten_tea_pre, flatten_sch, flatten_pro_gra, flatten_pro_sub, flatten_pro_sub_1, rem_input_dense])"
   ]
  },
  {
   "cell_type": "code",
   "execution_count": 0,
   "metadata": {
    "colab": {
     "base_uri": "https://localhost:8080/",
     "height": 1000
    },
    "colab_type": "code",
    "id": "_vrPo2BAuJtX",
    "outputId": "bb531bbe-68db-4e4f-93ea-18c86cce01e9"
   },
   "outputs": [
    {
     "name": "stdout",
     "output_type": "stream",
     "text": [
      "Model: \"model_2\"\n",
      "__________________________________________________________________________________________________\n",
      "Layer (type)                    Output Shape         Param #     Connected to                     \n",
      "==================================================================================================\n",
      "essay_input (InputLayer)        (None, 300)          0                                            \n",
      "__________________________________________________________________________________________________\n",
      "embedding_2 (Embedding)         (None, 300, 300)     9330000     essay_input[0][0]                \n",
      "__________________________________________________________________________________________________\n",
      "teacher_prefix (InputLayer)     (None, 1)            0                                            \n",
      "__________________________________________________________________________________________________\n",
      "school_state (InputLayer)       (None, 1)            0                                            \n",
      "__________________________________________________________________________________________________\n",
      "project_grade_category (InputLa (None, 1)            0                                            \n",
      "__________________________________________________________________________________________________\n",
      "clean_categories (InputLayer)   (None, 1)            0                                            \n",
      "__________________________________________________________________________________________________\n",
      "lstm_2 (LSTM)                   (None, 300, 100)     160400      embedding_2[0][0]                \n",
      "__________________________________________________________________________________________________\n",
      "teacher_prefix_emb (Embedding)  (None, 1, 3)         15          teacher_prefix[0][0]             \n",
      "__________________________________________________________________________________________________\n",
      "school_state_emb (Embedding)    (None, 1, 26)        1326        school_state[0][0]               \n",
      "__________________________________________________________________________________________________\n",
      "project_grade_category_emb (Emb (None, 1, 2)         8           project_grade_category[0][0]     \n",
      "__________________________________________________________________________________________________\n",
      "project_subject_categories_emb  (None, 1, 26)        1326        clean_categories[0][0]           \n",
      "__________________________________________________________________________________________________\n",
      "project_subject_subcategories_e (None, 1, 50)        19900       clean_categories[0][0]           \n",
      "__________________________________________________________________________________________________\n",
      "rem_input_layer (InputLayer)    (None, 3)            0                                            \n",
      "__________________________________________________________________________________________________\n",
      "flatten_12 (Flatten)            (None, 30000)        0           lstm_2[0][0]                     \n",
      "__________________________________________________________________________________________________\n",
      "flatten_7 (Flatten)             (None, 3)            0           teacher_prefix_emb[0][0]         \n",
      "__________________________________________________________________________________________________\n",
      "flatten_8 (Flatten)             (None, 26)           0           school_state_emb[0][0]           \n",
      "__________________________________________________________________________________________________\n",
      "flatten_9 (Flatten)             (None, 2)            0           project_grade_category_emb[0][0] \n",
      "__________________________________________________________________________________________________\n",
      "flatten_10 (Flatten)            (None, 26)           0           project_subject_categories_emb[0]\n",
      "__________________________________________________________________________________________________\n",
      "flatten_11 (Flatten)            (None, 50)           0           project_subject_subcategories_emb\n",
      "__________________________________________________________________________________________________\n",
      "dense_1 (Dense)                 (None, 64)           256         rem_input_layer[0][0]            \n",
      "__________________________________________________________________________________________________\n",
      "concatenate_2 (Concatenate)     (None, 30171)        0           flatten_12[0][0]                 \n",
      "                                                                 flatten_7[0][0]                  \n",
      "                                                                 flatten_8[0][0]                  \n",
      "                                                                 flatten_9[0][0]                  \n",
      "                                                                 flatten_10[0][0]                 \n",
      "                                                                 flatten_11[0][0]                 \n",
      "                                                                 dense_1[0][0]                    \n",
      "__________________________________________________________________________________________________\n",
      "dense_10 (Dense)                (None, 256)          7724032     concatenate_2[0][0]              \n",
      "__________________________________________________________________________________________________\n",
      "dropout_9 (Dropout)             (None, 256)          0           dense_10[0][0]                   \n",
      "__________________________________________________________________________________________________\n",
      "dense_11 (Dense)                (None, 128)          32896       dropout_9[0][0]                  \n",
      "__________________________________________________________________________________________________\n",
      "dropout_10 (Dropout)            (None, 128)          0           dense_11[0][0]                   \n",
      "__________________________________________________________________________________________________\n",
      "dense_12 (Dense)                (None, 64)           8256        dropout_10[0][0]                 \n",
      "__________________________________________________________________________________________________\n",
      "dropout_11 (Dropout)            (None, 64)           0           dense_12[0][0]                   \n",
      "__________________________________________________________________________________________________\n",
      "dense_13 (Dense)                (None, 32)           2080        dropout_11[0][0]                 \n",
      "__________________________________________________________________________________________________\n",
      "dropout_12 (Dropout)            (None, 32)           0           dense_13[0][0]                   \n",
      "__________________________________________________________________________________________________\n",
      "model_1_output (Dense)          (None, 2)            66          dropout_12[0][0]                 \n",
      "==================================================================================================\n",
      "Total params: 17,280,561\n",
      "Trainable params: 7,950,561\n",
      "Non-trainable params: 9,330,000\n",
      "__________________________________________________________________________________________________\n",
      "None\n"
     ]
    }
   ],
   "source": [
    "from keras.models import Model\n",
    "\n",
    "# Layer 1\n",
    "m_2 = Dense(256, activation = 'relu', kernel_regularizer = l2(0.01))(con_lay)\n",
    "m_2 = Dropout(0.3)(m_2)\n",
    "\n",
    "# Layer 2\n",
    "m_2 = Dense(128, activation = 'relu', kernel_regularizer = l2(0.01))(m_2)\n",
    "m_2 = Dropout(0.3)(m_2)\n",
    "\n",
    "# Layer 3\n",
    "m_2 = Dense(64, activation = 'relu', kernel_regularizer = l2(0.01))(m_2)\n",
    "m_2 = Dropout(0.3)(m_2)\n",
    "\n",
    "# Layer 3\n",
    "m_2 = Dense(32, activation = 'relu', kernel_regularizer = l2(0.01))(m_2)\n",
    "m_2 = Dropout(0.3)(m_2)\n",
    "\n",
    "# Output layer\n",
    "final_output = Dense(2, activation = 'softmax', name= 'model_1_output')(m_2)\n",
    "\n",
    "model_2 = Model(inputs = [essay_input, inp_tea_pre, inp_sch, inp_pro_gra,\n",
    "                        inp_pro_sub, inp_pro_sub_1, rem_input_layer],outputs=[final_output])\n",
    "print(model_2.summary())\n",
    "\n",
    "\n"
   ]
  },
  {
   "cell_type": "code",
   "execution_count": 0,
   "metadata": {
    "colab": {},
    "colab_type": "code",
    "id": "rsjX83UOknxG"
   },
   "outputs": [],
   "source": [
    "import keras.backend as K\n",
    "K.clear_session()"
   ]
  },
  {
   "cell_type": "code",
   "execution_count": 0,
   "metadata": {
    "colab": {},
    "colab_type": "code",
    "id": "qeZOPioov4K2"
   },
   "outputs": [],
   "source": [
    "from keras import backend as K\n",
    "from keras.callbacks import ModelCheckpoint,TensorBoard,ReduceLROnPlateau, EarlyStopping\n",
    "import tensorflow as tf\n",
    "#https://stackoverflow.com/posts/51734992/revisions\n",
    "import tensorflow as tf\n",
    "from sklearn.metrics import roc_auc_score\n",
    "\n",
    "def auroc(y_true, y_pred):\n",
    "    return tf.py_func(roc_auc_score, (y_true, y_pred), tf.double)"
   ]
  },
  {
   "cell_type": "code",
   "execution_count": 0,
   "metadata": {
    "colab": {},
    "colab_type": "code",
    "id": "dmo2IHEYv4ne"
   },
   "outputs": [],
   "source": [
    "train_2 = [padded_train,tr_tea_pre_encode, tr_sch_encode, tr_pro_sub_encode, tr_pro_encode, tr_pro_gra_encode,rem_input_train_norm]\n",
    "test_2 = [padded_test,test_tea_pre_encode, test_sch_encode, test_pro_sub_encode, test_pro_encode, test_pro_gra_encode,rem_input_test_norm]"
   ]
  },
  {
   "cell_type": "code",
   "execution_count": 0,
   "metadata": {
    "colab": {},
    "colab_type": "code",
    "id": "VRsOWQLsv4_-"
   },
   "outputs": [],
   "source": [
    "#https://machinelearningmastery.com/check-point-deep-learning-models-keras/\n",
    "from keras.callbacks import *\n",
    "filepath=\"epochs:{epoch:03d}-val_acc:{val_auroc:.3f}.hdf5\"\n",
    "checkpoint_1 = ModelCheckpoint(filepath, monitor='val_acc', verbose=1, mode='max')\n",
    "monitor = EarlyStopping(monitor='val_loss', min_delta=1e-3, patience=5, \n",
    "                        verbose=1, mode='auto', restore_best_weights=True)"
   ]
  },
  {
   "cell_type": "code",
   "execution_count": 0,
   "metadata": {
    "colab": {},
    "colab_type": "code",
    "id": "pqdNF2FHwW-j"
   },
   "outputs": [],
   "source": [
    "%matplotlib inline \n",
    "import matplotlib.pyplot as plt\n",
    "import numpy as np\n",
    "import time\n",
    "# https://gist.github.com/greydanus/f6eee59eaf1d90fcb3b534a25362cea4\n",
    "# https://stackoverflow.com/a/14434334\n",
    "# this function is used to update the plots for each epoch and error\n",
    "def plt_dynamic(x, vy, ty, ax, colors=['b']):\n",
    "    ax.plot(x, vy, 'b', label=\"Validation Loss\")\n",
    "    ax.plot(x, ty, 'r', label=\"Train Loss\")\n",
    "    plt.legend()\n",
    "    plt.grid()\n",
    "    fig.canvas.draw()"
   ]
  },
  {
   "cell_type": "code",
   "execution_count": 0,
   "metadata": {
    "colab": {
     "base_uri": "https://localhost:8080/",
     "height": 374
    },
    "colab_type": "code",
    "id": "JpJk0EzqwXXl",
    "outputId": "00992e00-52ed-4686-e78d-f2aaeeb5e954"
   },
   "outputs": [
    {
     "name": "stdout",
     "output_type": "stream",
     "text": [
      "Train on 87398 samples, validate on 21850 samples\n",
      "Epoch 1/10\n",
      "87398/87398 [==============================] - 116s 1ms/step - loss: 1.5772 - auroc: 0.6478 - val_loss: 0.5544 - val_auroc: 0.7233\n",
      "Epoch 2/10\n",
      "87398/87398 [==============================] - 114s 1ms/step - loss: 0.4661 - auroc: 0.7081 - val_loss: 0.4140 - val_auroc: 0.7349\n",
      "Epoch 3/10\n",
      "87398/87398 [==============================] - 115s 1ms/step - loss: 0.4119 - auroc: 0.7207 - val_loss: 0.3945 - val_auroc: 0.7409\n",
      "Epoch 4/10\n",
      "87398/87398 [==============================] - 114s 1ms/step - loss: 0.4016 - auroc: 0.7275 - val_loss: 0.3896 - val_auroc: 0.7422\n",
      "Epoch 5/10\n",
      "87398/87398 [==============================] - 114s 1ms/step - loss: 0.3958 - auroc: 0.7355 - val_loss: 0.3908 - val_auroc: 0.7459\n",
      "Epoch 6/10\n",
      "87398/87398 [==============================] - 114s 1ms/step - loss: 0.3922 - auroc: 0.7440 - val_loss: 0.3861 - val_auroc: 0.7460\n",
      "Epoch 7/10\n",
      "87398/87398 [==============================] - 113s 1ms/step - loss: 0.3897 - auroc: 0.7485 - val_loss: 0.3860 - val_auroc: 0.7488\n",
      "Epoch 8/10\n",
      "87398/87398 [==============================] - 113s 1ms/step - loss: 0.3875 - auroc: 0.7530 - val_loss: 0.3918 - val_auroc: 0.7505\n",
      "Epoch 9/10\n",
      "87398/87398 [==============================] - 111s 1ms/step - loss: 0.3844 - auroc: 0.7587 - val_loss: 0.3946 - val_auroc: 0.7474\n",
      "Epoch 10/10\n",
      "87398/87398 [==============================] - 111s 1ms/step - loss: 0.3817 - auroc: 0.7645 - val_loss: 0.3891 - val_auroc: 0.7477\n"
     ]
    }
   ],
   "source": [
    "model_2.compile(optimizer='adam', loss='categorical_crossentropy', metrics=[auroc])\n",
    "h2 = model_2.fit(train_2, y_train, batch_size=512,epochs=10, verbose=1, validation_data=(test_2, y_test))"
   ]
  },
  {
   "cell_type": "code",
   "execution_count": 0,
   "metadata": {
    "colab": {},
    "colab_type": "code",
    "id": "2c9eMRlX26tb"
   },
   "outputs": [],
   "source": [
    "epochs=10"
   ]
  },
  {
   "cell_type": "code",
   "execution_count": 0,
   "metadata": {
    "colab": {
     "base_uri": "https://localhost:8080/",
     "height": 279
    },
    "colab_type": "code",
    "id": "k7nmF5n4wYAl",
    "outputId": "5cb7c7a1-2a05-4695-b18c-786707a3b5bf"
   },
   "outputs": [
    {
     "data": {
      "image/png": "[encoded data removed]",
      "text/plain": [
       "<Figure size 432x288 with 1 Axes>"
      ]
     },
     "metadata": {
      "tags": []
     },
     "output_type": "display_data"
    }
   ],
   "source": [
    "fig,ax = plt.subplots(1,1)\n",
    "ax.set_xlabel('epoch') ; ax.set_ylabel('Categorical Crossentropy Loss')\n",
    "\n",
    "# list of epoch numbers\n",
    "x = list(range(1,epochs+1))\n",
    "\n",
    "# print(history.history.keys())\n",
    "# dict_keys(['val_loss', 'val_acc', 'loss', 'acc'])\n",
    "# history = model_drop.fit(X_train, Y_train, batch_size=batch_size, epochs=nb_epoch, verbose=1, validation_data=(X_test, Y_test))\n",
    "\n",
    "# we will get val_loss and val_acc only when you pass the paramter validation_data\n",
    "# val_loss : validation loss\n",
    "# val_acc : validation accuracy\n",
    "\n",
    "# loss : training loss\n",
    "# acc : train accuracy\n",
    "# for each key in histrory.histrory we will have a list of length equal to number of epochs\n",
    "\n",
    "vy = h2.history['val_loss']\n",
    "ty = h2.history['loss']\n",
    "plt_dynamic(x, vy, ty, ax)"
   ]
  },
  {
   "cell_type": "code",
   "execution_count": 0,
   "metadata": {
    "colab": {
     "base_uri": "https://localhost:8080/",
     "height": 51
    },
    "colab_type": "code",
    "id": "MCE175-6e71H",
    "outputId": "bbf98279-c0b7-4fe4-8e0c-10d2b64f790d"
   },
   "outputs": [
    {
     "name": "stdout",
     "output_type": "stream",
     "text": [
      "21850/21850 [==============================] - 18s 824us/step\n",
      "87398/87398 [==============================] - 71s 817us/step\n"
     ]
    }
   ],
   "source": [
    "result_1 = model_2.evaluate( test_2,\n",
    "          y_test,batch_size=300)\n",
    "result_2 = model_2.evaluate( train_2,\n",
    "          y_train,batch_size=300)"
   ]
  },
  {
   "cell_type": "code",
   "execution_count": 0,
   "metadata": {
    "colab": {
     "base_uri": "https://localhost:8080/",
     "height": 51
    },
    "colab_type": "code",
    "id": "IMLEP8IQgdwQ",
    "outputId": "d051202b-adf5-4548-932c-9956c9c7a822"
   },
   "outputs": [
    {
     "name": "stdout",
     "output_type": "stream",
     "text": [
      "[0.38907690329191613, 0.7471514321091453]\n",
      "[0.36438259380835275, 0.7953995821825852]\n"
     ]
    }
   ],
   "source": [
    "print(result_1)\n",
    "print(result_2)"
   ]
  },
  {
   "cell_type": "markdown",
   "metadata": {
    "colab_type": "text",
    "id": "bNonoy39gxe6"
   },
   "source": [
    "## **model_3**"
   ]
  },
  {
   "cell_type": "code",
   "execution_count": 0,
   "metadata": {
    "colab": {},
    "colab_type": "code",
    "id": "wtT1MZiD8Irq"
   },
   "outputs": [],
   "source": []
  },
  {
   "cell_type": "markdown",
   "metadata": {
    "colab_type": "text",
    "id": "0nLZgv5z8KFx"
   },
   "source": [
    "#### text "
   ]
  },
  {
   "cell_type": "code",
   "execution_count": 0,
   "metadata": {
    "colab": {
     "base_uri": "https://localhost:8080/",
     "height": 34
    },
    "colab_type": "code",
    "id": "O8LCsn0GwXvE",
    "outputId": "92e9083d-32f1-4bfb-d2b5-a276d223eef3"
   },
   "outputs": [
    {
     "name": "stdout",
     "output_type": "stream",
     "text": [
      "Total unique words in the x_train 51508\n"
     ]
    }
   ],
   "source": [
    "#https://subscription.packtpub.com/book/application_development/9781782167853/1/ch01lvl1sec10/tokenizing-sentences-into-words\n",
    "t = Tokenizer()\n",
    "t.fit_on_texts(x_train['essay'])\n",
    "vocab_size = len(t.word_index) + 1\n",
    "print('Total unique words in the x_train',vocab_size)\n",
    "encoded_train = t.texts_to_sequences(x_train['essay'])\n",
    "encoded_test = t.texts_to_sequences(x_test['essay'])"
   ]
  },
  {
   "cell_type": "code",
   "execution_count": 0,
   "metadata": {
    "colab": {
     "base_uri": "https://localhost:8080/",
     "height": 51
    },
    "colab_type": "code",
    "id": "8r5sSL0S377s",
    "outputId": "56ad57df-2226-4609-a5ce-206e8b9e3a26"
   },
   "outputs": [
    {
     "name": "stdout",
     "output_type": "stream",
     "text": [
      "length of padded_train data 87398\n",
      "length of padded_test data 21850\n"
     ]
    }
   ],
   "source": [
    "max_length = 300\n",
    "padded_train = pad_sequences(encoded_train, maxlen=max_length, padding='post')\n",
    "padded_test = pad_sequences(encoded_test, maxlen=max_length, padding='post')\n",
    "print(\"length of padded_train data\",len(padded_train))\n",
    "print(\"length of padded_test data\",len(padded_test))"
   ]
  },
  {
   "cell_type": "markdown",
   "metadata": {
    "colab_type": "text",
    "id": "9VDuDykK8Sb5"
   },
   "source": [
    "#### categorical data"
   ]
  },
  {
   "cell_type": "code",
   "execution_count": 0,
   "metadata": {
    "colab": {},
    "colab_type": "code",
    "id": "eAC2Rj4m38VI"
   },
   "outputs": [],
   "source": []
  },
  {
   "cell_type": "code",
   "execution_count": 0,
   "metadata": {
    "colab": {
     "base_uri": "https://localhost:8080/",
     "height": 51
    },
    "colab_type": "code",
    "id": "5bumhPgR38vc",
    "outputId": "0a9242a8-d143-41f2-9165-b16bc7daa60e"
   },
   "outputs": [
    {
     "name": "stdout",
     "output_type": "stream",
     "text": [
      "Shape of matrix after one hot encodig  (87398, 9)\n",
      "Shape of matrix after one hot encodig  (21850, 9)\n"
     ]
    }
   ],
   "source": [
    "# count of all the words in corpus python: https://stackoverflow.com/a/22898595/4084039\n",
    "from collections import Counter\n",
    "my_counter = Counter()\n",
    "for word in x_train['clean_categories'].values:\n",
    "    my_counter.update(word.split())\n",
    "\n",
    "\n",
    "# dict sort by value python: https://stackoverflow.com/a/613218/4084039\n",
    "cat_dict = dict(my_counter)\n",
    "sorted_cat_dict = dict(sorted(cat_dict.items(), key=lambda kv: kv[1]))  \n",
    "\n",
    "# we use count vectorizer to convert the values into one hot encoded features\n",
    "from sklearn.feature_extraction.text import CountVectorizer\n",
    "vectorizer = CountVectorizer(vocabulary=list(sorted_cat_dict.keys()), lowercase=False, binary=True)\n",
    "vectorizer.fit(x_train['clean_categories'].values)\n",
    "#print(vectorizer.get_feature_names())\n",
    "\n",
    "\n",
    "categories_one_hot_train = vectorizer.transform(x_train['clean_categories'].values)\n",
    "categories_one_hot_test = vectorizer.transform(x_test['clean_categories'].values)\n",
    "print(\"Shape of matrix after one hot encodig \",categories_one_hot_train.shape)\n",
    "print(\"Shape of matrix after one hot encodig \",categories_one_hot_test.shape)"
   ]
  },
  {
   "cell_type": "code",
   "execution_count": 0,
   "metadata": {
    "colab": {},
    "colab_type": "code",
    "id": "MJDn-aGB39W7"
   },
   "outputs": [],
   "source": []
  },
  {
   "cell_type": "code",
   "execution_count": 0,
   "metadata": {
    "colab": {
     "base_uri": "https://localhost:8080/",
     "height": 51
    },
    "colab_type": "code",
    "id": "2BAfC6JM396V",
    "outputId": "1192ca7f-abbb-4543-cb13-0aa7d7329f3b"
   },
   "outputs": [
    {
     "name": "stdout",
     "output_type": "stream",
     "text": [
      "Shape of matrix after one hot encodig  (87398, 30)\n",
      "Shape of matrix after one hot encodig  (21850, 30)\n"
     ]
    }
   ],
   "source": [
    "# count of all the words in corpus python: https://stackoverflow.com/a/22898595/4084039\n",
    "from collections import Counter\n",
    "my_counter = Counter()\n",
    "for word in x_train['clean_subcategories'].values:\n",
    "    my_counter.update(word.split())\n",
    "\n",
    "# dict sort by value python: https://stackoverflow.com/a/613218/4084039\n",
    "sub_cat_dict = dict(my_counter)\n",
    "sorted_sub_cat_dict = dict(sorted(sub_cat_dict.items(), key=lambda kv: kv[1]))  \n",
    "\n",
    "vectorizer = CountVectorizer(vocabulary=list(sorted_sub_cat_dict.keys()), lowercase=False, binary=True)\n",
    "vectorizer.fit(x_train['clean_categories'].values)\n",
    "#print(vectorizer.get_feature_names())\n",
    "\n",
    "\n",
    "categories_one_hot_train2 = vectorizer.transform(x_train['clean_subcategories'].values)\n",
    "categories_one_hot_test2 = vectorizer.transform(x_test['clean_subcategories'].values)\n",
    "print(\"Shape of matrix after one hot encodig \",categories_one_hot_train2.shape)\n",
    "print(\"Shape of matrix after one hot encodig \",categories_one_hot_test2.shape)\n",
    "\n",
    "\n"
   ]
  },
  {
   "cell_type": "code",
   "execution_count": 0,
   "metadata": {
    "colab": {
     "base_uri": "https://localhost:8080/",
     "height": 122
    },
    "colab_type": "code",
    "id": "o3QA3lH38to6",
    "outputId": "f8a2c8e7-7383-4a02-998d-fd1cb92796fe"
   },
   "outputs": [
    {
     "name": "stdout",
     "output_type": "stream",
     "text": [
      "After vectorizations\n",
      "(87398, 51) (87398, 2)\n",
      "(21850, 51) (21850, 2)\n",
      "['vt', 'wy', 'nd', 'mt', 'ri', 'sd', 'ne', 'de', 'ak', 'nh', 'wv', 'me', 'hi', 'dc', 'nm', 'ks', 'ia', 'id', 'ar', 'co', 'mn', 'or', 'ms', 'ky', 'nv', 'md', 'ct', 'tn', 'al', 'ut', 'wi', 'va', 'az', 'nj', 'ok', 'wa', 'la', 'ma', 'oh', 'in', 'mo', 'pa', 'mi', 'sc', 'ga', 'il', 'nc', 'fl', 'ny', 'tx', 'ca']\n",
      "====================================================================================================\n"
     ]
    }
   ],
   "source": [
    "'''encode categorical feature school_state'''\n",
    "\n",
    "\n",
    "from collections import Counter\n",
    "my_counter = Counter()\n",
    "for word in x_train['school_state'].values:\n",
    "    my_counter.update(word.split(\" \"))\n",
    "\n",
    "state_dict = dict(my_counter)\n",
    "state_dict = dict(sorted(state_dict.items(), key=lambda kv: kv[1]))      \n",
    "    \n",
    "vectorizer = CountVectorizer(vocabulary=list(state_dict.keys()), lowercase=False, binary=True)\n",
    "vectorizer.fit(x_train['school_state'].values) # fit has to happen only on train data\n",
    "\n",
    "# we use the fitted CountVectorizer to convert the text to vector\n",
    "X_train_state_ohe = vectorizer.transform(x_train['school_state'].values)\n",
    "#X_cv_state_ohe = vectorizer.transform(X_cv['school_state'].values)\n",
    "X_test_state_ohe = vectorizer.transform(x_test['school_state'].values)\n",
    "\n",
    "print(\"After vectorizations\")\n",
    "print(X_train_state_ohe.shape, y_train.shape)\n",
    "\n",
    "print(X_test_state_ohe.shape, y_test.shape)\n",
    "print(vectorizer.get_feature_names())\n",
    "print(\"=\"*100)"
   ]
  },
  {
   "cell_type": "code",
   "execution_count": 0,
   "metadata": {
    "colab": {
     "base_uri": "https://localhost:8080/",
     "height": 102
    },
    "colab_type": "code",
    "id": "Ci23qE8s8uHK",
    "outputId": "37f6323c-e79d-446e-f8c9-65d27c133af1"
   },
   "outputs": [
    {
     "name": "stdout",
     "output_type": "stream",
     "text": [
      "After vectorizations\n",
      "(87398, 4) (87398, 2)\n",
      "(21850, 4) (21850, 2)\n",
      "['grades_9_12', 'grades_6_8', 'grades_3_5', 'grades_prek_2']\n",
      "====================================================================================================\n"
     ]
    }
   ],
   "source": [
    "'''encode categorical feature project_grade_category'''\n",
    "\n",
    "from collections import Counter\n",
    "my_counter = Counter()\n",
    "for word in x_train['project_grade_category'].values:\n",
    "    my_counter.update(word.split(\",\"))\n",
    "    \n",
    "grade_dict = dict(my_counter)\n",
    "grade_dict = dict(sorted(grade_dict.items(), key=lambda kv: kv[1]))    \n",
    "vectorizer = CountVectorizer(vocabulary=list(grade_dict.keys()), lowercase=False, binary=True)\n",
    "\n",
    "\n",
    "\n",
    "\n",
    "vectorizer.fit(x_train['project_grade_category'].values) # fit has to happen only on train data\n",
    "\n",
    "# we use the fitted CountVectorizer to convert the text to vector\n",
    "X_train_grade_ohe = vectorizer.transform(x_train['project_grade_category'].values)\n",
    "#X_cv_grade_ohe = vectorizer.transform(X_cv['project_grade_category'].values)\n",
    "X_test_grade_ohe = vectorizer.transform(x_test['project_grade_category'].values)\n",
    "\n",
    "print(\"After vectorizations\")\n",
    "print(X_train_grade_ohe.shape, y_train.shape)\n",
    "#print(X_cv_grade_ohe.shape, y_cv.shape)\n",
    "print(X_test_grade_ohe.shape, y_test.shape)\n",
    "print(vectorizer.get_feature_names())\n",
    "print(\"=\"*100)"
   ]
  },
  {
   "cell_type": "code",
   "execution_count": 0,
   "metadata": {
    "colab": {
     "base_uri": "https://localhost:8080/",
     "height": 102
    },
    "colab_type": "code",
    "id": "GLckCjUh8u3b",
    "outputId": "38b96dce-4261-4eb9-aeb6-b8fa7aba835a"
   },
   "outputs": [
    {
     "name": "stdout",
     "output_type": "stream",
     "text": [
      "After vectorizations\n",
      "(87398, 5) (87398, 2)\n",
      "(21850, 5) (21850, 2)\n",
      "['dr', 'teacher', 'mr', 'ms', 'mrs']\n",
      "====================================================================================================\n"
     ]
    }
   ],
   "source": [
    "from collections import Counter\n",
    "my_counter = Counter()\n",
    "for word in x_train['teacher_prefix'].values:\n",
    "    my_counter.update(word.split())\n",
    "    \n",
    "prefix = dict(my_counter)\n",
    "prefix = dict(sorted(prefix.items(), key=lambda kv: kv[1]))\n",
    "\n",
    "# code is taken from this notebook\n",
    "\n",
    "'''encode categorical feature teacher_prefix'''\n",
    "vectorizer = CountVectorizer(vocabulary=list(prefix.keys()), lowercase=False, binary=True)\n",
    "vectorizer.fit(x_train['teacher_prefix'].values) # fit has to happen only on train data\n",
    "\n",
    "# we use the fitted CountVectorizer to convert the text to vector\n",
    "X_train_teacher_ohe = vectorizer.transform(x_train['teacher_prefix'].values.astype('U'))\n",
    "#X_cv_teacher_ohe = vectorizer.transform(X_cv['teacher_prefix'].values.astype('U'))#https://stackoverflow.com/questions/39303912/tfidfvectorizer-in-scikit-learn-valueerror-np-nan-is-an-invalid-document\n",
    "X_test_teacher_ohe = vectorizer.transform(x_test['teacher_prefix'].values.astype('U'))\n",
    "\n",
    "print(\"After vectorizations\")\n",
    "print(X_train_teacher_ohe.shape, y_train.shape)\n",
    "\n",
    "print(X_test_teacher_ohe.shape, y_test.shape)\n",
    "print(vectorizer.get_feature_names())\n",
    "print(\"=\"*100)"
   ]
  },
  {
   "cell_type": "markdown",
   "metadata": {
    "colab_type": "text",
    "id": "AaLcRaW_8a5J"
   },
   "source": [
    "#### numerical"
   ]
  },
  {
   "cell_type": "code",
   "execution_count": 0,
   "metadata": {
    "colab": {},
    "colab_type": "code",
    "id": "d64DfoGQ_-TM"
   },
   "outputs": [],
   "source": []
  },
  {
   "cell_type": "code",
   "execution_count": 0,
   "metadata": {
    "colab": {
     "base_uri": "https://localhost:8080/",
     "height": 85
    },
    "colab_type": "code",
    "id": "2Mh_0sZ5_-3h",
    "outputId": "24e0dac2-9c09-4d15-e923-106fdbefdfb3"
   },
   "outputs": [
    {
     "name": "stdout",
     "output_type": "stream",
     "text": [
      "After vectorizations\n",
      "(87398, 1) (87398, 2)\n",
      "(21850, 1) (21850, 2)\n",
      "====================================================================================================\n"
     ]
    }
   ],
   "source": [
    "from sklearn.preprocessing import Normalizer\n",
    "normalizer = Normalizer()\n",
    "\n",
    "'''encode numerical feature price'''\n",
    "# normalizer.fit(X_train['price'].values)\n",
    "# this will rise an error Expected 2D array, got 1D array instead: \n",
    "# array=[105.22 215.96  96.01 ... 368.98  80.53 709.67].\n",
    "# Reshape your data either using \n",
    "# array.reshape(-1, 1) if your data has a single feature \n",
    "# array.reshape(1, -1)  if it contains a single sample.\n",
    "\n",
    "normalizer.fit(x_train['price'].values.reshape(1,-1)) # use code from sample\n",
    "\n",
    "X_train_price_norm = normalizer.transform(x_train['price'].values.reshape(-1,1))\n",
    "#X_cv_price_norm = normalizer.transform(X_cv['price'].values.reshape(-1,1))\n",
    "X_test_price_norm = normalizer.transform(x_test['price'].values.reshape(-1,1))\n",
    "\n",
    "print(\"After vectorizations\")\n",
    "print(X_train_price_norm.shape, y_train.shape)\n",
    "\n",
    "print(X_test_price_norm.shape, y_test.shape)\n",
    "print(\"=\"*100)"
   ]
  },
  {
   "cell_type": "code",
   "execution_count": 0,
   "metadata": {
    "colab": {
     "base_uri": "https://localhost:8080/",
     "height": 85
    },
    "colab_type": "code",
    "id": "1tEW0-dp__TI",
    "outputId": "b42df3f9-3886-41b6-86e1-4e9df12aea18"
   },
   "outputs": [
    {
     "name": "stdout",
     "output_type": "stream",
     "text": [
      "After vectorizations\n",
      "(87398, 1) (87398, 2)\n",
      "(21850, 1) (21850, 2)\n",
      "====================================================================================================\n"
     ]
    }
   ],
   "source": [
    "'''encode numerical feature teacher_number_of_previously_posted_projects'''\n",
    "\n",
    "normalizer = Normalizer()\n",
    "# normalizer.fit(X_train['teacher_number_of_previously_posted_projects'].values)\n",
    "# this will rise an error Expected 2D array, got 1D array instead: \n",
    "# array=[105.22 215.96  96.01 ... 368.98  80.53 709.67].\n",
    "# Reshape your data either using \n",
    "# array.reshape(-1, 1) if your data has a single feature \n",
    "# array.reshape(1, -1)  if it contains a single sample.\n",
    "normalizer.fit(x_train['teacher_number_of_previously_posted_projects'].values.reshape(1,-1))\n",
    " \n",
    "X_train_posted_norm= normalizer.transform(x_train['teacher_number_of_previously_posted_projects'].values.reshape(-1,1))\n",
    "#X_cv_posted_norm= normalizer.transform(X_cv['teacher_number_of_previously_posted_projects'].values.reshape(-1,1))\n",
    "X_test_posted_norm = normalizer.transform(x_test['teacher_number_of_previously_posted_projects'].values.reshape(-1,1))\n",
    "\n",
    "print(\"After vectorizations\")\n",
    "print(X_train_posted_norm.shape, y_train.shape)\n",
    "\n",
    "print(X_test_posted_norm.shape, y_test.shape)\n",
    "print(\"=\"*100)"
   ]
  },
  {
   "cell_type": "code",
   "execution_count": 0,
   "metadata": {
    "colab": {
     "base_uri": "https://localhost:8080/",
     "height": 85
    },
    "colab_type": "code",
    "id": "nUtaELd_8vNU",
    "outputId": "ff60d71b-d274-4ca9-c624-eb77a2e7e6ae"
   },
   "outputs": [
    {
     "name": "stdout",
     "output_type": "stream",
     "text": [
      "After vectorizations\n",
      "(87398, 1) (87398, 2)\n",
      "(21850, 1) (21850, 2)\n",
      "====================================================================================================\n"
     ]
    }
   ],
   "source": [
    "'''encode numerical feature teacher_number_of_previously_posted_projects'''\n",
    "\n",
    "normalizer = Normalizer()\n",
    "# normalizer.fit(X_train['teacher_number_of_previously_posted_projects'].values)\n",
    "# this will rise an error Expected 2D array, got 1D array instead: \n",
    "# array=[105.22 215.96  96.01 ... 368.98  80.53 709.67].\n",
    "# Reshape your data either using \n",
    "# array.reshape(-1, 1) if your data has a single feature \n",
    "# array.reshape(1, -1)  if it contains a single sample.\n",
    "normalizer.fit(x_train['quantity'].values.reshape(1,-1))\n",
    " \n",
    "X_train_quan_norm= normalizer.transform(x_train['quantity'].values.reshape(-1,1))\n",
    "#X_cv_quan_norm= normalizer.transform(X_cv['quantity'].values.reshape(-1,1))\n",
    "X_test_quan_norm = normalizer.transform(x_test['quantity'].values.reshape(-1,1))\n",
    "\n",
    "print(\"After vectorizations\")\n",
    "print(X_train_posted_norm.shape, y_train.shape)\n",
    "\n",
    "print(X_test_posted_norm.shape, y_test.shape)\n",
    "print(\"=\"*100)"
   ]
  },
  {
   "cell_type": "code",
   "execution_count": 0,
   "metadata": {
    "colab": {
     "base_uri": "https://localhost:8080/",
     "height": 85
    },
    "colab_type": "code",
    "id": "1E8Qkux8B2Lb",
    "outputId": "e91f3ab4-e40e-4aa5-8202-35723208a0b3"
   },
   "outputs": [
    {
     "name": "stdout",
     "output_type": "stream",
     "text": [
      "Final Data matrix\n",
      "train matrix=> (87398, 102) (87398, 2)\n",
      "test matrix=> (21850, 102) (21850, 2)\n",
      "====================================================================================================\n"
     ]
    }
   ],
   "source": [
    "#merge all features\n",
    "from scipy.sparse import hstack\n",
    "X_tr = hstack(( X_train_state_ohe, X_train_teacher_ohe, X_train_grade_ohe, X_train_price_norm,categories_one_hot_train,categories_one_hot_train2,X_train_posted_norm,X_train_quan_norm)).todense()\n",
    "#X_cr = hstack((X_cv_essay_bow, X_cv_state_ohe, X_cv_teacher_ohe, X_cv_grade_ohe, X_cv_price_norm,X_cv_titles_bow,X_cv_subclean_cate_ohe,X_cv_clean_cate_ohe,X_cv_posted_norm)).tocsr()\n",
    "X_te = hstack(( X_test_state_ohe, X_test_teacher_ohe, X_test_grade_ohe, X_test_price_norm,categories_one_hot_test,categories_one_hot_test2,X_test_posted_norm,X_test_quan_norm)).todense()\n",
    "\n",
    "print(\"Final Data matrix\")\n",
    "print(\"train matrix=>\",X_tr.shape, y_train.shape)\n",
    "#print(\"cv matrix=>\",X_cr.shape, y_cv.shape)\n",
    "print(\"test matrix=>\",X_te.shape, y_test.shape)\n",
    "print(\"=\"*100)"
   ]
  },
  {
   "cell_type": "code",
   "execution_count": 0,
   "metadata": {
    "colab": {},
    "colab_type": "code",
    "id": "rUYjalX03CrW"
   },
   "outputs": [],
   "source": [
    "rest_features_train = np.expand_dims(X_tr,2)\n",
    "rest_features_test = np.expand_dims(X_te,2)"
   ]
  },
  {
   "cell_type": "code",
   "execution_count": 0,
   "metadata": {
    "colab": {
     "base_uri": "https://localhost:8080/",
     "height": 51
    },
    "colab_type": "code",
    "id": "ozipz4al3ROQ",
    "outputId": "76ebd7cf-23e3-4250-ecff-2182bdec14cd"
   },
   "outputs": [
    {
     "name": "stdout",
     "output_type": "stream",
     "text": [
      "(21850, 102, 1)\n",
      "(87398, 102, 1)\n"
     ]
    }
   ],
   "source": [
    "print(rest_features_test.shape)\n",
    "print(rest_features_train.shape)"
   ]
  },
  {
   "cell_type": "code",
   "execution_count": 0,
   "metadata": {
    "colab": {},
    "colab_type": "code",
    "id": "LStjfBO34Ilo"
   },
   "outputs": [],
   "source": [
    "X_tr=rest_features_train\n",
    "X_te=rest_features_test"
   ]
  },
  {
   "cell_type": "code",
   "execution_count": 0,
   "metadata": {
    "colab": {},
    "colab_type": "code",
    "id": "2_UmY2y7PBKP"
   },
   "outputs": [],
   "source": [
    "from keras.layers import Conv1D, MaxPooling2D"
   ]
  },
  {
   "cell_type": "code",
   "execution_count": 0,
   "metadata": {
    "colab": {
     "base_uri": "https://localhost:8080/",
     "height": 901
    },
    "colab_type": "code",
    "id": "y4SLW8mFDQ6a",
    "outputId": "979e64ba-3a02-4410-9103-ee94b07aafb3"
   },
   "outputs": [
    {
     "name": "stdout",
     "output_type": "stream",
     "text": [
      "Model: \"model_3\"\n",
      "__________________________________________________________________________________________________\n",
      "Layer (type)                    Output Shape         Param #     Connected to                     \n",
      "==================================================================================================\n",
      "other (InputLayer)              (None, 102, 1)       0                                            \n",
      "__________________________________________________________________________________________________\n",
      "block_1 (Conv1D)                (None, 100, 64)      256         other[0][0]                      \n",
      "__________________________________________________________________________________________________\n",
      "essay_input (InputLayer)        (None, 300)          0                                            \n",
      "__________________________________________________________________________________________________\n",
      "block_2 (Conv1D)                (None, 100, 64)      12352       block_1[0][0]                    \n",
      "__________________________________________________________________________________________________\n",
      "embedding_4 (Embedding)         (None, 300, 300)     15452400    essay_input[0][0]                \n",
      "__________________________________________________________________________________________________\n",
      "block_3 (Conv1D)                (None, 100, 32)      6176        block_2[0][0]                    \n",
      "__________________________________________________________________________________________________\n",
      "lstm_4 (LSTM)                   (None, 300, 100)     160400      embedding_4[0][0]                \n",
      "__________________________________________________________________________________________________\n",
      "block_4 (Conv1D)                (None, 100, 32)      3104        block_3[0][0]                    \n",
      "__________________________________________________________________________________________________\n",
      "flatten_7 (Flatten)             (None, 30000)        0           lstm_4[0][0]                     \n",
      "__________________________________________________________________________________________________\n",
      "flatten_8 (Flatten)             (None, 3200)         0           block_4[0][0]                    \n",
      "__________________________________________________________________________________________________\n",
      "concatenate_4 (Concatenate)     (None, 33200)        0           flatten_7[0][0]                  \n",
      "                                                                 flatten_8[0][0]                  \n",
      "__________________________________________________________________________________________________\n",
      "dense_13 (Dense)                (None, 256)          8499456     concatenate_4[0][0]              \n",
      "__________________________________________________________________________________________________\n",
      "dropout_9 (Dropout)             (None, 256)          0           dense_13[0][0]                   \n",
      "__________________________________________________________________________________________________\n",
      "dense_14 (Dense)                (None, 128)          32896       dropout_9[0][0]                  \n",
      "__________________________________________________________________________________________________\n",
      "dropout_10 (Dropout)            (None, 128)          0           dense_14[0][0]                   \n",
      "__________________________________________________________________________________________________\n",
      "dense_15 (Dense)                (None, 64)           8256        dropout_10[0][0]                 \n",
      "__________________________________________________________________________________________________\n",
      "dropout_11 (Dropout)            (None, 64)           0           dense_15[0][0]                   \n",
      "__________________________________________________________________________________________________\n",
      "dense_16 (Dense)                (None, 32)           2080        dropout_11[0][0]                 \n",
      "__________________________________________________________________________________________________\n",
      "dropout_12 (Dropout)            (None, 32)           0           dense_16[0][0]                   \n",
      "__________________________________________________________________________________________________\n",
      "dense_17 (Dense)                (None, 64)           2112        dropout_12[0][0]                 \n",
      "__________________________________________________________________________________________________\n",
      "dense_18 (Dense)                (None, 2)            130         dense_17[0][0]                   \n",
      "==================================================================================================\n",
      "Total params: 24,179,618\n",
      "Trainable params: 8,727,218\n",
      "Non-trainable params: 15,452,400\n",
      "__________________________________________________________________________________________________\n",
      "None\n"
     ]
    }
   ],
   "source": [
    "essay_input = Input(shape=(300,), name='essay_input')\n",
    "\n",
    "x = Embedding(vocab_size, 300, weights=[embedding_matrix_train], input_length=300,trainable=False)(essay_input)\n",
    "lstm_out = LSTM(100,recurrent_dropout=0.5,return_sequences=True)(x)\n",
    "flatten_1 = Flatten()(lstm_out)\n",
    "\n",
    "#other=Input(shape=(102,1), name='other')\n",
    "\n",
    "other = Input(shape=(X_tr.shape[1],1), name=\"other\")\n",
    "from keras.layers import Dense, Dropout, Flatten, Conv1D, MaxPooling1D, Activation\n",
    "\n",
    "\n",
    "\n",
    "# Block 1\n",
    "con1 = Conv1D(64, kernel_size = 3, activation = 'relu', name = 'block_1')(other)\n",
    "\n",
    "# Block 2\n",
    "con2 = Conv1D(64, 3, activation='relu', padding = 'same', name = 'block_2')(con1)\n",
    "\n",
    "# Block 3\n",
    "con3 = Conv1D(32, 3, activation='softmax', padding = 'same',  name = 'block_3')(con2)\n",
    "\n",
    "# Block 4\n",
    "con4 = Conv1D(32, 3, activation='softmax', padding = 'same',  name = 'block_4')(con3)\n",
    "\n",
    "# Flattening\n",
    "flatten_2 = Flatten()(con4)\n",
    "#flatten_2 = Flatten()(rem_conv2)\n",
    "\n",
    "\n",
    "x = concatenate([flatten_1,flatten_2])\n",
    "\n",
    "\n",
    "\n",
    "\n",
    "\n",
    "# Layer 1\n",
    "m_3 = Dense(256, activation = 'relu', kernel_regularizer = l2(0.01))(x)\n",
    "m_3 = Dropout(0.3)(m_3)\n",
    "\n",
    "# Layer 2\n",
    "m_3 = Dense(128, activation = 'relu', kernel_regularizer = l2(0.01))(m_3)\n",
    "m_3 = Dropout(0.3)(m_3)\n",
    "\n",
    "# Layer 3\n",
    "m_3 = Dense(64, activation = 'relu', kernel_regularizer = l2(0.01))(m_3)\n",
    "m_3 = Dropout(0.3)(m_3)\n",
    "\n",
    "# Layer 4\n",
    "m_3 = Dense(32, activation = 'relu', kernel_regularizer = l2(0.01))(m_3)\n",
    "m_3 = Dropout(0.3)(m_3)\n",
    "\n",
    "x = Dense(64, activation='relu',kernel_initializer=\"he_normal\",kernel_regularizer=l2(0.001))(m_3)\n",
    "final_output = Dense(2, activation='softmax',kernel_initializer=\"he_normal\")(x)\n",
    "\n",
    "model = Model(inputs=[essay_input,other], outputs=[final_output])\n",
    "print(model.summary())\n",
    "\n",
    "\n",
    "\n"
   ]
  },
  {
   "cell_type": "code",
   "execution_count": 0,
   "metadata": {
    "colab": {
     "base_uri": "https://localhost:8080/",
     "height": 1000
    },
    "colab_type": "code",
    "id": "XdzmtNXUDRZC",
    "outputId": "d7904458-0532-4d8a-9f6a-e8c28d1295dd"
   },
   "outputs": [
    {
     "data": {
      "image/png": "[encoded data removed]",
      "text/plain": [
       "<IPython.core.display.Image object>"
      ]
     },
     "execution_count": 104,
     "metadata": {
      "tags": []
     },
     "output_type": "execute_result"
    }
   ],
   "source": [
    "#https://machinelearningmastery.com/visualize-deep-learning-neural-network-model-keras/\n",
    "from keras.utils.vis_utils import plot_model\n",
    "plot_model(model, to_file='/content/drive/My Drive/model3.png', show_shapes=True, show_layer_names=True)"
   ]
  },
  {
   "cell_type": "code",
   "execution_count": 0,
   "metadata": {
    "colab": {},
    "colab_type": "code",
    "id": "6Kd2fRlxQS0s"
   },
   "outputs": [],
   "source": [
    "from keras import backend as K\n",
    "from keras.callbacks import ModelCheckpoint,TensorBoard,ReduceLROnPlateau, EarlyStopping\n",
    "import tensorflow as tf\n",
    "#https://stackoverflow.com/posts/51734992/revisions\n",
    "import tensorflow as tf\n",
    "from sklearn.metrics import roc_auc_score\n",
    "\n",
    "def auroc(y_true, y_pred):\n",
    "    return tf.py_func(roc_auc_score, (y_true, y_pred), tf.double)"
   ]
  },
  {
   "cell_type": "code",
   "execution_count": 0,
   "metadata": {
    "colab": {},
    "colab_type": "code",
    "id": "kglJraXyDRzc"
   },
   "outputs": [],
   "source": [
    "train_2 = [padded_train,X_tr]\n",
    "test_2 = [padded_test,X_te]"
   ]
  },
  {
   "cell_type": "code",
   "execution_count": 0,
   "metadata": {
    "colab": {},
    "colab_type": "code",
    "id": "4D79Pxds8Y7-"
   },
   "outputs": [],
   "source": []
  },
  {
   "cell_type": "code",
   "execution_count": 0,
   "metadata": {
    "colab": {},
    "colab_type": "code",
    "id": "EBzL1S8WRt4M"
   },
   "outputs": [],
   "source": [
    "#https://machinelearningmastery.com/check-point-deep-learning-models-keras/\n",
    "from keras.callbacks import *\n",
    "filepath=\"epochs:{epoch:03d}-val_acc:{val_auroc:.3f}.hdf5\"\n",
    "checkpoint_1 = ModelCheckpoint(filepath, monitor='val_acc', verbose=1, mode='max')\n",
    "monitor = EarlyStopping(monitor='val_loss', min_delta=1e-3, patience=5, \n",
    "                        verbose=1, mode='auto', restore_best_weights=True)"
   ]
  },
  {
   "cell_type": "code",
   "execution_count": 0,
   "metadata": {
    "colab": {},
    "colab_type": "code",
    "id": "t0eV4MseRuMv"
   },
   "outputs": [],
   "source": [
    "%matplotlib inline \n",
    "import matplotlib.pyplot as plt\n",
    "import numpy as np\n",
    "import time\n",
    "# https://gist.github.com/greydanus/f6eee59eaf1d90fcb3b534a25362cea4\n",
    "# https://stackoverflow.com/a/14434334\n",
    "# this function is used to update the plots for each epoch and error\n",
    "def plt_dynamic(x, vy, ty, ax, colors=['b']):\n",
    "    ax.plot(x, vy, 'b', label=\"Validation Loss\")\n",
    "    ax.plot(x, ty, 'r', label=\"Train Loss\")\n",
    "    plt.legend()\n",
    "    plt.grid()\n",
    "    fig.canvas.draw()"
   ]
  },
  {
   "cell_type": "code",
   "execution_count": 0,
   "metadata": {
    "colab": {
     "base_uri": "https://localhost:8080/",
     "height": 34
    },
    "colab_type": "code",
    "id": "SOKt4PdNXFMR",
    "outputId": "12da3018-9ace-4af7-9812-fa3cc1736aee"
   },
   "outputs": [
    {
     "data": {
      "text/plain": [
       "(21850, 102)"
      ]
     },
     "execution_count": 74,
     "metadata": {
      "tags": []
     },
     "output_type": "execute_result"
    }
   ],
   "source": [
    "X_te.shape"
   ]
  },
  {
   "cell_type": "code",
   "execution_count": 0,
   "metadata": {
    "colab": {},
    "colab_type": "code",
    "id": "yT0VximY2CMN"
   },
   "outputs": [],
   "source": [
    "X_trn = np.expand_dims(X_tr, 2)"
   ]
  },
  {
   "cell_type": "code",
   "execution_count": 0,
   "metadata": {
    "colab": {
     "base_uri": "https://localhost:8080/",
     "height": 34
    },
    "colab_type": "code",
    "id": "yLRlOL8VZZwm",
    "outputId": "64b8ae89-0bf8-420e-cbd5-f8f964e700a1"
   },
   "outputs": [
    {
     "data": {
      "text/plain": [
       "(87398, 102, 1)"
      ]
     },
     "execution_count": 57,
     "metadata": {
      "tags": []
     },
     "output_type": "execute_result"
    }
   ],
   "source": [
    "X_tr.shape"
   ]
  },
  {
   "cell_type": "code",
   "execution_count": 0,
   "metadata": {
    "colab": {},
    "colab_type": "code",
    "id": "_ZUw3ZQtY3YY"
   },
   "outputs": [],
   "source": [
    "from numpy import zeros, newaxis\n",
    "X_te=X_te.toarray()\n",
    "X_te= X_te[:, :, newaxis]\n",
    "#x_cv_rem_reshape = np.array(x_cv_rem).reshape(17480, 102,1)"
   ]
  },
  {
   "cell_type": "code",
   "execution_count": 0,
   "metadata": {
    "colab": {
     "base_uri": "https://localhost:8080/",
     "height": 34
    },
    "colab_type": "code",
    "id": "Pz9RMoD4YNf0",
    "outputId": "a1481605-268c-4168-800a-fb5a98814e8b"
   },
   "outputs": [
    {
     "data": {
      "text/plain": [
       "(21850, 102, 1)"
      ]
     },
     "execution_count": 43,
     "metadata": {
      "tags": []
     },
     "output_type": "execute_result"
    }
   ],
   "source": [
    "X_te.shape"
   ]
  },
  {
   "cell_type": "code",
   "execution_count": 0,
   "metadata": {
    "colab": {
     "base_uri": "https://localhost:8080/",
     "height": 34
    },
    "colab_type": "code",
    "id": "Z1yvknz_GEB8",
    "outputId": "8da0ec23-a303-4bbf-db60-c3bd7cc824f5"
   },
   "outputs": [
    {
     "data": {
      "text/plain": [
       "(87398, 102, 1)"
      ]
     },
     "execution_count": 99,
     "metadata": {
      "tags": []
     },
     "output_type": "execute_result"
    }
   ],
   "source": [
    "X_tr.shape"
   ]
  },
  {
   "cell_type": "code",
   "execution_count": 0,
   "metadata": {
    "colab": {},
    "colab_type": "code",
    "id": "AtnuV9hEWpHM"
   },
   "outputs": [],
   "source": [
    "from tensorflow.keras.callbacks import TensorBoard"
   ]
  },
  {
   "cell_type": "code",
   "execution_count": 0,
   "metadata": {
    "colab": {
     "base_uri": "https://localhost:8080/",
     "height": 374
    },
    "colab_type": "code",
    "id": "SaHSo28pRugg",
    "outputId": "d67a22a4-b27c-4f7a-e8ae-b927ba047003"
   },
   "outputs": [
    {
     "name": "stdout",
     "output_type": "stream",
     "text": [
      "Train on 87398 samples, validate on 21850 samples\n",
      "Epoch 1/10\n",
      "87398/87398 [==============================] - 207s 2ms/step - loss: 1.3950 - auroc: 0.6431 - val_loss: 0.5170 - val_auroc: 0.7216\n",
      "Epoch 2/10\n",
      "87398/87398 [==============================] - 204s 2ms/step - loss: 0.4670 - auroc: 0.7139 - val_loss: 0.4271 - val_auroc: 0.7401\n",
      "Epoch 3/10\n",
      "87398/87398 [==============================] - 204s 2ms/step - loss: 0.4235 - auroc: 0.7269 - val_loss: 0.4205 - val_auroc: 0.7442\n",
      "Epoch 4/10\n",
      "87398/87398 [==============================] - 204s 2ms/step - loss: 0.4081 - auroc: 0.7378 - val_loss: 0.3995 - val_auroc: 0.7455\n",
      "Epoch 5/10\n",
      "87398/87398 [==============================] - 202s 2ms/step - loss: 0.3996 - auroc: 0.7453 - val_loss: 0.3980 - val_auroc: 0.7525\n",
      "Epoch 6/10\n",
      "87398/87398 [==============================] - 202s 2ms/step - loss: 0.3953 - auroc: 0.7490 - val_loss: 0.4062 - val_auroc: 0.7540\n",
      "Epoch 7/10\n",
      "87398/87398 [==============================] - 203s 2ms/step - loss: 0.3909 - auroc: 0.7563 - val_loss: 0.3935 - val_auroc: 0.7614\n",
      "Epoch 8/10\n",
      "87398/87398 [==============================] - 202s 2ms/step - loss: 0.3878 - auroc: 0.7590 - val_loss: 0.3982 - val_auroc: 0.7588\n",
      "Epoch 9/10\n",
      "87398/87398 [==============================] - 202s 2ms/step - loss: 0.3862 - auroc: 0.7619 - val_loss: 0.3947 - val_auroc: 0.7610\n",
      "Epoch 10/10\n",
      "87398/87398 [==============================] - 201s 2ms/step - loss: 0.3844 - auroc: 0.7630 - val_loss: 0.3890 - val_auroc: 0.7557\n"
     ]
    }
   ],
   "source": [
    "model.compile(optimizer='adam', loss='categorical_crossentropy', metrics=[auroc])\n",
    "h2 = model.fit(train_2, y_train, batch_size=300,epochs=10, verbose=1, validation_data=(test_2, y_test))"
   ]
  },
  {
   "cell_type": "code",
   "execution_count": 0,
   "metadata": {
    "colab": {},
    "colab_type": "code",
    "id": "Uij_rgzAaKkD"
   },
   "outputs": [],
   "source": [
    "epochs=10"
   ]
  },
  {
   "cell_type": "code",
   "execution_count": 0,
   "metadata": {
    "colab": {
     "base_uri": "https://localhost:8080/",
     "height": 279
    },
    "colab_type": "code",
    "id": "wW8pPunMckJl",
    "outputId": "422cb95c-1642-448e-e924-52392bccb109"
   },
   "outputs": [
    {
     "data": {
      "image/png": "[encoded data removed]",
      "text/plain": [
       "<Figure size 432x288 with 1 Axes>"
      ]
     },
     "metadata": {
      "tags": []
     },
     "output_type": "display_data"
    }
   ],
   "source": [
    "fig,ax = plt.subplots(1,1)\n",
    "ax.set_xlabel('epoch') ; ax.set_ylabel('Categorical Crossentropy Loss')\n",
    "\n",
    "# list of epoch numbers\n",
    "x = list(range(1,epochs+1))\n",
    "\n",
    "# print(history.history.keys())\n",
    "# dict_keys(['val_loss', 'val_acc', 'loss', 'acc'])\n",
    "# history = model_drop.fit(X_train, Y_train, batch_size=batch_size, epochs=nb_epoch, verbose=1, validation_data=(X_test, Y_test))\n",
    "\n",
    "# we will get val_loss and val_acc only when you pass the paramter validation_data\n",
    "# val_loss : validation loss\n",
    "# val_acc : validation accuracy\n",
    "\n",
    "# loss : training loss\n",
    "# acc : train accuracy\n",
    "# for each key in histrory.histrory we will have a list of length equal to number of epochs\n",
    "\n",
    "vy = h2.history['val_loss']\n",
    "ty = h2.history['loss']\n",
    "plt_dynamic(x, vy, ty, ax)"
   ]
  },
  {
   "cell_type": "code",
   "execution_count": 0,
   "metadata": {
    "colab": {
     "base_uri": "https://localhost:8080/",
     "height": 51
    },
    "colab_type": "code",
    "id": "-hGGV1A4Ru1d",
    "outputId": "fed6166f-6503-4ae3-965b-7acfdb2cd702"
   },
   "outputs": [
    {
     "name": "stdout",
     "output_type": "stream",
     "text": [
      "21850/21850 [==============================] - 20s 900us/step\n",
      "87398/87398 [==============================] - 78s 889us/step\n"
     ]
    }
   ],
   "source": [
    "result_1 = model.evaluate( test_2,\n",
    "          y_test,batch_size=300)\n",
    "result_2 = model.evaluate( train_2,\n",
    "          y_train,batch_size=300)"
   ]
  },
  {
   "cell_type": "code",
   "execution_count": 0,
   "metadata": {
    "colab": {
     "base_uri": "https://localhost:8080/",
     "height": 51
    },
    "colab_type": "code",
    "id": "5GKPKODsRvHH",
    "outputId": "170ace56-e0c7-4fdc-82e6-7cdb326717f9"
   },
   "outputs": [
    {
     "name": "stdout",
     "output_type": "stream",
     "text": [
      "[0.38902702382009147, 0.7557097569848487]\n",
      "[0.37026190312547774, 0.7861486324860277]\n"
     ]
    }
   ],
   "source": [
    "print(result_1)\n",
    "print(result_2)"
   ]
  },
  {
   "cell_type": "code",
   "execution_count": 0,
   "metadata": {
    "colab": {},
    "colab_type": "code",
    "id": "YFk0FPLSdTkS"
   },
   "outputs": [],
   "source": [
    "# Please compare all your models using Prettytable library\n",
    "from prettytable import PrettyTable\n",
    "x = PrettyTable()\n",
    "x.field_names = [\"model\", \"train_auc\",\"test_auc\"]"
   ]
  },
  {
   "cell_type": "code",
   "execution_count": 0,
   "metadata": {
    "colab": {},
    "colab_type": "code",
    "id": "AvOWSFPrenUM"
   },
   "outputs": [],
   "source": [
    "x.add_row(['model_1',0.787,0.757])\n",
    "x.add_row(['model_2',0.795,0.747])\n",
    "x.add_row(['model_3',0.786,0.755])\n",
    "\n"
   ]
  },
  {
   "cell_type": "code",
   "execution_count": 3,
   "metadata": {
    "colab": {
     "base_uri": "https://localhost:8080/",
     "height": 136
    },
    "colab_type": "code",
    "id": "eAV0BfjTgQvf",
    "outputId": "353b3f84-1aa0-47b0-e600-790d00e8f0d5"
   },
   "outputs": [
    {
     "name": "stdout",
     "output_type": "stream",
     "text": [
      "+---------+-----------+----------+\n",
      "|  model  | train_auc | test_auc |\n",
      "+---------+-----------+----------+\n",
      "| model_1 |   0.787   |  0.757   |\n",
      "| model_2 |   0.795   |  0.747   |\n",
      "| model_3 |   0.786   |  0.755   |\n",
      "+---------+-----------+----------+\n"
     ]
    }
   ],
   "source": [
    "print(x)"
   ]
  },
  {
   "cell_type": "markdown",
   "metadata": {
    "colab_type": "text",
    "id": "WGws2T3l9dwW"
   },
   "source": []
  },
  {
   "cell_type": "markdown",
   "metadata": {
    "colab_type": "text",
    "id": "j0R_5oO29eHZ"
   },
   "source": [
    "**note**\n",
    "- refercence used \n",
    "- https://github.com/ravi-1654003/LSTM-DonorsChoose/blob/master/LSTM_DonorsChoose.ipynb  \n",
    "- https://github.com/sandeepburra/LSTM-Donors-Choose/blob/master/LSTM.ipynb\n",
    "- https://github.com/mrunal46/Donors-Choose-using-LSTM/blob/masterLSTM%20on%20Donor's%20Choose%20-%20Model%201-Copy1.ipynb\n",
    "- https://github.com/richardxing/DonorsChoose/blob/master/DonorsChoose-RNN.ipynb\n",
    "- https://towardsdatascience.com/neural-network-embeddings-explained-4d028e6f0526\n",
    "-https://medium.com/@satnalikamayank12/on-learning-embeddings-for-categorical-data-using-keras-165ff2773fc9\n",
    "- https://machinelearningmastery.com/use-word-embedding-layers-deep-learning-keras/"
   ]
  }
 ],
 "metadata": {
  "accelerator": "GPU",
  "colab": {
   "collapsed_sections": [],
   "name": "khandewalshivam@gmail.com_16",
   "provenance": []
  },
  "kernelspec": {
   "display_name": "Python 3",
   "language": "python",
   "name": "python3"
  },
  "language_info": {
   "codemirror_mode": {
    "name": "ipython",
    "version": 3
   },
   "file_extension": ".py",
   "mimetype": "text/x-python",
   "name": "python",
   "nbconvert_exporter": "python",
   "pygments_lexer": "ipython3",
   "version": "3.6.5"
  }
 },
 "nbformat": 4,
 "nbformat_minor": 1
}
