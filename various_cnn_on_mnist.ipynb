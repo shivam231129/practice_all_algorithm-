{
  "nbformat": 4,
  "nbformat_minor": 0,
  "metadata": {
    "colab": {
      "name": "khandewalshivamgmail.com_15",
      "provenance": [],
      "collapsed_sections": []
    },
    "kernelspec": {
      "name": "python3",
      "display_name": "Python 3"
    },
    "accelerator": "GPU"
  },
  "cells": [
    {
      "cell_type": "code",
      "metadata": {
        "id": "6_65Lw_CaGT_",
        "colab_type": "code",
        "colab": {}
      },
      "source": [
        "%matplotlib inline \n",
        "import matplotlib.pyplot as plt\n",
        "import numpy as np\n",
        "import time\n",
        "# https://gist.github.com/greydanus/f6eee59eaf1d90fcb3b534a25362cea4\n",
        "# https://stackoverflow.com/a/14434334\n",
        "# this function is used to update the plots for each epoch and error\n",
        "def plt_dynamic(x, vy, ty, ax, colors=['b']):\n",
        "    ax.plot(x, vy, 'b', label=\"Validation Loss\")\n",
        "    ax.plot(x, ty, 'r', label=\"Train Loss\")\n",
        "    plt.legend()\n",
        "    plt.grid()\n",
        "    fig.canvas.draw()"
      ],
      "execution_count": 0,
      "outputs": []
    },
    {
      "cell_type": "code",
      "metadata": {
        "id": "H9EU0e8yzFOm",
        "colab_type": "code",
        "outputId": "bc51627f-3c3a-43dc-c666-52dd37dfdf2e",
        "colab": {
          "base_uri": "https://localhost:8080/",
          "height": 527
        }
      },
      "source": [
        "# Credits: https://github.com/keras-team/keras/blob/master/examples/mnist_cnn.py\n",
        "\n",
        "\n",
        "from __future__ import print_function\n",
        "import keras\n",
        "from keras.datasets import mnist\n",
        "from keras.models import Sequential\n",
        "from keras.layers import Dense, Dropout, Flatten\n",
        "from keras.layers import Conv2D, MaxPooling2D\n",
        "from keras import backend as K\n",
        "\n",
        "batch_size = 128\n",
        "num_classes = 10\n",
        "epochs = 12\n",
        "\n",
        "# input image dimensions\n",
        "img_rows, img_cols = 28, 28\n",
        "\n",
        "# the data, split between train and test sets\n",
        "(x_train, y_train), (x_test, y_test) = mnist.load_data()\n",
        "\n",
        "if K.image_data_format() == 'channels_first':\n",
        "    x_train = x_train.reshape(x_train.shape[0], 1, img_rows, img_cols)\n",
        "    x_test = x_test.reshape(x_test.shape[0], 1, img_rows, img_cols)\n",
        "    input_shape = (1, img_rows, img_cols)\n",
        "else:\n",
        "    x_train = x_train.reshape(x_train.shape[0], img_rows, img_cols, 1)\n",
        "    x_test = x_test.reshape(x_test.shape[0], img_rows, img_cols, 1)\n",
        "    input_shape = (img_rows, img_cols, 1)\n",
        "\n",
        "x_train = x_train.astype('float32')\n",
        "x_test = x_test.astype('float32')\n",
        "x_train /= 255\n",
        "x_test /= 255\n",
        "print('x_train shape:', x_train.shape)\n",
        "print(x_train.shape[0], 'train samples')\n",
        "print(x_test.shape[0], 'test samples')\n",
        "\n",
        "# convert class vectors to binary class matrices\n",
        "y_train = keras.utils.to_categorical(y_train, num_classes)\n",
        "y_test = keras.utils.to_categorical(y_test, num_classes)\n",
        "\n",
        "model = Sequential()\n",
        "model.add(Conv2D(32, kernel_size=(3, 3),\n",
        "                 activation='relu',\n",
        "                 input_shape=input_shape))\n",
        "model.add(Conv2D(64, (3, 3), activation='relu'))\n",
        "model.add(MaxPooling2D(pool_size=(2, 2)))\n",
        "model.add(Dropout(0.25))\n",
        "model.add(Flatten())\n",
        "model.add(Dense(128, activation='relu'))\n",
        "model.add(Dropout(0.5))\n",
        "model.add(Dense(num_classes, activation='softmax'))\n",
        "\n",
        "model.compile(loss=keras.losses.categorical_crossentropy,\n",
        "              optimizer=keras.optimizers.Adadelta(),\n",
        "              metrics=['accuracy'])\n",
        "\n",
        "history=model.fit(x_train, y_train,\n",
        "          batch_size=batch_size,\n",
        "          epochs=epochs,\n",
        "          verbose=1,\n",
        "          validation_data=(x_test, y_test))\n",
        "score = model.evaluate(x_test, y_test, verbose=0)\n",
        "print('Test loss:', score[0])\n",
        "print('Test accuracy:', score[1])"
      ],
      "execution_count": 0,
      "outputs": [
        {
          "output_type": "stream",
          "text": [
            "x_train shape: (60000, 28, 28, 1)\n",
            "60000 train samples\n",
            "10000 test samples\n",
            "Train on 60000 samples, validate on 10000 samples\n",
            "Epoch 1/12\n",
            "60000/60000 [==============================] - 6s 104us/step - loss: 0.2698 - acc: 0.9167 - val_loss: 0.0595 - val_acc: 0.9806\n",
            "Epoch 2/12\n",
            "60000/60000 [==============================] - 4s 65us/step - loss: 0.0904 - acc: 0.9733 - val_loss: 0.0397 - val_acc: 0.9865\n",
            "Epoch 3/12\n",
            "60000/60000 [==============================] - 4s 66us/step - loss: 0.0670 - acc: 0.9804 - val_loss: 0.0360 - val_acc: 0.9875\n",
            "Epoch 4/12\n",
            "60000/60000 [==============================] - 4s 66us/step - loss: 0.0557 - acc: 0.9832 - val_loss: 0.0316 - val_acc: 0.9891\n",
            "Epoch 5/12\n",
            "60000/60000 [==============================] - 4s 66us/step - loss: 0.0468 - acc: 0.9861 - val_loss: 0.0281 - val_acc: 0.9903\n",
            "Epoch 6/12\n",
            "60000/60000 [==============================] - 4s 65us/step - loss: 0.0418 - acc: 0.9870 - val_loss: 0.0309 - val_acc: 0.9899\n",
            "Epoch 7/12\n",
            "60000/60000 [==============================] - 4s 65us/step - loss: 0.0373 - acc: 0.9884 - val_loss: 0.0273 - val_acc: 0.9917\n",
            "Epoch 8/12\n",
            "60000/60000 [==============================] - 4s 65us/step - loss: 0.0350 - acc: 0.9896 - val_loss: 0.0291 - val_acc: 0.9909\n",
            "Epoch 9/12\n",
            "60000/60000 [==============================] - 4s 65us/step - loss: 0.0311 - acc: 0.9907 - val_loss: 0.0266 - val_acc: 0.9905\n",
            "Epoch 10/12\n",
            "60000/60000 [==============================] - 4s 65us/step - loss: 0.0281 - acc: 0.9913 - val_loss: 0.0262 - val_acc: 0.9909\n",
            "Epoch 11/12\n",
            "60000/60000 [==============================] - 4s 65us/step - loss: 0.0267 - acc: 0.9920 - val_loss: 0.0250 - val_acc: 0.9915\n",
            "Epoch 12/12\n",
            "60000/60000 [==============================] - 4s 65us/step - loss: 0.0266 - acc: 0.9917 - val_loss: 0.0258 - val_acc: 0.9917\n",
            "Test loss: 0.025834757073652508\n",
            "Test accuracy: 0.9917\n"
          ],
          "name": "stdout"
        }
      ]
    },
    {
      "cell_type": "code",
      "metadata": {
        "id": "36NnaRDXag7l",
        "colab_type": "code",
        "outputId": "afaf6f12-cdc2-433c-d9c2-4ec464327896",
        "colab": {
          "base_uri": "https://localhost:8080/",
          "height": 279
        }
      },
      "source": [
        "fig,ax = plt.subplots(1,1)\n",
        "ax.set_xlabel('epoch') ; ax.set_ylabel('Categorical Crossentropy Loss')\n",
        "\n",
        "# list of epoch numbers\n",
        "x = list(range(1,epochs+1))\n",
        "\n",
        "# print(history.history.keys())\n",
        "# dict_keys(['val_loss', 'val_acc', 'loss', 'acc'])\n",
        "# history = model_drop.fit(X_train, Y_train, batch_size=batch_size, epochs=nb_epoch, verbose=1, validation_data=(X_test, Y_test))\n",
        "\n",
        "# we will get val_loss and val_acc only when you pass the paramter validation_data\n",
        "# val_loss : validation loss\n",
        "# val_acc : validation accuracy\n",
        "\n",
        "# loss : training loss\n",
        "# acc : train accuracy\n",
        "# for each key in histrory.histrory we will have a list of length equal to number of epochs\n",
        "\n",
        "vy = history.history['val_loss']\n",
        "ty = history.history['loss']\n",
        "plt_dynamic(x, vy, ty, ax)"
      ],
      "execution_count": 0,
      "outputs": [
        {
          "output_type": "display_data",
          "data": {
            "image/png": "[encoded data removed]",
            "text/plain": [
              "<Figure size 432x288 with 1 Axes>"
            ]
          },
          "metadata": {
            "tags": []
          }
        }
      ]
    },
    {
      "cell_type": "code",
      "metadata": {
        "id": "JMVxa--mzZ_9",
        "colab_type": "code",
        "colab": {}
      },
      "source": [
        "## assignment"
      ],
      "execution_count": 0,
      "outputs": []
    },
    {
      "cell_type": "markdown",
      "metadata": {
        "id": "9glwmwSA2-KP",
        "colab_type": "text"
      },
      "source": [
        "# **Assignment**"
      ]
    },
    {
      "cell_type": "code",
      "metadata": {
        "id": "bxVV-SWk4sRV",
        "colab_type": "code",
        "colab": {}
      },
      "source": [
        ""
      ],
      "execution_count": 0,
      "outputs": []
    },
    {
      "cell_type": "markdown",
      "metadata": {
        "id": "PUmrCWUd5kqH",
        "colab_type": "text"
      },
      "source": [
        "# **3 LAYER**"
      ]
    },
    {
      "cell_type": "markdown",
      "metadata": {
        "id": "G5ImJB7D4uMa",
        "colab_type": "text"
      },
      "source": [
        "## 3 LAYER OF CNN WITHOUT POOLING AND DROPOUT and batch norm"
      ]
    },
    {
      "cell_type": "code",
      "metadata": {
        "id": "QlUT081f3KgG",
        "colab_type": "code",
        "outputId": "9380a96f-868d-4ffb-a7dd-d2698f030962",
        "colab": {
          "base_uri": "https://localhost:8080/",
          "height": 476
        }
      },
      "source": [
        "model = Sequential()\n",
        "model.add(Conv2D(32, kernel_size=(5, 5),\n",
        "                 activation='relu',\n",
        "                 input_shape=input_shape))\n",
        "model.add(Conv2D(64, (3, 3), activation='relu'))\n",
        "model.add(Conv2D(64, (2, 2), activation='relu'))\n",
        "#model.add(MaxPooling2D(pool_size=(2, 2)))\n",
        "model.add(Dropout(0.25))\n",
        "model.add(Flatten())\n",
        "model.add(Dense(128, activation='relu'))\n",
        "#model.add(Dropout(0.5))\n",
        "\n",
        "model.add(Dense(num_classes, activation='softmax'))\n",
        "\n",
        "model.compile(loss=keras.losses.categorical_crossentropy,\n",
        "              optimizer=keras.optimizers.Adadelta(),\n",
        "              metrics=['accuracy'])\n",
        "\n",
        "history= model.fit(x_train, y_train,\n",
        "          batch_size=batch_size,\n",
        "          epochs=epochs,\n",
        "          verbose=1,\n",
        "          validation_data=(x_test, y_test))\n",
        "score = model.evaluate(x_test, y_test, verbose=0)\n",
        "print('Test loss:', score[0])\n",
        "print('Test accuracy:', score[1])"
      ],
      "execution_count": 0,
      "outputs": [
        {
          "output_type": "stream",
          "text": [
            "Train on 60000 samples, validate on 10000 samples\n",
            "Epoch 1/12\n",
            "60000/60000 [==============================] - 8s 132us/step - loss: 0.1827 - acc: 0.9432 - val_loss: 0.0548 - val_acc: 0.9814\n",
            "Epoch 2/12\n",
            "60000/60000 [==============================] - 5s 87us/step - loss: 0.0483 - acc: 0.9851 - val_loss: 0.0345 - val_acc: 0.9870\n",
            "Epoch 3/12\n",
            "60000/60000 [==============================] - 5s 87us/step - loss: 0.0308 - acc: 0.9902 - val_loss: 0.0334 - val_acc: 0.9892\n",
            "Epoch 4/12\n",
            "60000/60000 [==============================] - 5s 87us/step - loss: 0.0213 - acc: 0.9935 - val_loss: 0.0434 - val_acc: 0.9859\n",
            "Epoch 5/12\n",
            "60000/60000 [==============================] - 5s 87us/step - loss: 0.0160 - acc: 0.9953 - val_loss: 0.0293 - val_acc: 0.9901\n",
            "Epoch 6/12\n",
            "60000/60000 [==============================] - 5s 86us/step - loss: 0.0113 - acc: 0.9964 - val_loss: 0.0304 - val_acc: 0.9907\n",
            "Epoch 7/12\n",
            "60000/60000 [==============================] - 5s 87us/step - loss: 0.0085 - acc: 0.9975 - val_loss: 0.0315 - val_acc: 0.9921\n",
            "Epoch 8/12\n",
            "60000/60000 [==============================] - 5s 87us/step - loss: 0.0060 - acc: 0.9983 - val_loss: 0.0341 - val_acc: 0.9919\n",
            "Epoch 9/12\n",
            "60000/60000 [==============================] - 5s 86us/step - loss: 0.0046 - acc: 0.9987 - val_loss: 0.0329 - val_acc: 0.9922\n",
            "Epoch 10/12\n",
            "60000/60000 [==============================] - 5s 86us/step - loss: 0.0044 - acc: 0.9985 - val_loss: 0.0541 - val_acc: 0.9875\n",
            "Epoch 11/12\n",
            "60000/60000 [==============================] - 5s 87us/step - loss: 0.0032 - acc: 0.9993 - val_loss: 0.0353 - val_acc: 0.9916\n",
            "Epoch 12/12\n",
            "60000/60000 [==============================] - 5s 86us/step - loss: 0.0028 - acc: 0.9992 - val_loss: 0.0363 - val_acc: 0.9913\n",
            "Test loss: 0.03626536663422669\n",
            "Test accuracy: 0.9913\n"
          ],
          "name": "stdout"
        }
      ]
    },
    {
      "cell_type": "code",
      "metadata": {
        "id": "JTzFKFEObEvf",
        "colab_type": "code",
        "outputId": "6091d229-6e3b-4e55-f95e-183e72bfcdda",
        "colab": {
          "base_uri": "https://localhost:8080/",
          "height": 279
        }
      },
      "source": [
        "fig,ax = plt.subplots(1,1)\n",
        "ax.set_xlabel('epoch') ; ax.set_ylabel('Categorical Crossentropy Loss')\n",
        "\n",
        "# list of epoch numbers\n",
        "x = list(range(1,epochs+1))\n",
        "\n",
        "# print(history.history.keys())\n",
        "# dict_keys(['val_loss', 'val_acc', 'loss', 'acc'])\n",
        "# history = model_drop.fit(X_train, Y_train, batch_size=batch_size, epochs=nb_epoch, verbose=1, validation_data=(X_test, Y_test))\n",
        "\n",
        "# we will get val_loss and val_acc only when you pass the paramter validation_data\n",
        "# val_loss : validation loss\n",
        "# val_acc : validation accuracy\n",
        "\n",
        "# loss : training loss\n",
        "# acc : train accuracy\n",
        "# for each key in histrory.histrory we will have a list of length equal to number of epochs\n",
        "\n",
        "vy = history.history['val_loss']\n",
        "ty = history.history['loss']\n",
        "plt_dynamic(x, vy, ty, ax)"
      ],
      "execution_count": 0,
      "outputs": [
        {
          "output_type": "display_data",
          "data": {
            "image/png": "[encoded data removed]",
            "text/plain": [
              "<Figure size 432x288 with 1 Axes>"
            ]
          },
          "metadata": {
            "tags": []
          }
        }
      ]
    },
    {
      "cell_type": "markdown",
      "metadata": {
        "id": "4rjpDd9l6xjo",
        "colab_type": "text"
      },
      "source": [
        "## 3 LAYER OF CNN WITh POOLING AND without DROPOUT "
      ]
    },
    {
      "cell_type": "code",
      "metadata": {
        "id": "C9wpdzyS3K_F",
        "colab_type": "code",
        "outputId": "c14b2dc7-812b-4cc2-bb2b-a5c249ad0499",
        "colab": {
          "base_uri": "https://localhost:8080/",
          "height": 476
        }
      },
      "source": [
        "model = Sequential()\n",
        "model.add(Conv2D(32, kernel_size=(5, 5),\n",
        "                 activation='relu',\n",
        "                 input_shape=input_shape))\n",
        "model.add(Conv2D(64, (3, 3), activation='relu'))\n",
        "model.add(Conv2D(64, (2, 2), activation='relu'))\n",
        "model.add(MaxPooling2D(pool_size=(2, 2)))\n",
        "#model.add(Dropout(0.25))\n",
        "model.add(Flatten())\n",
        "model.add(Dense(128, activation='relu'))\n",
        "#model.add(Dropout(0.5))\n",
        "model.add(Dense(num_classes, activation='softmax'))\n",
        "\n",
        "model.compile(loss=keras.losses.categorical_crossentropy,\n",
        "              optimizer=keras.optimizers.Adadelta(),\n",
        "              metrics=['accuracy'])\n",
        "\n",
        "history=model.fit(x_train, y_train,\n",
        "          batch_size=batch_size,\n",
        "          epochs=epochs,\n",
        "          verbose=1,\n",
        "          validation_data=(x_test, y_test))\n",
        "score = model.evaluate(x_test, y_test, verbose=0)\n",
        "print('Test loss:', score[0])\n",
        "print('Test accuracy:', score[1])"
      ],
      "execution_count": 0,
      "outputs": [
        {
          "output_type": "stream",
          "text": [
            "Train on 60000 samples, validate on 10000 samples\n",
            "Epoch 1/12\n",
            "60000/60000 [==============================] - 7s 123us/step - loss: 0.1806 - acc: 0.9441 - val_loss: 0.0589 - val_acc: 0.9813\n",
            "Epoch 2/12\n",
            "60000/60000 [==============================] - 4s 72us/step - loss: 0.0451 - acc: 0.9862 - val_loss: 0.0325 - val_acc: 0.9884\n",
            "Epoch 3/12\n",
            "60000/60000 [==============================] - 4s 71us/step - loss: 0.0290 - acc: 0.9911 - val_loss: 0.0300 - val_acc: 0.9904\n",
            "Epoch 4/12\n",
            "60000/60000 [==============================] - 4s 71us/step - loss: 0.0196 - acc: 0.9936 - val_loss: 0.0301 - val_acc: 0.9899\n",
            "Epoch 5/12\n",
            "60000/60000 [==============================] - 4s 71us/step - loss: 0.0144 - acc: 0.9953 - val_loss: 0.0327 - val_acc: 0.9907\n",
            "Epoch 6/12\n",
            "60000/60000 [==============================] - 4s 71us/step - loss: 0.0106 - acc: 0.9966 - val_loss: 0.0286 - val_acc: 0.9911\n",
            "Epoch 7/12\n",
            "60000/60000 [==============================] - 4s 73us/step - loss: 0.0073 - acc: 0.9976 - val_loss: 0.0331 - val_acc: 0.9926\n",
            "Epoch 8/12\n",
            "60000/60000 [==============================] - 4s 74us/step - loss: 0.0051 - acc: 0.9985 - val_loss: 0.0372 - val_acc: 0.9908\n",
            "Epoch 9/12\n",
            "60000/60000 [==============================] - 4s 71us/step - loss: 0.0035 - acc: 0.9990 - val_loss: 0.0330 - val_acc: 0.9914\n",
            "Epoch 10/12\n",
            "60000/60000 [==============================] - 4s 70us/step - loss: 0.0030 - acc: 0.9991 - val_loss: 0.0380 - val_acc: 0.9910\n",
            "Epoch 11/12\n",
            "60000/60000 [==============================] - 4s 70us/step - loss: 0.0023 - acc: 0.9993 - val_loss: 0.0429 - val_acc: 0.9908\n",
            "Epoch 12/12\n",
            "60000/60000 [==============================] - 4s 70us/step - loss: 0.0021 - acc: 0.9994 - val_loss: 0.0424 - val_acc: 0.9910\n",
            "Test loss: 0.0424302650914896\n",
            "Test accuracy: 0.991\n"
          ],
          "name": "stdout"
        }
      ]
    },
    {
      "cell_type": "code",
      "metadata": {
        "id": "PKwxShF4c5fi",
        "colab_type": "code",
        "outputId": "0433b093-82c3-4b36-c842-8d9720636465",
        "colab": {
          "base_uri": "https://localhost:8080/",
          "height": 279
        }
      },
      "source": [
        "fig,ax = plt.subplots(1,1)\n",
        "ax.set_xlabel('epoch') ; ax.set_ylabel('Categorical Crossentropy Loss')\n",
        "\n",
        "# list of epoch numbers\n",
        "x = list(range(1,epochs+1))\n",
        "\n",
        "# print(history.history.keys())\n",
        "# dict_keys(['val_loss', 'val_acc', 'loss', 'acc'])\n",
        "# history = model_drop.fit(X_train, Y_train, batch_size=batch_size, epochs=nb_epoch, verbose=1, validation_data=(X_test, Y_test))\n",
        "\n",
        "# we will get val_loss and val_acc only when you pass the paramter validation_data\n",
        "# val_loss : validation loss\n",
        "# val_acc : validation accuracy\n",
        "\n",
        "# loss : training loss\n",
        "# acc : train accuracy\n",
        "# for each key in histrory.histrory we will have a list of length equal to number of epochs\n",
        "\n",
        "vy = history.history['val_loss']\n",
        "ty = history.history['loss']\n",
        "plt_dynamic(x, vy, ty, ax)"
      ],
      "execution_count": 0,
      "outputs": [
        {
          "output_type": "display_data",
          "data": {
            "image/png": "[encoded data removed]",
            "text/plain": [
              "<Figure size 432x288 with 1 Axes>"
            ]
          },
          "metadata": {
            "tags": []
          }
        }
      ]
    },
    {
      "cell_type": "code",
      "metadata": {
        "id": "N0RQkphs7Bjn",
        "colab_type": "code",
        "colab": {}
      },
      "source": [
        "## 3 LAYER OF CNN WITh POOLING AND without DROPOUT "
      ],
      "execution_count": 0,
      "outputs": []
    },
    {
      "cell_type": "markdown",
      "metadata": {
        "id": "cmgED2Sm7C2f",
        "colab_type": "text"
      },
      "source": [
        "## 3 LAYER OF CNN WITh POOLING AND with DROPOUT "
      ]
    },
    {
      "cell_type": "code",
      "metadata": {
        "id": "md4nDEnJ7Khr",
        "colab_type": "code",
        "outputId": "7bcc2725-887e-4a7c-bd79-0d823c90c965",
        "colab": {
          "base_uri": "https://localhost:8080/",
          "height": 476
        }
      },
      "source": [
        "model = Sequential()\n",
        "model.add(Conv2D(32, kernel_size=(5, 5),\n",
        "                 activation='relu',\n",
        "                 input_shape=input_shape))\n",
        "model.add(Conv2D(64, (3, 3), activation='relu'))\n",
        "model.add(Conv2D(64, (2, 2), activation='relu'))\n",
        "model.add(MaxPooling2D(pool_size=(2, 2)))\n",
        "model.add(Dropout(0.25))\n",
        "model.add(Flatten())\n",
        "model.add(Dense(128, activation='relu'))\n",
        "model.add(Dropout(0.5))\n",
        "model.add(Dense(num_classes, activation='softmax'))\n",
        "\n",
        "model.compile(loss=keras.losses.categorical_crossentropy,\n",
        "              optimizer=keras.optimizers.Adadelta(),\n",
        "              metrics=['accuracy'])\n",
        "\n",
        "history=model.fit(x_train, y_train,\n",
        "          batch_size=batch_size,\n",
        "          epochs=epochs,\n",
        "          verbose=1,\n",
        "          validation_data=(x_test, y_test))\n",
        "score = model.evaluate(x_test, y_test, verbose=0)\n",
        "print('Test loss:', score[0])\n",
        "print('Test accuracy:', score[1])"
      ],
      "execution_count": 0,
      "outputs": [
        {
          "output_type": "stream",
          "text": [
            "Train on 60000 samples, validate on 10000 samples\n",
            "Epoch 1/12\n",
            "60000/60000 [==============================] - 7s 125us/step - loss: 0.2545 - acc: 0.9211 - val_loss: 0.0543 - val_acc: 0.9821\n",
            "Epoch 2/12\n",
            "60000/60000 [==============================] - 4s 74us/step - loss: 0.0844 - acc: 0.9753 - val_loss: 0.0370 - val_acc: 0.9872\n",
            "Epoch 3/12\n",
            "60000/60000 [==============================] - 4s 74us/step - loss: 0.0628 - acc: 0.9814 - val_loss: 0.0307 - val_acc: 0.9896\n",
            "Epoch 4/12\n",
            "60000/60000 [==============================] - 4s 73us/step - loss: 0.0519 - acc: 0.9843 - val_loss: 0.0263 - val_acc: 0.9915\n",
            "Epoch 5/12\n",
            "60000/60000 [==============================] - 4s 74us/step - loss: 0.0455 - acc: 0.9865 - val_loss: 0.0246 - val_acc: 0.9917\n",
            "Epoch 6/12\n",
            "60000/60000 [==============================] - 4s 75us/step - loss: 0.0399 - acc: 0.9886 - val_loss: 0.0248 - val_acc: 0.9913\n",
            "Epoch 7/12\n",
            "60000/60000 [==============================] - 5s 75us/step - loss: 0.0363 - acc: 0.9889 - val_loss: 0.0235 - val_acc: 0.9919\n",
            "Epoch 8/12\n",
            "60000/60000 [==============================] - 5s 76us/step - loss: 0.0327 - acc: 0.9901 - val_loss: 0.0212 - val_acc: 0.9935\n",
            "Epoch 9/12\n",
            "60000/60000 [==============================] - 5s 77us/step - loss: 0.0287 - acc: 0.9914 - val_loss: 0.0248 - val_acc: 0.9919\n",
            "Epoch 10/12\n",
            "60000/60000 [==============================] - 5s 77us/step - loss: 0.0284 - acc: 0.9917 - val_loss: 0.0235 - val_acc: 0.9917\n",
            "Epoch 11/12\n",
            "60000/60000 [==============================] - 4s 74us/step - loss: 0.0263 - acc: 0.9923 - val_loss: 0.0222 - val_acc: 0.9924\n",
            "Epoch 12/12\n",
            "60000/60000 [==============================] - 4s 75us/step - loss: 0.0247 - acc: 0.9923 - val_loss: 0.0265 - val_acc: 0.9919\n",
            "Test loss: 0.02645539062270691\n",
            "Test accuracy: 0.9919\n"
          ],
          "name": "stdout"
        }
      ]
    },
    {
      "cell_type": "code",
      "metadata": {
        "id": "rd2wTE-p7Stb",
        "colab_type": "code",
        "outputId": "2b371851-39a1-41e1-c1de-9f6add32ae0d",
        "colab": {
          "base_uri": "https://localhost:8080/",
          "height": 279
        }
      },
      "source": [
        "fig,ax = plt.subplots(1,1)\n",
        "ax.set_xlabel('epoch') ; ax.set_ylabel('Categorical Crossentropy Loss')\n",
        "\n",
        "# list of epoch numbers\n",
        "x = list(range(1,epochs+1))\n",
        "\n",
        "# print(history.history.keys())\n",
        "# dict_keys(['val_loss', 'val_acc', 'loss', 'acc'])\n",
        "# history = model_drop.fit(X_train, Y_train, batch_size=batch_size, epochs=nb_epoch, verbose=1, validation_data=(X_test, Y_test))\n",
        "\n",
        "# we will get val_loss and val_acc only when you pass the paramter validation_data\n",
        "# val_loss : validation loss\n",
        "# val_acc : validation accuracy\n",
        "\n",
        "# loss : training loss\n",
        "# acc : train accuracy\n",
        "# for each key in histrory.histrory we will have a list of length equal to number of epochs\n",
        "\n",
        "vy = history.history['val_loss']\n",
        "ty = history.history['loss']\n",
        "plt_dynamic(x, vy, ty, ax)"
      ],
      "execution_count": 0,
      "outputs": [
        {
          "output_type": "display_data",
          "data": {
            "image/png": "[encoded data removed]",
            "text/plain": [
              "<Figure size 432x288 with 1 Axes>"
            ]
          },
          "metadata": {
            "tags": []
          }
        }
      ]
    },
    {
      "cell_type": "markdown",
      "metadata": {
        "id": "h1eTv96C_2vL",
        "colab_type": "text"
      },
      "source": [
        ""
      ]
    },
    {
      "cell_type": "markdown",
      "metadata": {
        "id": "MB-btR0m-FCs",
        "colab_type": "text"
      },
      "source": [
        "# 5 CNN LAYER"
      ]
    },
    {
      "cell_type": "markdown",
      "metadata": {
        "id": "qikVpr9mAA02",
        "colab_type": "text"
      },
      "source": [
        "## 5 LAYER CNN WITHOUT POOL AND DROPOUT"
      ]
    },
    {
      "cell_type": "markdown",
      "metadata": {
        "id": "q1vWjaIIABET",
        "colab_type": "text"
      },
      "source": [
        ""
      ]
    },
    {
      "cell_type": "code",
      "metadata": {
        "id": "l-dVINAh_zmh",
        "colab_type": "code",
        "outputId": "eabf2584-891a-48fa-d877-6b1060dbe5e9",
        "colab": {
          "base_uri": "https://localhost:8080/",
          "height": 476
        }
      },
      "source": [
        "model = Sequential()\n",
        "model.add(Conv2D(64, kernel_size=(5, 5),\n",
        "                 activation='relu',\n",
        "                 input_shape=input_shape))\n",
        "model.add(Conv2D(32, (4, 4), activation='relu'))\n",
        "model.add(Conv2D(64, (3, 3), activation='relu'))\n",
        "model.add(Conv2D(64, (2, 2), activation='relu'))\n",
        "model.add(Conv2D(32, (2, 2), activation='relu'))\n",
        "#model.add(MaxPooling2D(pool_size=(2, 2)))\n",
        "#model.add(Dropout(0.25))\n",
        "model.add(Flatten())\n",
        "model.add(Dense(128, activation='relu'))\n",
        "#model.add(Dropout(0.5))\n",
        "model.add(Dense(num_classes, activation='softmax'))\n",
        "\n",
        "model.compile(loss=keras.losses.categorical_crossentropy,\n",
        "              optimizer=keras.optimizers.Adadelta(),\n",
        "              metrics=['accuracy'])\n",
        "\n",
        "history=model.fit(x_train, y_train,\n",
        "          batch_size=batch_size,\n",
        "          epochs=epochs,\n",
        "          verbose=1,\n",
        "          validation_data=(x_test, y_test))\n",
        "score = model.evaluate(x_test, y_test, verbose=0)\n",
        "print('Test loss:', score[0])\n",
        "print('Test accuracy:', score[1])"
      ],
      "execution_count": 0,
      "outputs": [
        {
          "output_type": "stream",
          "text": [
            "Train on 60000 samples, validate on 10000 samples\n",
            "Epoch 1/12\n",
            "60000/60000 [==============================] - 9s 146us/step - loss: 0.2313 - acc: 0.9296 - val_loss: 0.0646 - val_acc: 0.9781\n",
            "Epoch 2/12\n",
            "60000/60000 [==============================] - 5s 91us/step - loss: 0.0513 - acc: 0.9839 - val_loss: 0.0445 - val_acc: 0.9864\n",
            "Epoch 3/12\n",
            "60000/60000 [==============================] - 5s 91us/step - loss: 0.0326 - acc: 0.9898 - val_loss: 0.0342 - val_acc: 0.9890\n",
            "Epoch 4/12\n",
            "60000/60000 [==============================] - 5s 91us/step - loss: 0.0230 - acc: 0.9925 - val_loss: 0.0328 - val_acc: 0.9899\n",
            "Epoch 5/12\n",
            "60000/60000 [==============================] - 5s 91us/step - loss: 0.0160 - acc: 0.9948 - val_loss: 0.0318 - val_acc: 0.9910\n",
            "Epoch 6/12\n",
            "60000/60000 [==============================] - 5s 91us/step - loss: 0.0126 - acc: 0.9959 - val_loss: 0.0370 - val_acc: 0.9897\n",
            "Epoch 7/12\n",
            "60000/60000 [==============================] - 5s 90us/step - loss: 0.0089 - acc: 0.9970 - val_loss: 0.0326 - val_acc: 0.9919\n",
            "Epoch 8/12\n",
            "60000/60000 [==============================] - 5s 92us/step - loss: 0.0064 - acc: 0.9981 - val_loss: 0.0438 - val_acc: 0.9892\n",
            "Epoch 9/12\n",
            "60000/60000 [==============================] - 6s 93us/step - loss: 0.0045 - acc: 0.9987 - val_loss: 0.0420 - val_acc: 0.9908\n",
            "Epoch 10/12\n",
            "60000/60000 [==============================] - 6s 93us/step - loss: 0.0037 - acc: 0.9987 - val_loss: 0.0380 - val_acc: 0.9915\n",
            "Epoch 11/12\n",
            "60000/60000 [==============================] - 5s 90us/step - loss: 0.0026 - acc: 0.9992 - val_loss: 0.0549 - val_acc: 0.9900\n",
            "Epoch 12/12\n",
            "60000/60000 [==============================] - 5s 91us/step - loss: 0.0024 - acc: 0.9992 - val_loss: 0.0482 - val_acc: 0.9911\n",
            "Test loss: 0.04818914521079446\n",
            "Test accuracy: 0.9911\n"
          ],
          "name": "stdout"
        }
      ]
    },
    {
      "cell_type": "code",
      "metadata": {
        "id": "YqLy4UMudMvz",
        "colab_type": "code",
        "outputId": "a1296e6c-5577-4312-c0ae-bd5da83009ff",
        "colab": {
          "base_uri": "https://localhost:8080/",
          "height": 279
        }
      },
      "source": [
        "fig,ax = plt.subplots(1,1)\n",
        "ax.set_xlabel('epoch') ; ax.set_ylabel('Categorical Crossentropy Loss')\n",
        "\n",
        "# list of epoch numbers\n",
        "x = list(range(1,epochs+1))\n",
        "\n",
        "# print(history.history.keys())\n",
        "# dict_keys(['val_loss', 'val_acc', 'loss', 'acc'])\n",
        "# history = model_drop.fit(X_train, Y_train, batch_size=batch_size, epochs=nb_epoch, verbose=1, validation_data=(X_test, Y_test))\n",
        "\n",
        "# we will get val_loss and val_acc only when you pass the paramter validation_data\n",
        "# val_loss : validation loss\n",
        "# val_acc : validation accuracy\n",
        "\n",
        "# loss : training loss\n",
        "# acc : train accuracy\n",
        "# for each key in histrory.histrory we will have a list of length equal to number of epochs\n",
        "\n",
        "vy = history.history['val_loss']\n",
        "ty = history.history['loss']\n",
        "plt_dynamic(x, vy, ty, ax)"
      ],
      "execution_count": 0,
      "outputs": [
        {
          "output_type": "display_data",
          "data": {
            "image/png": "[encoded data removed]",
            "text/plain": [
              "<Figure size 432x288 with 1 Axes>"
            ]
          },
          "metadata": {
            "tags": []
          }
        }
      ]
    },
    {
      "cell_type": "markdown",
      "metadata": {
        "id": "VgfZXvvHBL41",
        "colab_type": "text"
      },
      "source": [
        "## 5 LAYER CNN WIT POOL AND WITHOUT DROPOUT"
      ]
    },
    {
      "cell_type": "code",
      "metadata": {
        "id": "7KRwye6XBfCZ",
        "colab_type": "code",
        "outputId": "50101116-d784-4051-f687-86515af8b053",
        "colab": {
          "base_uri": "https://localhost:8080/",
          "height": 476
        }
      },
      "source": [
        "model = Sequential()\n",
        "model.add(Conv2D(64, kernel_size=(5, 5),\n",
        "                 activation='relu',\n",
        "                 input_shape=input_shape))\n",
        "model.add(Conv2D(32, (4, 4), activation='relu'))\n",
        "model.add(Conv2D(64, (3, 3), activation='relu'))\n",
        "model.add(Conv2D(64, (2, 2), activation='relu'))\n",
        "model.add(Conv2D(32, (2, 2), activation='relu'))\n",
        "model.add(MaxPooling2D(pool_size=(2, 2)))\n",
        "#model.add(Dropout(0.25))\n",
        "model.add(Flatten())\n",
        "model.add(Dense(128, activation='relu'))\n",
        "#model.add(Dropout(0.5))\n",
        "model.add(Dense(num_classes, activation='softmax'))\n",
        "\n",
        "model.compile(loss=keras.losses.categorical_crossentropy,\n",
        "              optimizer=keras.optimizers.Adadelta(),\n",
        "              metrics=['accuracy'])\n",
        "\n",
        "history=model.fit(x_train, y_train,\n",
        "          batch_size=batch_size,\n",
        "          epochs=epochs,\n",
        "          verbose=1,\n",
        "          validation_data=(x_test, y_test))\n",
        "score = model.evaluate(x_test, y_test, verbose=0)\n",
        "print('Test loss:', score[0])\n",
        "print('Test accuracy:', score[1])"
      ],
      "execution_count": 0,
      "outputs": [
        {
          "output_type": "stream",
          "text": [
            "Train on 60000 samples, validate on 10000 samples\n",
            "Epoch 1/12\n",
            "60000/60000 [==============================] - 9s 154us/step - loss: 0.2131 - acc: 0.9350 - val_loss: 0.1056 - val_acc: 0.9658\n",
            "Epoch 2/12\n",
            "60000/60000 [==============================] - 5s 89us/step - loss: 0.0524 - acc: 0.9840 - val_loss: 0.0282 - val_acc: 0.9893\n",
            "Epoch 3/12\n",
            "60000/60000 [==============================] - 5s 90us/step - loss: 0.0340 - acc: 0.9896 - val_loss: 0.0370 - val_acc: 0.9867\n",
            "Epoch 4/12\n",
            "60000/60000 [==============================] - 5s 91us/step - loss: 0.0253 - acc: 0.9922 - val_loss: 0.0260 - val_acc: 0.9919\n",
            "Epoch 5/12\n",
            "60000/60000 [==============================] - 5s 90us/step - loss: 0.0184 - acc: 0.9942 - val_loss: 0.0259 - val_acc: 0.9907\n",
            "Epoch 6/12\n",
            "60000/60000 [==============================] - 6s 92us/step - loss: 0.0136 - acc: 0.9956 - val_loss: 0.0316 - val_acc: 0.9910\n",
            "Epoch 7/12\n",
            "60000/60000 [==============================] - 5s 90us/step - loss: 0.0110 - acc: 0.9965 - val_loss: 0.0319 - val_acc: 0.9902\n",
            "Epoch 8/12\n",
            "60000/60000 [==============================] - 6s 95us/step - loss: 0.0086 - acc: 0.9974 - val_loss: 0.0337 - val_acc: 0.9914\n",
            "Epoch 9/12\n",
            "60000/60000 [==============================] - 6s 92us/step - loss: 0.0065 - acc: 0.9980 - val_loss: 0.0399 - val_acc: 0.9903\n",
            "Epoch 10/12\n",
            "60000/60000 [==============================] - 5s 91us/step - loss: 0.0049 - acc: 0.9986 - val_loss: 0.0330 - val_acc: 0.9924\n",
            "Epoch 11/12\n",
            "60000/60000 [==============================] - 5s 90us/step - loss: 0.0038 - acc: 0.9988 - val_loss: 0.0334 - val_acc: 0.9924\n",
            "Epoch 12/12\n",
            "60000/60000 [==============================] - 5s 90us/step - loss: 0.0037 - acc: 0.9989 - val_loss: 0.0369 - val_acc: 0.9920\n",
            "Test loss: 0.036880395430549655\n",
            "Test accuracy: 0.992\n"
          ],
          "name": "stdout"
        }
      ]
    },
    {
      "cell_type": "code",
      "metadata": {
        "id": "42J9vxevdXQd",
        "colab_type": "code",
        "outputId": "12b5e9a0-2524-4621-a940-c9ef2a3eb234",
        "colab": {
          "base_uri": "https://localhost:8080/",
          "height": 279
        }
      },
      "source": [
        "fig,ax = plt.subplots(1,1)\n",
        "ax.set_xlabel('epoch') ; ax.set_ylabel('Categorical Crossentropy Loss')\n",
        "\n",
        "# list of epoch numbers\n",
        "x = list(range(1,epochs+1))\n",
        "\n",
        "# print(history.history.keys())\n",
        "# dict_keys(['val_loss', 'val_acc', 'loss', 'acc'])\n",
        "# history = model_drop.fit(X_train, Y_train, batch_size=batch_size, epochs=nb_epoch, verbose=1, validation_data=(X_test, Y_test))\n",
        "\n",
        "# we will get val_loss and val_acc only when you pass the paramter validation_data\n",
        "# val_loss : validation loss\n",
        "# val_acc : validation accuracy\n",
        "\n",
        "# loss : training loss\n",
        "# acc : train accuracy\n",
        "# for each key in histrory.histrory we will have a list of length equal to number of epochs\n",
        "\n",
        "vy = history.history['val_loss']\n",
        "ty = history.history['loss']\n",
        "plt_dynamic(x, vy, ty, ax)"
      ],
      "execution_count": 0,
      "outputs": [
        {
          "output_type": "display_data",
          "data": {
            "image/png": "[encoded data removed]",
            "text/plain": [
              "<Figure size 432x288 with 1 Axes>"
            ]
          },
          "metadata": {
            "tags": []
          }
        }
      ]
    },
    {
      "cell_type": "markdown",
      "metadata": {
        "id": "DWOZZsFuB8cm",
        "colab_type": "text"
      },
      "source": [
        "## 5 LAYER CNN WIT POOL AND WITH DROPOUT"
      ]
    },
    {
      "cell_type": "code",
      "metadata": {
        "id": "geN1jdvtCJ38",
        "colab_type": "code",
        "outputId": "2d89a1b5-0a96-4c7f-e275-2d31e3e0f2ae",
        "colab": {
          "base_uri": "https://localhost:8080/",
          "height": 476
        }
      },
      "source": [
        "model = Sequential()\n",
        "model.add(Conv2D(64, kernel_size=(5, 5),\n",
        "                 activation='relu',\n",
        "                 input_shape=input_shape))\n",
        "model.add(Conv2D(32, (4, 4), activation='relu'))\n",
        "model.add(Conv2D(64, (3, 3), activation='relu'))\n",
        "model.add(Conv2D(64, (2, 2), activation='relu'))\n",
        "model.add(Conv2D(32, (2, 2), activation='relu'))\n",
        "model.add(MaxPooling2D(pool_size=(2, 2)))\n",
        "model.add(Dropout(0.25))\n",
        "model.add(Flatten())\n",
        "model.add(Dense(128, activation='relu'))\n",
        "model.add(Dropout(0.5))\n",
        "model.add(Dense(num_classes, activation='softmax'))\n",
        "\n",
        "model.compile(loss=keras.losses.categorical_crossentropy,\n",
        "              optimizer=keras.optimizers.Adadelta(),\n",
        "              metrics=['accuracy'])\n",
        "\n",
        "history=model.fit(x_train, y_train,\n",
        "          batch_size=batch_size,\n",
        "          epochs=epochs,\n",
        "          verbose=1,\n",
        "          validation_data=(x_test, y_test))\n",
        "score = model.evaluate(x_test, y_test, verbose=0)\n",
        "print('Test loss:', score[0])\n",
        "print('Test accuracy:', score[1])"
      ],
      "execution_count": 0,
      "outputs": [
        {
          "output_type": "stream",
          "text": [
            "Train on 60000 samples, validate on 10000 samples\n",
            "Epoch 1/12\n",
            "60000/60000 [==============================] - 9s 153us/step - loss: 0.3028 - acc: 0.9058 - val_loss: 0.0607 - val_acc: 0.9808\n",
            "Epoch 2/12\n",
            "60000/60000 [==============================] - 6s 93us/step - loss: 0.0951 - acc: 0.9725 - val_loss: 0.0372 - val_acc: 0.9880\n",
            "Epoch 3/12\n",
            "60000/60000 [==============================] - 6s 93us/step - loss: 0.0705 - acc: 0.9791 - val_loss: 0.0333 - val_acc: 0.9891\n",
            "Epoch 4/12\n",
            "60000/60000 [==============================] - 6s 92us/step - loss: 0.0589 - acc: 0.9825 - val_loss: 0.0298 - val_acc: 0.9896\n",
            "Epoch 5/12\n",
            "60000/60000 [==============================] - 6s 93us/step - loss: 0.0511 - acc: 0.9849 - val_loss: 0.0278 - val_acc: 0.9923\n",
            "Epoch 6/12\n",
            "60000/60000 [==============================] - 6s 94us/step - loss: 0.0450 - acc: 0.9869 - val_loss: 0.0301 - val_acc: 0.9902\n",
            "Epoch 7/12\n",
            "60000/60000 [==============================] - 6s 92us/step - loss: 0.0406 - acc: 0.9884 - val_loss: 0.0240 - val_acc: 0.9923\n",
            "Epoch 8/12\n",
            "60000/60000 [==============================] - 6s 93us/step - loss: 0.0379 - acc: 0.9888 - val_loss: 0.0191 - val_acc: 0.9929\n",
            "Epoch 9/12\n",
            "60000/60000 [==============================] - 6s 92us/step - loss: 0.0338 - acc: 0.9899 - val_loss: 0.0311 - val_acc: 0.9903\n",
            "Epoch 10/12\n",
            "60000/60000 [==============================] - 6s 93us/step - loss: 0.0317 - acc: 0.9901 - val_loss: 0.0245 - val_acc: 0.9928\n",
            "Epoch 11/12\n",
            "60000/60000 [==============================] - 6s 93us/step - loss: 0.0296 - acc: 0.9909 - val_loss: 0.0196 - val_acc: 0.9942\n",
            "Epoch 12/12\n",
            "60000/60000 [==============================] - 6s 92us/step - loss: 0.0269 - acc: 0.9922 - val_loss: 0.0212 - val_acc: 0.9924\n",
            "Test loss: 0.02116763367687945\n",
            "Test accuracy: 0.9924\n"
          ],
          "name": "stdout"
        }
      ]
    },
    {
      "cell_type": "code",
      "metadata": {
        "id": "edXwDQ6shb6q",
        "colab_type": "code",
        "outputId": "0880f494-db8b-4afc-9843-e7f479cba69e",
        "colab": {
          "base_uri": "https://localhost:8080/",
          "height": 279
        }
      },
      "source": [
        "fig,ax = plt.subplots(1,1)\n",
        "ax.set_xlabel('epoch') ; ax.set_ylabel('Categorical Crossentropy Loss')\n",
        "\n",
        "# list of epoch numbers\n",
        "x = list(range(1,epochs+1))\n",
        "\n",
        "# print(history.history.keys())\n",
        "# dict_keys(['val_loss', 'val_acc', 'loss', 'acc'])\n",
        "# history = model_drop.fit(X_train, Y_train, batch_size=batch_size, epochs=nb_epoch, verbose=1, validation_data=(X_test, Y_test))\n",
        "\n",
        "# we will get val_loss and val_acc only when you pass the paramter validation_data\n",
        "# val_loss : validation loss\n",
        "# val_acc : validation accuracy\n",
        "\n",
        "# loss : training loss\n",
        "# acc : train accuracy\n",
        "# for each key in histrory.histrory we will have a list of length equal to number of epochs\n",
        "\n",
        "vy = history.history['val_loss']\n",
        "ty = history.history['loss']\n",
        "plt_dynamic(x, vy, ty, ax)"
      ],
      "execution_count": 0,
      "outputs": [
        {
          "output_type": "display_data",
          "data": {
            "image/png": "[encoded data removed]",
            "text/plain": [
              "<Figure size 432x288 with 1 Axes>"
            ]
          },
          "metadata": {
            "tags": []
          }
        }
      ]
    },
    {
      "cell_type": "markdown",
      "metadata": {
        "id": "j6dsM4eTChJz",
        "colab_type": "text"
      },
      "source": [
        "# 7 LAYERS CNN"
      ]
    },
    {
      "cell_type": "markdown",
      "metadata": {
        "id": "qLrofx9WC2cg",
        "colab_type": "text"
      },
      "source": [
        "## 7 LAYER CNN WITHOUT POOL AND DROPOUT"
      ]
    },
    {
      "cell_type": "code",
      "metadata": {
        "id": "UvOZce_RDL1z",
        "colab_type": "code",
        "outputId": "591eb045-b3ae-4a9d-92b1-c9961369a40c",
        "colab": {
          "base_uri": "https://localhost:8080/",
          "height": 476
        }
      },
      "source": [
        "model = Sequential()\n",
        "model.add(Conv2D(64, kernel_size=(7, 7),\n",
        "                 activation='relu',\n",
        "                 input_shape=input_shape))\n",
        "model.add(Conv2D(32, (6, 6), activation='relu'))\n",
        "model.add(Conv2D(64, (5, 5), activation='relu'))\n",
        "model.add(Conv2D(64, (4, 4), activation='relu'))\n",
        "model.add(Conv2D(32, (3, 3), activation='relu'))\n",
        "model.add(Conv2D(16, (2, 2), activation='relu'))\n",
        "model.add(Conv2D(8, (2, 2), activation='relu'))\n",
        "#model.add(MaxPooling2D(pool_size=(2, 2)))\n",
        "#model.add(Dropout(0.25))\n",
        "model.add(Flatten())\n",
        "model.add(Dense(128, activation='relu'))\n",
        "#model.add(Dropout(0.5))\n",
        "model.add(Dense(num_classes, activation='softmax'))\n",
        "\n",
        "model.compile(loss=keras.losses.categorical_crossentropy,\n",
        "              optimizer=keras.optimizers.Adadelta(),\n",
        "              metrics=['accuracy'])\n",
        "\n",
        "history=model.fit(x_train, y_train,\n",
        "          batch_size=batch_size,\n",
        "          epochs=epochs,\n",
        "          verbose=1,\n",
        "          validation_data=(x_test, y_test))\n",
        "score = model.evaluate(x_test, y_test, verbose=0)\n",
        "print('Test loss:', score[0])\n",
        "print('Test accuracy:', score[1])"
      ],
      "execution_count": 0,
      "outputs": [
        {
          "output_type": "stream",
          "text": [
            "Train on 60000 samples, validate on 10000 samples\n",
            "Epoch 1/12\n",
            "60000/60000 [==============================] - 9s 154us/step - loss: 0.4368 - acc: 0.8587 - val_loss: 0.0953 - val_acc: 0.9720\n",
            "Epoch 2/12\n",
            "60000/60000 [==============================] - 5s 90us/step - loss: 0.0873 - acc: 0.9744 - val_loss: 0.0527 - val_acc: 0.9839\n",
            "Epoch 3/12\n",
            "60000/60000 [==============================] - 5s 90us/step - loss: 0.0583 - acc: 0.9831 - val_loss: 0.0406 - val_acc: 0.9878\n",
            "Epoch 4/12\n",
            "60000/60000 [==============================] - 5s 90us/step - loss: 0.0452 - acc: 0.9864 - val_loss: 0.0432 - val_acc: 0.9865\n",
            "Epoch 5/12\n",
            "60000/60000 [==============================] - 5s 90us/step - loss: 0.0359 - acc: 0.9894 - val_loss: 0.0341 - val_acc: 0.9899\n",
            "Epoch 6/12\n",
            "60000/60000 [==============================] - 5s 89us/step - loss: 0.0289 - acc: 0.9909 - val_loss: 0.0365 - val_acc: 0.9874\n",
            "Epoch 7/12\n",
            "60000/60000 [==============================] - 5s 89us/step - loss: 0.0253 - acc: 0.9925 - val_loss: 0.0444 - val_acc: 0.9877\n",
            "Epoch 8/12\n",
            "60000/60000 [==============================] - 5s 91us/step - loss: 0.0217 - acc: 0.9931 - val_loss: 0.0458 - val_acc: 0.9874\n",
            "Epoch 9/12\n",
            "60000/60000 [==============================] - 5s 91us/step - loss: 0.0182 - acc: 0.9943 - val_loss: 0.0371 - val_acc: 0.9905\n",
            "Epoch 10/12\n",
            "60000/60000 [==============================] - 5s 90us/step - loss: 0.0176 - acc: 0.9941 - val_loss: 0.0474 - val_acc: 0.9897\n",
            "Epoch 11/12\n",
            "60000/60000 [==============================] - 5s 90us/step - loss: 0.0146 - acc: 0.9958 - val_loss: 0.0374 - val_acc: 0.9910\n",
            "Epoch 12/12\n",
            "60000/60000 [==============================] - 5s 88us/step - loss: 0.0130 - acc: 0.9962 - val_loss: 0.0405 - val_acc: 0.9909\n",
            "Test loss: 0.04047466987816365\n",
            "Test accuracy: 0.9909\n"
          ],
          "name": "stdout"
        }
      ]
    },
    {
      "cell_type": "code",
      "metadata": {
        "id": "018WIvltiTiT",
        "colab_type": "code",
        "outputId": "be0a92be-99d2-48cb-dd63-dea5edd1a64b",
        "colab": {
          "base_uri": "https://localhost:8080/",
          "height": 279
        }
      },
      "source": [
        "fig,ax = plt.subplots(1,1)\n",
        "ax.set_xlabel('epoch') ; ax.set_ylabel('Categorical Crossentropy Loss')\n",
        "\n",
        "# list of epoch numbers\n",
        "x = list(range(1,epochs+1))\n",
        "\n",
        "# print(history.history.keys())\n",
        "# dict_keys(['val_loss', 'val_acc', 'loss', 'acc'])\n",
        "# history = model_drop.fit(X_train, Y_train, batch_size=batch_size, epochs=nb_epoch, verbose=1, validation_data=(X_test, Y_test))\n",
        "\n",
        "# we will get val_loss and val_acc only when you pass the paramter validation_data\n",
        "# val_loss : validation loss\n",
        "# val_acc : validation accuracy\n",
        "\n",
        "# loss : training loss\n",
        "# acc : train accuracy\n",
        "# for each key in histrory.histrory we will have a list of length equal to number of epochs\n",
        "\n",
        "vy = history.history['val_loss']\n",
        "ty = history.history['loss']\n",
        "plt_dynamic(x, vy, ty, ax)"
      ],
      "execution_count": 0,
      "outputs": [
        {
          "output_type": "display_data",
          "data": {
            "image/png": "[encoded data removed]",
            "text/plain": [
              "<Figure size 432x288 with 1 Axes>"
            ]
          },
          "metadata": {
            "tags": []
          }
        }
      ]
    },
    {
      "cell_type": "markdown",
      "metadata": {
        "id": "EcoozrNtD9yG",
        "colab_type": "text"
      },
      "source": [
        "## 7 LAYER CNN WITH POOL AND without DROPOUT\n",
        "\n",
        "---\n",
        "\n"
      ]
    },
    {
      "cell_type": "code",
      "metadata": {
        "id": "J_9V0ZLSD8UN",
        "colab_type": "code",
        "outputId": "a3ee8d49-5efd-4f2f-fb74-b14f5d8f5651",
        "colab": {
          "base_uri": "https://localhost:8080/",
          "height": 476
        }
      },
      "source": [
        "model = Sequential()\n",
        "model.add(Conv2D(64, kernel_size=(7, 7),\n",
        "                 activation='relu',\n",
        "                 input_shape=input_shape))\n",
        "model.add(Conv2D(32, (6, 6), activation='relu'))\n",
        "model.add(Conv2D(64, (5, 5), activation='relu'))\n",
        "model.add(Conv2D(64, (4, 4), activation='relu'))\n",
        "model.add(Conv2D(32, (3, 3), activation='relu'))\n",
        "model.add(Conv2D(16, (2, 2), activation='relu'))\n",
        "model.add(Conv2D(8, (2, 2), activation='relu'))\n",
        "model.add(MaxPooling2D(pool_size=(2, 2)))\n",
        "#model.add(Dropout(0.25))\n",
        "model.add(Flatten())\n",
        "model.add(Dense(128, activation='relu'))\n",
        "#model.add(Dropout(0.5))\n",
        "model.add(Dense(num_classes, activation='softmax'))\n",
        "\n",
        "model.compile(loss=keras.losses.categorical_crossentropy,\n",
        "              optimizer=keras.optimizers.Adadelta(),\n",
        "              metrics=['accuracy'])\n",
        "\n",
        "history=model.fit(x_train, y_train,\n",
        "          batch_size=batch_size,\n",
        "          epochs=epochs,\n",
        "          verbose=1,\n",
        "          validation_data=(x_test, y_test))\n",
        "score = model.evaluate(x_test, y_test, verbose=0)\n",
        "print('Test loss:', score[0])\n",
        "print('Test accuracy:', score[1])"
      ],
      "execution_count": 0,
      "outputs": [
        {
          "output_type": "stream",
          "text": [
            "Train on 60000 samples, validate on 10000 samples\n",
            "Epoch 1/12\n",
            "60000/60000 [==============================] - 9s 156us/step - loss: 0.4436 - acc: 0.8556 - val_loss: 0.1067 - val_acc: 0.9656\n",
            "Epoch 2/12\n",
            "60000/60000 [==============================] - 5s 87us/step - loss: 0.0845 - acc: 0.9745 - val_loss: 0.0581 - val_acc: 0.9813\n",
            "Epoch 3/12\n",
            "60000/60000 [==============================] - 5s 89us/step - loss: 0.0593 - acc: 0.9818 - val_loss: 0.0571 - val_acc: 0.9822\n",
            "Epoch 4/12\n",
            "60000/60000 [==============================] - 5s 88us/step - loss: 0.0457 - acc: 0.9858 - val_loss: 0.0569 - val_acc: 0.9827\n",
            "Epoch 5/12\n",
            "60000/60000 [==============================] - 5s 88us/step - loss: 0.0373 - acc: 0.9886 - val_loss: 0.0354 - val_acc: 0.9886\n",
            "Epoch 6/12\n",
            "60000/60000 [==============================] - 5s 89us/step - loss: 0.0314 - acc: 0.9905 - val_loss: 0.0441 - val_acc: 0.9857\n",
            "Epoch 7/12\n",
            "60000/60000 [==============================] - 5s 88us/step - loss: 0.0278 - acc: 0.9914 - val_loss: 0.0382 - val_acc: 0.9888\n",
            "Epoch 8/12\n",
            "60000/60000 [==============================] - 5s 89us/step - loss: 0.0243 - acc: 0.9927 - val_loss: 0.0346 - val_acc: 0.9900\n",
            "Epoch 9/12\n",
            "60000/60000 [==============================] - 5s 88us/step - loss: 0.0207 - acc: 0.9935 - val_loss: 0.0404 - val_acc: 0.9896\n",
            "Epoch 10/12\n",
            "60000/60000 [==============================] - 5s 87us/step - loss: 0.0185 - acc: 0.9943 - val_loss: 0.0340 - val_acc: 0.9909\n",
            "Epoch 11/12\n",
            "60000/60000 [==============================] - 5s 88us/step - loss: 0.0168 - acc: 0.9946 - val_loss: 0.0404 - val_acc: 0.9887\n",
            "Epoch 12/12\n",
            "60000/60000 [==============================] - 5s 87us/step - loss: 0.0151 - acc: 0.9949 - val_loss: 0.0363 - val_acc: 0.9919\n",
            "Test loss: 0.03633129313154277\n",
            "Test accuracy: 0.9919\n"
          ],
          "name": "stdout"
        }
      ]
    },
    {
      "cell_type": "code",
      "metadata": {
        "id": "ZYLy9UTijEnb",
        "colab_type": "code",
        "outputId": "45f66373-98fe-4428-b3f2-36610976a062",
        "colab": {
          "base_uri": "https://localhost:8080/",
          "height": 279
        }
      },
      "source": [
        "fig,ax = plt.subplots(1,1)\n",
        "ax.set_xlabel('epoch') ; ax.set_ylabel('Categorical Crossentropy Loss')\n",
        "\n",
        "# list of epoch numbers\n",
        "x = list(range(1,epochs+1))\n",
        "\n",
        "# print(history.history.keys())\n",
        "# dict_keys(['val_loss', 'val_acc', 'loss', 'acc'])\n",
        "# history = model_drop.fit(X_train, Y_train, batch_size=batch_size, epochs=nb_epoch, verbose=1, validation_data=(X_test, Y_test))\n",
        "\n",
        "# we will get val_loss and val_acc only when you pass the paramter validation_data\n",
        "# val_loss : validation loss\n",
        "# val_acc : validation accuracy\n",
        "\n",
        "# loss : training loss\n",
        "# acc : train accuracy\n",
        "# for each key in histrory.histrory we will have a list of length equal to number of epochs\n",
        "\n",
        "vy = history.history['val_loss']\n",
        "ty = history.history['loss']\n",
        "plt_dynamic(x, vy, ty, ax)"
      ],
      "execution_count": 0,
      "outputs": [
        {
          "output_type": "display_data",
          "data": {
            "image/png": "[encoded data removed]",
            "text/plain": [
              "<Figure size 432x288 with 1 Axes>"
            ]
          },
          "metadata": {
            "tags": []
          }
        }
      ]
    },
    {
      "cell_type": "markdown",
      "metadata": {
        "id": "Hp0rVuMnG5bA",
        "colab_type": "text"
      },
      "source": [
        "## 7 LAYER CNN WITH POOL AND with DROPOUT"
      ]
    },
    {
      "cell_type": "code",
      "metadata": {
        "id": "erzL-ZZYHKav",
        "colab_type": "code",
        "outputId": "576b334f-7d43-4db9-85b3-451246fa803e",
        "colab": {
          "base_uri": "https://localhost:8080/",
          "height": 476
        }
      },
      "source": [
        "model = Sequential()\n",
        "model.add(Conv2D(64, kernel_size=(7, 7),\n",
        "                 activation='relu',\n",
        "                 input_shape=input_shape))\n",
        "model.add(Conv2D(32, (6, 6), activation='relu'))\n",
        "model.add(Conv2D(64, (5, 5), activation='relu'))\n",
        "model.add(Conv2D(64, (4, 4), activation='relu'))\n",
        "model.add(Conv2D(32, (3, 3), activation='relu'))\n",
        "model.add(Conv2D(16, (2, 2), activation='relu'))\n",
        "model.add(Conv2D(8, (2, 2), activation='relu'))\n",
        "#model.add(MaxPooling2D(pool_size=(2, 2)))\n",
        "#model.add(Dropout(0.25))\n",
        "model.add(Flatten())\n",
        "model.add(Dense(128, activation='relu'))\n",
        "#model.add(Dropout(0.5))\n",
        "model.add(Dense(num_classes, activation='softmax'))\n",
        "\n",
        "model.compile(loss=keras.losses.categorical_crossentropy,\n",
        "              optimizer=keras.optimizers.Adadelta(),\n",
        "              metrics=['accuracy'])\n",
        "\n",
        "history=model.fit(x_train, y_train,\n",
        "          batch_size=batch_size,\n",
        "          epochs=epochs,\n",
        "          verbose=1,\n",
        "          validation_data=(x_test, y_test))\n",
        "score = model.evaluate(x_test, y_test, verbose=0)\n",
        "print('Test loss:', score[0])\n",
        "print('Test accuracy:', score[1])"
      ],
      "execution_count": 0,
      "outputs": [
        {
          "output_type": "stream",
          "text": [
            "Train on 60000 samples, validate on 10000 samples\n",
            "Epoch 1/12\n",
            "60000/60000 [==============================] - 10s 159us/step - loss: 0.4332 - acc: 0.8593 - val_loss: 0.1166 - val_acc: 0.9631\n",
            "Epoch 2/12\n",
            "60000/60000 [==============================] - 5s 90us/step - loss: 0.0898 - acc: 0.9732 - val_loss: 0.0623 - val_acc: 0.9807\n",
            "Epoch 3/12\n",
            "60000/60000 [==============================] - 5s 89us/step - loss: 0.0611 - acc: 0.9819 - val_loss: 0.0679 - val_acc: 0.9778\n",
            "Epoch 4/12\n",
            "60000/60000 [==============================] - 5s 89us/step - loss: 0.0474 - acc: 0.9860 - val_loss: 0.0444 - val_acc: 0.9878\n",
            "Epoch 5/12\n",
            "60000/60000 [==============================] - 5s 89us/step - loss: 0.0384 - acc: 0.9883 - val_loss: 0.0553 - val_acc: 0.9829\n",
            "Epoch 6/12\n",
            "60000/60000 [==============================] - 5s 89us/step - loss: 0.0311 - acc: 0.9900 - val_loss: 0.0436 - val_acc: 0.9879\n",
            "Epoch 7/12\n",
            "60000/60000 [==============================] - 5s 87us/step - loss: 0.0263 - acc: 0.9919 - val_loss: 0.0357 - val_acc: 0.9890\n",
            "Epoch 8/12\n",
            "60000/60000 [==============================] - 5s 87us/step - loss: 0.0225 - acc: 0.9930 - val_loss: 0.0289 - val_acc: 0.9908\n",
            "Epoch 9/12\n",
            "60000/60000 [==============================] - 5s 89us/step - loss: 0.0201 - acc: 0.9936 - val_loss: 0.0336 - val_acc: 0.9901\n",
            "Epoch 10/12\n",
            "60000/60000 [==============================] - 5s 88us/step - loss: 0.0170 - acc: 0.9948 - val_loss: 0.0337 - val_acc: 0.9910\n",
            "Epoch 11/12\n",
            "60000/60000 [==============================] - 5s 89us/step - loss: 0.0148 - acc: 0.9956 - val_loss: 0.0426 - val_acc: 0.9868\n",
            "Epoch 12/12\n",
            "60000/60000 [==============================] - 5s 88us/step - loss: 0.0137 - acc: 0.9957 - val_loss: 0.0240 - val_acc: 0.9922\n",
            "Test loss: 0.023981265296157062\n",
            "Test accuracy: 0.9922\n"
          ],
          "name": "stdout"
        }
      ]
    },
    {
      "cell_type": "code",
      "metadata": {
        "id": "YT2INIZ8jMYs",
        "colab_type": "code",
        "outputId": "46bf2104-89b8-45f5-e88e-dc18e069d9f3",
        "colab": {
          "base_uri": "https://localhost:8080/",
          "height": 279
        }
      },
      "source": [
        "fig,ax = plt.subplots(1,1)\n",
        "ax.set_xlabel('epoch') ; ax.set_ylabel('Categorical Crossentropy Loss')\n",
        "\n",
        "# list of epoch numbers\n",
        "x = list(range(1,epochs+1))\n",
        "\n",
        "# print(history.history.keys())\n",
        "# dict_keys(['val_loss', 'val_acc', 'loss', 'acc'])\n",
        "# history = model_drop.fit(X_train, Y_train, batch_size=batch_size, epochs=nb_epoch, verbose=1, validation_data=(X_test, Y_test))\n",
        "\n",
        "# we will get val_loss and val_acc only when you pass the paramter validation_data\n",
        "# val_loss : validation loss\n",
        "# val_acc : validation accuracy\n",
        "\n",
        "# loss : training loss\n",
        "# acc : train accuracy\n",
        "# for each key in histrory.histrory we will have a list of length equal to number of epochs\n",
        "\n",
        "vy = history.history['val_loss']\n",
        "ty = history.history['loss']\n",
        "plt_dynamic(x, vy, ty, ax)"
      ],
      "execution_count": 0,
      "outputs": [
        {
          "output_type": "display_data",
          "data": {
            "image/png": "[encoded data removed]",
            "text/plain": [
              "<Figure size 432x288 with 1 Axes>"
            ]
          },
          "metadata": {
            "tags": []
          }
        }
      ]
    },
    {
      "cell_type": "markdown",
      "metadata": {
        "id": "nqBJKojeNoaF",
        "colab_type": "text"
      },
      "source": [
        ""
      ]
    },
    {
      "cell_type": "code",
      "metadata": {
        "id": "0sLauHdTNosH",
        "colab_type": "code",
        "colab": {}
      },
      "source": [
        "# Please compare all your models using Prettytable library\n",
        "from prettytable import PrettyTable\n",
        "x = PrettyTable()\n",
        "x.field_names = [\"layer\", \"type\", \"log_loss\",\"accuracy\"]"
      ],
      "execution_count": 0,
      "outputs": []
    },
    {
      "cell_type": "code",
      "metadata": {
        "id": "zbZrQZonNy2E",
        "colab_type": "code",
        "colab": {}
      },
      "source": [
        "\n",
        "x.add_row(['2_layer','with dropout and max_pool',0.025834757073652508,0.9917])\n",
        "x.add_row(['3_layer','without dropout and max_pool',0.03626536663422669,0.9913])\n",
        "x.add_row(['3_layer','without dropout and with max_pool',0.0424302609148956,0.991])\n",
        "x.add_row(['3_layer','with dropout and with max_pool', 0.02645539062270691,0.9919])\n",
        "x.add_row(['5_layer','without dropout and  max_pool',0.04818914521079446,0.9911])\n",
        "x.add_row(['5_layer','without dropout and with max_pool',0.036880395430549655,0.992])\n",
        "x.add_row(['5_layer','with dropout and with max_pool',0.02116763367687945,0.9924])\n",
        "x.add_row(['7_layer','without dropout and without max_pool',0.04047466987816365,0.9909])\n",
        "x.add_row(['7_layer','without dropout and with max_pool',0.03633129313154277,0.9919])\n",
        "x.add_row(['7_layer','with dropout and with max_pool',0.023981265296157062,0.9922])"
      ],
      "execution_count": 0,
      "outputs": []
    },
    {
      "cell_type": "code",
      "metadata": {
        "id": "m74jhHU3T3ay",
        "colab_type": "code",
        "outputId": "0fdc2f2b-45bf-45bf-9e1a-36d6fb149044",
        "colab": {
          "base_uri": "https://localhost:8080/",
          "height": 255
        }
      },
      "source": [
        "print(x)"
      ],
      "execution_count": 0,
      "outputs": [
        {
          "output_type": "stream",
          "text": [
            "+---------+--------------------------------------+----------------------+----------+\n",
            "|  layer  |                 type                 |       log_loss       | accuracy |\n",
            "+---------+--------------------------------------+----------------------+----------+\n",
            "| 2_layer |      with dropout and max_pool       | 0.025834757073652508 |  0.9917  |\n",
            "| 3_layer |     without dropout and max_pool     | 0.03626536663422669  |  0.9913  |\n",
            "| 3_layer |  without dropout and with max_pool   |  0.0424302609148956  |  0.991   |\n",
            "| 3_layer |    with dropout and with max_pool    | 0.02645539062270691  |  0.9919  |\n",
            "| 5_layer |    without dropout and  max_pool     | 0.04818914521079446  |  0.9911  |\n",
            "| 5_layer |  without dropout and with max_pool   | 0.036880395430549655 |  0.992   |\n",
            "| 5_layer |    with dropout and with max_pool    | 0.02116763367687945  |  0.9924  |\n",
            "| 7_layer | without dropout and without max_pool | 0.04047466987816365  |  0.9909  |\n",
            "| 7_layer |  without dropout and with max_pool   | 0.03633129313154277  |  0.9919  |\n",
            "| 7_layer |    with dropout and with max_pool    | 0.023981265296157062 |  0.9922  |\n",
            "+---------+--------------------------------------+----------------------+----------+\n"
          ],
          "name": "stdout"
        }
      ]
    },
    {
      "cell_type": "markdown",
      "metadata": {
        "id": "pl6H4dtxUEc8",
        "colab_type": "text"
      },
      "source": [
        "### note\n",
        "- 3 layer cnn use (5,5),(3,3),(2,2) kernel\n",
        "- 5 layre cnn use (5,5),(4,4),(3,3),(2,2),(2,2) kernel\n",
        "- 7 layer cnn use (7,7),(6,6),(5,5),(4,4),(3,3),(2,2),(2,2) kernel"
      ]
    }
  ]
}